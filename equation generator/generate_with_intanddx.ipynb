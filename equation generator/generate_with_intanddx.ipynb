{
 "cells": [
  {
   "cell_type": "markdown",
   "metadata": {},
   "source": [
    "# Generator\n",
    "This notebook generates two types of equations:\n",
    "- one-line inequalities (incl. powers)\n",
    "- equalities with a fraction\n",
    "It generates train and test image"
   ]
  },
  {
   "cell_type": "code",
   "execution_count": 1,
   "metadata": {},
   "outputs": [],
   "source": [
    "import numpy as np\n",
    "from os import listdir\n",
    "from skimage import io\n",
    "import matplotlib.pyplot as plt\n",
    "from scipy import ndimage\n",
    "from skimage.transform import resize, rotate\n",
    "from skimage.util import random_noise, invert\n",
    "from skimage.color import gray2rgb\n",
    "\n",
    "import math\n",
    "import os\n",
    "import json\n",
    "import cv2"
   ]
  },
  {
   "cell_type": "code",
   "execution_count": 2,
   "metadata": {},
   "outputs": [],
   "source": [
    "path_parent = os.path.dirname(os.getcwd())\n",
    "read_path = os.path.join(path_parent,\"dataset/extracted_images\")\n",
    "train = True ##sets the mode train or test\n",
    "if train:\n",
    "    write_single_path = os.path.join(path_parent,\"normalized/train\")\n",
    "    formula_path = os.path.join(path_parent,\"formulas/train/fractions\")\n",
    "    os.makedirs(write_single_path)\n",
    "    os.makedirs(formula_path)\n",
    "else:\n",
    "    write_single_path = os.path.join(path_parent,\"/normalized/test\")\n",
    "    formula_path = os.path.join(path_parent,\"formulas/test/fractions\")\n",
    "    os.makedirs(write_single_path)\n",
    "    os.makedirs(formula_path)"
   ]
  },
  {
   "cell_type": "code",
   "execution_count": 3,
   "metadata": {},
   "outputs": [
    {
     "name": "stdout",
     "output_type": "stream",
     "text": [
      "{'0': 0, '1': 1, '2': 2, '3': 3, '4': 4, '5': 5, '6': 6, '7': 7, '8': 8, '9': 9, '-': 10, '+': 11, '=': 12, 'leq': 13, 'neq': 14, 'geq': 15, 'alpha': 16, 'beta': 17, 'lambda': 18, 'lt': 19, 'gt': 20, 'x': 21, 'y': 22, 'int': 23, 'd': 24, 'sin': 25, 'cos': 26, 'tan': 27}\n"
     ]
    }
   ],
   "source": [
    "label_names = ['0', '1', '2', '3', '4', '5', '6', '7', '8', '9', '-', '+', '=', 'leq', 'neq', 'geq', 'alpha','beta', 'lambda' ,'lt', 'gt', 'x', 'y','int','d','sin','cos','tan'] #added 21/05 -vikram \n",
    "label_names_dict = dict()\n",
    "for label,no in zip(label_names,list(range(len(label_names)))):\n",
    "    label_names_dict[label] = no\n",
    "    if not os.path.exists(write_single_path+\"/\"+label):\n",
    "        os.makedirs(write_single_path+\"/\"+label)\n",
    "        \n",
    "    \n",
    "print(label_names_dict)"
   ]
  },
  {
   "cell_type": "code",
   "execution_count": 4,
   "metadata": {},
   "outputs": [],
   "source": [
    "def crop(img):\n",
    "    crop = np.copy(img)/255\n",
    "    h,w = img.shape\n",
    "    left = 0\n",
    "    while left < w//2 and np.sum(crop[:,left]) >= 0.98*h:\n",
    "        left += 1\n",
    "    right = w-1\n",
    "    while right > w//2 and np.sum(crop[:,right]) >= 0.98*h:\n",
    "        right -= 1\n",
    "    if left > 0:\n",
    "        left -1\n",
    "    if right < h-1:\n",
    "        right += 1\n",
    "    crop = crop[:,left:right]\n",
    "    \n",
    "    top = 0\n",
    "    while top < h//2 and np.sum(crop[top,:]) >= 0.98*w:\n",
    "        top += 1\n",
    "    bottom = h-1\n",
    "    while bottom > h//2 and np.sum(crop[bottom,:]) >= 0.98*w:\n",
    "        bottom -= 1\n",
    "    if top > 0:\n",
    "        top -= 1\n",
    "    if bottom < h-1:\n",
    "        bottom += 1\n",
    "    crop = crop[top:bottom,:]*255\n",
    "    return crop\n",
    "\n",
    "def add_symbol_to_image(img,folder,choices,padding,minsize,maxsize,bpower=False,bsmall=False,bnom=False,bden=False,\n",
    "                        width=False):\n",
    "    choice = np.random.randint(len(choices))\n",
    "    symbol_img = io.imread(read_path+\"/\"+folder+\"/\"+choices[choice])\n",
    "    new_width = np.random.randint(minsize,maxsize+1)\n",
    "    new_height = np.random.randint(minsize,maxsize+1)\n",
    "    if width is not False:\n",
    "        new_width = width\n",
    "    symbol_img_res = resize(symbol_img, (new_height, new_width), cval=1)*255\n",
    "    symbol_img_res = crop(symbol_img_res)\n",
    "    new_height, new_width = symbol_img_res.shape\n",
    "    shift = np.random.randint(-4+(60-new_height)//2,4+(60-new_height)//2)\n",
    "\n",
    "    \n",
    "    bounding_box = {\n",
    "        'xmin': padding,\n",
    "        'xmax': padding+new_width,\n",
    "        'ymin': 65+shift-15*bpower+10*bsmall-30*bnom+30*bden,\n",
    "        'ymax': 65+shift+new_height-15*bpower+10*bsmall-30*bnom+30*bden,\n",
    "        'class_text': folder,\n",
    "        'class': label_names_dict[folder]\n",
    "    }\n",
    "    \n",
    "    if folder == \"y\" or folder == \"beta\":\n",
    "        bounding_box['ymin'] += 10\n",
    "        bounding_box['ymax'] += 10\n",
    "                       \n",
    "    \n",
    "    xmin, xmax = bounding_box['xmin'],bounding_box['xmax']\n",
    "    ymin, ymax = bounding_box['ymin'],bounding_box['ymax']\n",
    "    \n",
    "    img[ymin:ymax,xmin:xmax] += invert(symbol_img_res)+254\n",
    "    padding += new_width+np.random.randint(2,5)\n",
    "    \n",
    "    return img,padding,bounding_box\n",
    "\n",
    "def add_rectangles(img, bounding_boxes):\n",
    "    img_color = np.asarray(np.dstack((img, img, img)), dtype=np.uint8)\n",
    "    for bounding_box in bounding_boxes[1:]:\n",
    "        xmin, xmax = bounding_box['xmin'], bounding_box['xmax']\n",
    "        ymin, ymax = bounding_box['ymin'], bounding_box['ymax']\n",
    "        img_color[ymin,xmin:xmax] = [255,0,0]\n",
    "        img_color[ymax,xmin:xmax] = [255,0,0]\n",
    "        img_color[ymin:ymax,xmin] = [255,0,0]\n",
    "        img_color[ymin:ymax,xmax] = [255,0,0]\n",
    "    return img_color"
   ]
  },
  {
   "cell_type": "code",
   "execution_count": 5,
   "metadata": {},
   "outputs": [],
   "source": [
    "def normalize_single(symbol):\n",
    "    symbol = np.copy(symbol)\n",
    "    symbol /= np.max(symbol)\n",
    "    rows, cols = symbol.shape\n",
    "    # scale to 40x40\n",
    "    inner_size = 40\n",
    "    if rows > cols:\n",
    "        factor = inner_size/rows\n",
    "        rows = inner_size\n",
    "        cols = int(round(cols*factor))\n",
    "        inner = cv2.resize(symbol, (cols,rows))\n",
    "    else:\n",
    "        factor = inner_size/cols\n",
    "        cols = inner_size\n",
    "        rows = int(round(rows*factor))\n",
    "        inner = cv2.resize(symbol, (cols, rows))\n",
    "        \n",
    "    # pad to 48x48\n",
    "    outer_size = 48\n",
    "    colsPadding = (int(math.ceil((outer_size-cols)/2.0)),int(math.floor((outer_size-cols)/2.0)))\n",
    "    rowsPadding = (int(math.ceil((outer_size-rows)/2.0)),int(math.floor((outer_size-rows)/2.0)))\n",
    "    outer = np.pad(inner,(rowsPadding,colsPadding),'constant', constant_values=(1,1))\n",
    "    \n",
    "    # center the mass\n",
    "    shiftx,shifty = getBestShift(outer)\n",
    "    shifted = shift(outer,shiftx,shifty)\n",
    "    return shifted\n",
    "    \n",
    "def getBestShift(img):\n",
    "    inv = invert(img)\n",
    "    cy,cx = ndimage.measurements.center_of_mass(inv)\n",
    "\n",
    "    rows,cols = img.shape\n",
    "    shiftx = np.round(cols/2.0-cx).astype(int)\n",
    "    shifty = np.round(rows/2.0-cy).astype(int)\n",
    "\n",
    "    return shiftx,shifty\n",
    "\n",
    "def shift(img,sx,sy):\n",
    "    rows,cols = img.shape\n",
    "    M = np.float32([[1,0,sx],[0,1,sy]])\n",
    "    shifted = cv2.warpAffine(img,M,(cols,rows), borderValue=1)\n",
    "    return shifted  "
   ]
  },
  {
   "cell_type": "code",
   "execution_count": 6,
   "metadata": {},
   "outputs": [
    {
     "name": "stdout",
     "output_type": "stream",
     "text": [
      "Filename:  684x^4+118 #sin875_62144.jpg\n"
     ]
    },
    {
     "name": "stderr",
     "output_type": "stream",
     "text": [
      "Lossy conversion from float64 to uint8. Range [0, 1]. Convert image to uint8 prior to saving to suppress this warning.\n",
      "Lossy conversion from float64 to uint8. Range [0, 1]. Convert image to uint8 prior to saving to suppress this warning.\n",
      "Lossy conversion from float64 to uint8. Range [0, 1]. Convert image to uint8 prior to saving to suppress this warning.\n",
      "Lossy conversion from float64 to uint8. Range [0, 1]. Convert image to uint8 prior to saving to suppress this warning.\n",
      "Lossy conversion from float64 to uint8. Range [0, 1]. Convert image to uint8 prior to saving to suppress this warning.\n",
      "Lossy conversion from float64 to uint8. Range [0, 1]. Convert image to uint8 prior to saving to suppress this warning.\n",
      "Lossy conversion from float64 to uint8. Range [0, 1]. Convert image to uint8 prior to saving to suppress this warning.\n",
      "Lossy conversion from float64 to uint8. Range [0, 1]. Convert image to uint8 prior to saving to suppress this warning.\n",
      "Lossy conversion from float64 to uint8. Range [0, 1]. Convert image to uint8 prior to saving to suppress this warning.\n",
      "Lossy conversion from float64 to uint8. Range [0, 1]. Convert image to uint8 prior to saving to suppress this warning.\n",
      "Lossy conversion from float64 to uint8. Range [0, 1]. Convert image to uint8 prior to saving to suppress this warning.\n",
      "Lossy conversion from float64 to uint8. Range [0, 1]. Convert image to uint8 prior to saving to suppress this warning.\n",
      "Lossy conversion from float64 to uint8. Range [0, 1]. Convert image to uint8 prior to saving to suppress this warning.\n",
      "Lossy conversion from float64 to uint8. Range [0, 1]. Convert image to uint8 prior to saving to suppress this warning.\n",
      "Lossy conversion from float64 to uint8. Range [0, 1]. Convert image to uint8 prior to saving to suppress this warning.\n",
      "Lossy conversion from float64 to uint8. Range [0, 1]. Convert image to uint8 prior to saving to suppress this warning.\n",
      "Lossy conversion from float64 to uint8. Range [0, 1]. Convert image to uint8 prior to saving to suppress this warning.\n",
      "Lossy conversion from float64 to uint8. Range [0, 1]. Convert image to uint8 prior to saving to suppress this warning.\n"
     ]
    },
    {
     "name": "stdout",
     "output_type": "stream",
     "text": [
      "Finished:  0\n",
      "Filename:  412x^4+193 #cos 555_39437.jpg\n"
     ]
    },
    {
     "name": "stderr",
     "output_type": "stream",
     "text": [
      "Lossy conversion from float64 to uint8. Range [0, 1]. Convert image to uint8 prior to saving to suppress this warning.\n",
      "Lossy conversion from float64 to uint8. Range [0, 1]. Convert image to uint8 prior to saving to suppress this warning.\n",
      "Lossy conversion from float64 to uint8. Range [0, 1]. Convert image to uint8 prior to saving to suppress this warning.\n",
      "Lossy conversion from float64 to uint8. Range [0, 1]. Convert image to uint8 prior to saving to suppress this warning.\n",
      "Lossy conversion from float64 to uint8. Range [0, 1]. Convert image to uint8 prior to saving to suppress this warning.\n",
      "Lossy conversion from float64 to uint8. Range [0, 1]. Convert image to uint8 prior to saving to suppress this warning.\n",
      "Lossy conversion from float64 to uint8. Range [0, 1]. Convert image to uint8 prior to saving to suppress this warning.\n",
      "Lossy conversion from float64 to uint8. Range [0, 1]. Convert image to uint8 prior to saving to suppress this warning.\n",
      "Lossy conversion from float64 to uint8. Range [0, 1]. Convert image to uint8 prior to saving to suppress this warning.\n",
      "Lossy conversion from float64 to uint8. Range [0, 1]. Convert image to uint8 prior to saving to suppress this warning.\n",
      "Lossy conversion from float64 to uint8. Range [0, 1]. Convert image to uint8 prior to saving to suppress this warning.\n",
      "Lossy conversion from float64 to uint8. Range [0, 1]. Convert image to uint8 prior to saving to suppress this warning.\n",
      "Lossy conversion from float64 to uint8. Range [0, 1]. Convert image to uint8 prior to saving to suppress this warning.\n",
      "Lossy conversion from float64 to uint8. Range [0, 1]. Convert image to uint8 prior to saving to suppress this warning.\n",
      "Lossy conversion from float64 to uint8. Range [0, 1]. Convert image to uint8 prior to saving to suppress this warning.\n",
      "Lossy conversion from float64 to uint8. Range [0, 1]. Convert image to uint8 prior to saving to suppress this warning.\n",
      "Lossy conversion from float64 to uint8. Range [0, 1]. Convert image to uint8 prior to saving to suppress this warning.\n",
      "Lossy conversion from float64 to uint8. Range [0, 1]. Convert image to uint8 prior to saving to suppress this warning.\n"
     ]
    },
    {
     "name": "stdout",
     "output_type": "stream",
     "text": [
      "Finished:  1\n"
     ]
    }
   ],
   "source": [
    "# simple equations\n",
    "list_digits = []\n",
    "for i in range(10):\n",
    "    list_digits.append(listdir(read_path+\"/\"+str(i)))\n",
    "list_int = listdir(read_path+\"/int\")  #added 21/05 -v\n",
    "list_d = listdir(read_path+\"/d\")  #added 21/05 -v\n",
    "list_plus = listdir(read_path+\"/+\")\n",
    "list_minus = listdir(read_path+\"/-\")\n",
    "\n",
    "#commented 22/05 -p\n",
    "#list_lt = listdir(read_path+\"/lt\")\n",
    "#list_gt= listdir(read_path+\"/gt\")\n",
    "#list_leq = listdir(read_path+\"/leq\")\n",
    "#list_geq = listdir(read_path+\"/geq\")\n",
    "#list_neq = listdir(read_path+\"/neq\")\n",
    "#list_equal = listdir(read_path+\"/=\")\n",
    "list_sin= listdir(read_path+\"/sin\") #added 22/05 -p\n",
    "list_cos= listdir(read_path+\"/cos\") #added 22/05 -p\n",
    "list_tan= listdir(read_path+\"/tan\") #added 22/05 -p\n",
    "#list_alpha = listdir(read_path+\"/alpha\")\n",
    "#list_beta = listdir(read_path+\"/beta\")\n",
    "#list_lambda = listdir(read_path+\"/lambda\")\n",
    "list_x = listdir(read_path+\"/x\")\n",
    "#list_y = listdir(read_path+\"/y\")\n",
    "\n",
    "if train: \n",
    "    for i in range(10):\n",
    "        list_digits[i] = list_digits[i][len(list_digits[i])//4:]\n",
    "    list_int = list_int[len(list_int)//4:]      #added 21/05 -v\n",
    "    list_d = list_d[len(list_d)//4:]      #added 21/05 -v\n",
    "    list_plus = list_plus[len(list_plus)//4:]\n",
    "    list_minus = list_minus[len(list_minus)//4:]\n",
    "    #commented 22/05 -p\n",
    "    #list_lt = list_lt[len(list_lt)//4:]\n",
    "    #list_gt = list_gt[len(list_gt)//4:]\n",
    "    #list_leq = list_leq[len(list_leq)//4:]\n",
    "    #list_geq = list_geq[len(list_geq)//4:]\n",
    "    #list_neq = list_neq[len(list_neq)//4:]\n",
    "    #list_equal = list_equal[len(list_equal)//4:]\n",
    "    list_sin = list_sin[len(list_sin)//4:]  #added 22/05 -p\n",
    "    list_cos = list_cos[len(list_cos)//4:]  #added 22/05 -p\n",
    "    list_tan = list_tan[len(list_tan)//4:]  #added 22/05 -p\n",
    "    #list_alpha = list_alpha[len(list_alpha)//4:]\n",
    "    #list_beta = list_beta[len(list_beta)//4:]\n",
    "    #list_lambda = list_lambda[len(list_lambda)//4:]\n",
    "    list_x = list_x[len(list_x)//4:]\n",
    "    #list_y = list_y[len(list_y)//4:]\n",
    "else:\n",
    "    for i in range(10):\n",
    "        list_digits[i] = list_digits[i][:len(list_digits[i])//4]\n",
    "    list_int = list_int[:len(list_int)//4]      #added 21/05 -v  \n",
    "    list_d = list_d[:len(list_d)//4]      #added 21/05 -v\n",
    "    list_plus = list_plus[:len(list_plus)//4]\n",
    "    list_minus = list_minus[:len(list_minus)//4]\n",
    "    #commented 22/05 -p\n",
    "    #list_lt = list_lt[:len(list_lt)//4]\n",
    "    #list_gt = list_gt[:len(list_gt)//4]\n",
    "    #list_leq = list_leq[:len(list_leq)//4]\n",
    "    #list_geq = list_geq[:len(list_geq)//4]\n",
    "    #list_neq = list_neq[:len(list_neq)//4]\n",
    "    #list_equal = list_equal[:len(list_equal)//4]\n",
    "    list_sin = list_sin[:len(list_sin)//4]  #added 22/05 -p\n",
    "    list_cos = list_cos[:len(list_sin)//4]  #added 22/05 -p\n",
    "    list_tan = list_tan[:len(list_sin)//4]  #added 22/05 -p\n",
    "    #list_alpha = list_alpha[:len(list_alpha)//4]\n",
    "    #list_beta = list_beta[:len(list_beta)//4]\n",
    "    #list_lambda = list_lambda[:len(list_lambda)//4]\n",
    "    list_x = list_x[:len(list_x)//4]\n",
    "    #list_y = list_y[:len(list_y)//4]\n",
    "\n",
    "list_mid = [list_minus,list_plus]\n",
    "#commented 22/05 -p\n",
    "#list_end = [list_lt,list_gt,list_leq,list_geq,list_neq,list_equal]  \n",
    "list_end = [list_sin,list_cos,list_tan]  #added 22/05 -p\n",
    "#commented 22/05 -p\n",
    "#list_variables = [list_alpha,list_beta,list_lambda,list_x,list_y]\n",
    "list_variables = [list_x]  #added 22/05 -p\n",
    "var_names = [\"x\"]\n",
    "    \n",
    "# os.mkdir(write_path_add)\n",
    "bounding_boxes = []\n",
    "for i in range(2):\n",
    "    random_name = str(np.random.randint(1,99999))\n",
    "    img = np.zeros((140,75*(4+4+4)))\n",
    "    rand_num_1 = np.random.randint(1,1000)\n",
    "    rand_num_2 = np.random.randint(1,1000)\n",
    "    mid = np.random.randint(2)\n",
    "    if mid:\n",
    "        mid_str = \"+\"\n",
    "        result = rand_num_1+rand_num_2\n",
    "    else:\n",
    "        mid_str = \"-\"\n",
    "        result = rand_num_1-rand_num_2\n",
    "    result_type = np.random.randint(3)\n",
    "    if result_type == 0:\n",
    "        #end_str = \" #lt \"\n",
    "        end_str = \" #sin\"\n",
    "        result += np.random.randint(100)\n",
    "    elif result_type == 1:\n",
    "        #end_str = \" #gt \"\n",
    "        end_str = \" #cos \"\n",
    "        result -= np.random.randint(100)\n",
    "    elif result_type == 2:\n",
    "        #end_str = \" #leq \"\n",
    "        end_str = \" #tan \"\n",
    "        result += np.random.randint(100)\n",
    "    elif result_type == 3:\n",
    "        #end_str = \" #geq \"\n",
    "        end_str = \" #sin\"\n",
    "        result -= np.random.randint(100)\n",
    "    elif result_type == 4:\n",
    "        #end_str = \" #neq \"\n",
    "        end_str = \" #cos \"\n",
    "        result += 1+np.random.randint(100)\n",
    "    else:\n",
    "        end_str = \" = \"\n",
    "    if end_str != \" = \":\n",
    "        var_type = np.random.randint(len(list_variables))\n",
    "        var = var_names[var_type]\n",
    "        exp = \"^\"+str(np.random.randint(2,5))\n",
    "    else:\n",
    "        var = \"\"\n",
    "        exp = \"\"\n",
    "    \n",
    "    rand_num_1_str = str(rand_num_1)\n",
    "    rand_num_2_str = str(rand_num_2)\n",
    "    result_str = str(result)\n",
    "    num_strs = [rand_num_1_str,rand_num_2_str,result_str]\n",
    "    filename = rand_num_1_str+var+exp+mid_str+rand_num_2_str+end_str+result_str+\"_\"+random_name+\".jpg\"\n",
    "    print(\"Filename: \", filename)\n",
    "    bounding_box = [{'filename': filename}]\n",
    "    padding = 5\n",
    "    class_names = []\n",
    "    \n",
    "    ##adding the integral to image\n",
    "    img, padding, new_bounding_box = add_symbol_to_image(img,'int',list_int,\n",
    "                                                                     padding,70,75)\n",
    "    bounding_box.append(new_bounding_box)\n",
    "    class_names.append('int')\n",
    "    #added 21/05 - v\n",
    "    \n",
    "    for k in range(3):\n",
    "        for j in range(len(num_strs[k])):\n",
    "            if j == 0 and num_strs[k][0] == '-':\n",
    "                img, padding, new_bounding_box = add_symbol_to_image(img,'-',list_minus,padding,39,45)\n",
    "                bounding_box.append(new_bounding_box)\n",
    "                class_names.append('-')\n",
    "            else:\n",
    "                digit = int(num_strs[k][j])\n",
    "                img, padding, new_bounding_box = add_symbol_to_image(img,str(digit),list_digits[digit],\n",
    "                                                                     padding,55,60)\n",
    "                bounding_box.append(new_bounding_box)\n",
    "                class_names.append(str(digit))\n",
    "        if k == 0:\n",
    "            if var != \"\":\n",
    "                var_str_crop = var.strip()\n",
    "                var_str_crop = var_str_crop.replace(\"#\",\"\")\n",
    "                img, padding, new_bounding_box = add_symbol_to_image(img,var_str_crop,list_variables[var_type],\n",
    "                                                                     padding,40,45,bsmall=True)\n",
    "                bounding_box.append(new_bounding_box)\n",
    "                class_names.append(var_str_crop)\n",
    "                \n",
    "                pdigit = int(exp[1:])\n",
    "                img, padding, new_bounding_box = add_symbol_to_image(img,str(pdigit),list_digits[pdigit],\n",
    "                                                                     padding,35,40,bpower=True)\n",
    "                bounding_box.append(new_bounding_box)\n",
    "                class_names.append(exp[1:])\n",
    "                \n",
    "            img, padding, new_bounding_box = add_symbol_to_image(img,mid_str,list_mid[mid],\n",
    "                                                                     padding,39,54)\n",
    "            bounding_box.append(new_bounding_box)\n",
    "            class_names.append(mid_str)\n",
    "        elif k == 1:\n",
    "            end_str_crop = end_str.strip()\n",
    "            end_str_crop = end_str_crop.replace(\"#\",\"\")\n",
    "            img, padding, new_bounding_box = add_symbol_to_image(img,end_str_crop,list_end[result_type],\n",
    "                                                                     padding,39,54)\n",
    "            bounding_box.append(new_bounding_box)\n",
    "            class_names.append(end_str_crop)\n",
    "            #adding x to sin\n",
    "            img, padding, new_bounding_box = add_symbol_to_image(img,'x',list_x,\n",
    "                                                                     padding,50,55)\n",
    "            bounding_box.append(new_bounding_box)\n",
    "            class_names.append('x')\n",
    "            #added 22/05 -p\n",
    "            \n",
    "    ##adding the dx to image\n",
    "    img, padding, new_bounding_box = add_symbol_to_image(img,'d',list_d,\n",
    "                                                                     padding,50,55)\n",
    "    bounding_box.append(new_bounding_box)\n",
    "    class_names.append('d')\n",
    "    img, padding, new_bounding_box = add_symbol_to_image(img,'x',list_x,\n",
    "                                                                     padding,50,55)\n",
    "    bounding_box.append(new_bounding_box)\n",
    "    class_names.append('x')\n",
    "    \n",
    "    #added 21/05 - v        \n",
    "            \n",
    "    bounding_boxes.append(bounding_box)\n",
    "    img = invert(img)+254\n",
    "#     plt.figure(figsize=(20,10))\n",
    "#     plt.imshow(img, cmap=\"gray\")\n",
    "#     plt.show()\n",
    "    for bb,cname in zip(bounding_box[1:],class_names):\n",
    "        xmin, xmax = bb['xmin'], bb['xmax']\n",
    "        ymin, ymax = bb['ymin'], bb['ymax']\n",
    "    \n",
    "        normed = normalize_single(img[ymin:ymax+1,xmin:xmax+1])\n",
    "        r = np.random.randint(9999)\n",
    "        io.imsave(write_single_path+\"/\"+cname+\"/\"+cname+\"_\"+str(r)+\".jpg\", normed)\n",
    "    \n",
    "    io.imsave(formula_path+\"/\"+filename, img/255)\n",
    "    print(\"Finished: \", i)\n"
   ]
  },
  {
   "cell_type": "code",
   "execution_count": null,
   "metadata": {},
   "outputs": [
    {
     "name": "stdout",
     "output_type": "stream",
     "text": [
      "Filename:  #frac{431}{173}x^3-533 #tan -61_28466.jpg\n"
     ]
    },
    {
     "name": "stderr",
     "output_type": "stream",
     "text": [
      "Lossy conversion from float64 to uint8. Range [-0.9966144731273697, 1.0]. Convert image to uint8 prior to saving to suppress this warning.\n"
     ]
    },
    {
     "name": "stdout",
     "output_type": "stream",
     "text": [
      "Finished:  0\n",
      "Filename:  #frac{490}{221}x^4-917 #sin-417_65489.jpg\n"
     ]
    },
    {
     "name": "stderr",
     "output_type": "stream",
     "text": [
      "Lossy conversion from float64 to uint8. Range [-0.9623497786211207, 1.0]. Convert image to uint8 prior to saving to suppress this warning.\n"
     ]
    },
    {
     "name": "stdout",
     "output_type": "stream",
     "text": [
      "Finished:  1\n",
      "Filename:  #frac{446}{111}x^3+555 #sin1046_38781.jpg\n"
     ]
    },
    {
     "name": "stderr",
     "output_type": "stream",
     "text": [
      "Lossy conversion from float64 to uint8. Range [-0.8138297872340541, 1.0]. Convert image to uint8 prior to saving to suppress this warning.\n"
     ]
    },
    {
     "name": "stdout",
     "output_type": "stream",
     "text": [
      "Finished:  2\n",
      "Filename:  #frac{437}{115}x^2+799 #tan 1316_59366.jpg\n"
     ]
    },
    {
     "name": "stderr",
     "output_type": "stream",
     "text": [
      "Lossy conversion from float64 to uint8. Range [-0.8027070127982551, 1.0]. Convert image to uint8 prior to saving to suppress this warning.\n"
     ]
    },
    {
     "name": "stdout",
     "output_type": "stream",
     "text": [
      "Finished:  3\n",
      "Filename:  #frac{289}{764}x^3+761 #tan 1053_4603.jpg\n"
     ]
    },
    {
     "name": "stderr",
     "output_type": "stream",
     "text": [
      "Lossy conversion from float64 to uint8. Range [-0.9542712762870796, 1.0]. Convert image to uint8 prior to saving to suppress this warning.\n"
     ]
    },
    {
     "name": "stdout",
     "output_type": "stream",
     "text": [
      "Finished:  4\n",
      "Filename:  #frac{795}{942}x^3-32 #tan 817_93320.jpg\n"
     ]
    },
    {
     "name": "stderr",
     "output_type": "stream",
     "text": [
      "Lossy conversion from float64 to uint8. Range [-0.7384927056947189, 1.0]. Convert image to uint8 prior to saving to suppress this warning.\n"
     ]
    },
    {
     "name": "stdout",
     "output_type": "stream",
     "text": [
      "Finished:  5\n",
      "Filename:  #frac{914}{808}x^2-722 #tan 217_23649.jpg\n"
     ]
    },
    {
     "name": "stderr",
     "output_type": "stream",
     "text": [
      "Lossy conversion from float64 to uint8. Range [-0.9792811626902181, 1.0]. Convert image to uint8 prior to saving to suppress this warning.\n"
     ]
    },
    {
     "name": "stdout",
     "output_type": "stream",
     "text": [
      "Finished:  6\n",
      "Filename:  #frac{502}{96}x^3+216 #sin761_48805.jpg\n"
     ]
    },
    {
     "name": "stderr",
     "output_type": "stream",
     "text": [
      "Lossy conversion from float64 to uint8. Range [-0.772181782411967, 1.0]. Convert image to uint8 prior to saving to suppress this warning.\n"
     ]
    },
    {
     "name": "stdout",
     "output_type": "stream",
     "text": [
      "Finished:  7\n",
      "Filename:  #frac{796}{393}x^3+292 #cos 1044_41065.jpg\n"
     ]
    },
    {
     "name": "stderr",
     "output_type": "stream",
     "text": [
      "Lossy conversion from float64 to uint8. Range [-0.6262954068159664, 1.0]. Convert image to uint8 prior to saving to suppress this warning.\n"
     ]
    },
    {
     "name": "stdout",
     "output_type": "stream",
     "text": [
      "Finished:  8\n",
      "Filename:  #frac{934}{474}x^2+625 #sin1585_21385.jpg\n"
     ]
    },
    {
     "name": "stderr",
     "output_type": "stream",
     "text": [
      "Lossy conversion from float64 to uint8. Range [-0.46952876116122966, 1.0]. Convert image to uint8 prior to saving to suppress this warning.\n"
     ]
    },
    {
     "name": "stdout",
     "output_type": "stream",
     "text": [
      "Finished:  9\n",
      "Filename:  #frac{566}{491}x^4+691 #cos 1234_32820.jpg\n"
     ]
    },
    {
     "name": "stderr",
     "output_type": "stream",
     "text": [
      "Lossy conversion from float64 to uint8. Range [-0.7427568042142122, 1.0]. Convert image to uint8 prior to saving to suppress this warning.\n"
     ]
    },
    {
     "name": "stdout",
     "output_type": "stream",
     "text": [
      "Finished:  10\n",
      "Filename:  #frac{528}{355}x^4+642 #sin1218_41305.jpg\n"
     ]
    },
    {
     "name": "stderr",
     "output_type": "stream",
     "text": [
      "Lossy conversion from float64 to uint8. Range [-0.8024279534298929, 1.0]. Convert image to uint8 prior to saving to suppress this warning.\n"
     ]
    },
    {
     "name": "stdout",
     "output_type": "stream",
     "text": [
      "Finished:  11\n",
      "Filename:  #frac{354}{969}x^4-900 #tan -506_7063.jpg\n"
     ]
    },
    {
     "name": "stderr",
     "output_type": "stream",
     "text": [
      "Lossy conversion from float64 to uint8. Range [-0.5973794899156019, 1.0]. Convert image to uint8 prior to saving to suppress this warning.\n"
     ]
    },
    {
     "name": "stdout",
     "output_type": "stream",
     "text": [
      "Finished:  12\n",
      "Filename:  #frac{195}{51}x^2+803 #sin1011_13394.jpg\n"
     ]
    },
    {
     "name": "stderr",
     "output_type": "stream",
     "text": [
      "Lossy conversion from float64 to uint8. Range [-0.5074605451936851, 1.0]. Convert image to uint8 prior to saving to suppress this warning.\n"
     ]
    },
    {
     "name": "stdout",
     "output_type": "stream",
     "text": [
      "Finished:  13\n",
      "Filename:  #frac{894}{939}x^3+564 #sin1478_11445.jpg\n"
     ]
    },
    {
     "name": "stderr",
     "output_type": "stream",
     "text": [
      "Lossy conversion from float64 to uint8. Range [-0.6902173913043297, 1.0]. Convert image to uint8 prior to saving to suppress this warning.\n"
     ]
    },
    {
     "name": "stdout",
     "output_type": "stream",
     "text": [
      "Finished:  14\n",
      "Filename:  #frac{749}{963}x^3+165 #tan 1000_14024.jpg\n"
     ]
    },
    {
     "name": "stderr",
     "output_type": "stream",
     "text": [
      "Lossy conversion from float64 to uint8. Range [-0.9639568771567294, 1.0]. Convert image to uint8 prior to saving to suppress this warning.\n"
     ]
    },
    {
     "name": "stdout",
     "output_type": "stream",
     "text": [
      "Finished:  15\n",
      "Filename:  #frac{547}{407}x^2-54 #cos 401_6656.jpg\n"
     ]
    },
    {
     "name": "stderr",
     "output_type": "stream",
     "text": [
      "Lossy conversion from float64 to uint8. Range [-0.4653130570409867, 1.0]. Convert image to uint8 prior to saving to suppress this warning.\n"
     ]
    },
    {
     "name": "stdout",
     "output_type": "stream",
     "text": [
      "Finished:  16\n",
      "Filename:  #frac{358}{291}x^3-954 #sin-563_72562.jpg\n"
     ]
    },
    {
     "name": "stderr",
     "output_type": "stream",
     "text": [
      "Lossy conversion from float64 to uint8. Range [-0.9535936020204002, 1.0]. Convert image to uint8 prior to saving to suppress this warning.\n"
     ]
    },
    {
     "name": "stdout",
     "output_type": "stream",
     "text": [
      "Finished:  17\n",
      "Filename:  #frac{747}{833}x^2-177 #tan 632_72556.jpg\n"
     ]
    },
    {
     "name": "stderr",
     "output_type": "stream",
     "text": [
      "Lossy conversion from float64 to uint8. Range [-0.72443814268754, 1.0]. Convert image to uint8 prior to saving to suppress this warning.\n"
     ]
    },
    {
     "name": "stdout",
     "output_type": "stream",
     "text": [
      "Finished:  18\n",
      "Filename:  #frac{27}{61}x^4-991 #sin-901_4559.jpg\n"
     ]
    },
    {
     "name": "stderr",
     "output_type": "stream",
     "text": [
      "Lossy conversion from float64 to uint8. Range [-0.6733076433260735, 1.0]. Convert image to uint8 prior to saving to suppress this warning.\n"
     ]
    },
    {
     "name": "stdout",
     "output_type": "stream",
     "text": [
      "Finished:  19\n",
      "Filename:  #frac{170}{4}x^4+917 #cos 1059_71768.jpg\n"
     ]
    },
    {
     "name": "stderr",
     "output_type": "stream",
     "text": [
      "Lossy conversion from float64 to uint8. Range [-0.5154459290641434, 1.0]. Convert image to uint8 prior to saving to suppress this warning.\n"
     ]
    },
    {
     "name": "stdout",
     "output_type": "stream",
     "text": [
      "Finished:  20\n",
      "Filename:  #frac{300}{33}x^4+313 #cos 598_53720.jpg\n"
     ]
    },
    {
     "name": "stderr",
     "output_type": "stream",
     "text": [
      "Lossy conversion from float64 to uint8. Range [-0.713304449174019, 1.0]. Convert image to uint8 prior to saving to suppress this warning.\n"
     ]
    },
    {
     "name": "stdout",
     "output_type": "stream",
     "text": [
      "Finished:  21\n",
      "Filename:  #frac{747}{324}x^4+400 #tan 1200_46624.jpg\n"
     ]
    },
    {
     "name": "stderr",
     "output_type": "stream",
     "text": [
      "Lossy conversion from float64 to uint8. Range [-0.4226116778072105, 1.0]. Convert image to uint8 prior to saving to suppress this warning.\n"
     ]
    },
    {
     "name": "stdout",
     "output_type": "stream",
     "text": [
      "Finished:  22\n",
      "Filename:  #frac{496}{843}x^4-621 #tan -56_49109.jpg\n"
     ]
    },
    {
     "name": "stderr",
     "output_type": "stream",
     "text": [
      "Lossy conversion from float64 to uint8. Range [-0.9473601776403212, 1.0]. Convert image to uint8 prior to saving to suppress this warning.\n"
     ]
    },
    {
     "name": "stdout",
     "output_type": "stream",
     "text": [
      "Finished:  23\n",
      "Filename:  #frac{375}{175}x^2-49 #tan 375_84523.jpg\n"
     ]
    },
    {
     "name": "stderr",
     "output_type": "stream",
     "text": [
      "Lossy conversion from float64 to uint8. Range [-0.5711696745450414, 1.0]. Convert image to uint8 prior to saving to suppress this warning.\n"
     ]
    },
    {
     "name": "stdout",
     "output_type": "stream",
     "text": [
      "Finished:  24\n",
      "Filename:  #frac{298}{28}x^4-429 #sin-86_77039.jpg\n"
     ]
    },
    {
     "name": "stderr",
     "output_type": "stream",
     "text": [
      "Lossy conversion from float64 to uint8. Range [-0.9358021451545492, 1.0]. Convert image to uint8 prior to saving to suppress this warning.\n"
     ]
    },
    {
     "name": "stdout",
     "output_type": "stream",
     "text": [
      "Finished:  25\n",
      "Filename:  #frac{726}{95}x^3-980 #cos -319_86231.jpg\n"
     ]
    },
    {
     "name": "stderr",
     "output_type": "stream",
     "text": [
      "Lossy conversion from float64 to uint8. Range [-0.811029411764697, 1.0]. Convert image to uint8 prior to saving to suppress this warning.\n"
     ]
    },
    {
     "name": "stdout",
     "output_type": "stream",
     "text": [
      "Finished:  26\n",
      "Filename:  #frac{127}{874}x^4+436 #cos 479_64342.jpg\n"
     ]
    },
    {
     "name": "stderr",
     "output_type": "stream",
     "text": [
      "Lossy conversion from float64 to uint8. Range [-0.8918621700880004, 1.0]. Convert image to uint8 prior to saving to suppress this warning.\n"
     ]
    },
    {
     "name": "stdout",
     "output_type": "stream",
     "text": [
      "Finished:  27\n",
      "Filename:  #frac{908}{9}x^3+827 #tan 1786_18453.jpg\n"
     ]
    },
    {
     "name": "stderr",
     "output_type": "stream",
     "text": [
      "Lossy conversion from float64 to uint8. Range [-0.6116991770484337, 1.0]. Convert image to uint8 prior to saving to suppress this warning.\n"
     ]
    },
    {
     "name": "stdout",
     "output_type": "stream",
     "text": [
      "Finished:  28\n",
      "Filename:  #frac{714}{718}x^2-617 #tan 163_72154.jpg\n"
     ]
    },
    {
     "name": "stderr",
     "output_type": "stream",
     "text": [
      "Lossy conversion from float64 to uint8. Range [-0.709384365634356, 1.0]. Convert image to uint8 prior to saving to suppress this warning.\n"
     ]
    },
    {
     "name": "stdout",
     "output_type": "stream",
     "text": [
      "Finished:  29\n",
      "Filename:  #frac{333}{213}x^3+319 #sin655_17982.jpg\n"
     ]
    },
    {
     "name": "stderr",
     "output_type": "stream",
     "text": [
      "Lossy conversion from float64 to uint8. Range [-0.9189982480140155, 1.0]. Convert image to uint8 prior to saving to suppress this warning.\n"
     ]
    },
    {
     "name": "stdout",
     "output_type": "stream",
     "text": [
      "Finished:  30\n",
      "Filename:  #frac{298}{176}x^3-196 #sin152_26822.jpg\n"
     ]
    },
    {
     "name": "stderr",
     "output_type": "stream",
     "text": [
      "Lossy conversion from float64 to uint8. Range [-0.8013883513931872, 1.0]. Convert image to uint8 prior to saving to suppress this warning.\n"
     ]
    },
    {
     "name": "stdout",
     "output_type": "stream",
     "text": [
      "Finished:  31\n",
      "Filename:  #frac{264}{620}x^3+580 #cos 785_93182.jpg\n"
     ]
    },
    {
     "name": "stderr",
     "output_type": "stream",
     "text": [
      "Lossy conversion from float64 to uint8. Range [-0.5726196758607713, 1.0]. Convert image to uint8 prior to saving to suppress this warning.\n"
     ]
    },
    {
     "name": "stdout",
     "output_type": "stream",
     "text": [
      "Finished:  32\n",
      "Filename:  #frac{879}{155}x^3-541 #cos 262_38290.jpg\n"
     ]
    },
    {
     "name": "stderr",
     "output_type": "stream",
     "text": [
      "Lossy conversion from float64 to uint8. Range [-0.5496411483253496, 1.0]. Convert image to uint8 prior to saving to suppress this warning.\n"
     ]
    },
    {
     "name": "stdout",
     "output_type": "stream",
     "text": [
      "Finished:  33\n",
      "Filename:  #frac{969}{694}x^3+148 #cos 1055_3585.jpg\n"
     ]
    },
    {
     "name": "stderr",
     "output_type": "stream",
     "text": [
      "Lossy conversion from float64 to uint8. Range [-0.8580016172546404, 1.0]. Convert image to uint8 prior to saving to suppress this warning.\n"
     ]
    },
    {
     "name": "stdout",
     "output_type": "stream",
     "text": [
      "Finished:  34\n",
      "Filename:  #frac{654}{330}x^2+113 #sin789_31103.jpg\n"
     ]
    },
    {
     "name": "stderr",
     "output_type": "stream",
     "text": [
      "Lossy conversion from float64 to uint8. Range [-0.9999999999999893, 1.0]. Convert image to uint8 prior to saving to suppress this warning.\n"
     ]
    },
    {
     "name": "stdout",
     "output_type": "stream",
     "text": [
      "Finished:  35\n",
      "Filename:  #frac{581}{84}x^4-352 #cos 154_58547.jpg\n"
     ]
    },
    {
     "name": "stderr",
     "output_type": "stream",
     "text": [
      "Lossy conversion from float64 to uint8. Range [-0.4006432676305472, 1.0]. Convert image to uint8 prior to saving to suppress this warning.\n"
     ]
    },
    {
     "name": "stdout",
     "output_type": "stream",
     "text": [
      "Finished:  36\n",
      "Filename:  #frac{708}{407}x^3+83 #cos 760_29664.jpg\n"
     ]
    },
    {
     "name": "stderr",
     "output_type": "stream",
     "text": [
      "Lossy conversion from float64 to uint8. Range [-0.8083947816222309, 1.0]. Convert image to uint8 prior to saving to suppress this warning.\n"
     ]
    },
    {
     "name": "stdout",
     "output_type": "stream",
     "text": [
      "Finished:  37\n",
      "Filename:  #frac{574}{729}x^2+828 #tan 1478_48764.jpg\n"
     ]
    },
    {
     "name": "stderr",
     "output_type": "stream",
     "text": [
      "Lossy conversion from float64 to uint8. Range [-0.610478871609978, 1.0]. Convert image to uint8 prior to saving to suppress this warning.\n"
     ]
    },
    {
     "name": "stdout",
     "output_type": "stream",
     "text": [
      "Finished:  38\n",
      "Filename:  #frac{423}{989}x^3-975 #sin-474_1087.jpg\n"
     ]
    },
    {
     "name": "stderr",
     "output_type": "stream",
     "text": [
      "Lossy conversion from float64 to uint8. Range [-0.6804433251169948, 1.0]. Convert image to uint8 prior to saving to suppress this warning.\n"
     ]
    },
    {
     "name": "stdout",
     "output_type": "stream",
     "text": [
      "Finished:  39\n",
      "Filename:  #frac{713}{755}x^3-498 #tan 314_15181.jpg\n"
     ]
    },
    {
     "name": "stderr",
     "output_type": "stream",
     "text": [
      "Lossy conversion from float64 to uint8. Range [-0.9756646565782813, 1.0]. Convert image to uint8 prior to saving to suppress this warning.\n"
     ]
    },
    {
     "name": "stdout",
     "output_type": "stream",
     "text": [
      "Finished:  40\n",
      "Filename:  #frac{672}{768}x^3+808 #sin1527_89719.jpg\n"
     ]
    },
    {
     "name": "stderr",
     "output_type": "stream",
     "text": [
      "Lossy conversion from float64 to uint8. Range [-0.9328641266697582, 1.0]. Convert image to uint8 prior to saving to suppress this warning.\n"
     ]
    },
    {
     "name": "stdout",
     "output_type": "stream",
     "text": [
      "Finished:  41\n",
      "Filename:  #frac{892}{573}x^4+13 #sin944_12908.jpg\n"
     ]
    },
    {
     "name": "stderr",
     "output_type": "stream",
     "text": [
      "Lossy conversion from float64 to uint8. Range [-0.7198448843948654, 1.0]. Convert image to uint8 prior to saving to suppress this warning.\n"
     ]
    },
    {
     "name": "stdout",
     "output_type": "stream",
     "text": [
      "Finished:  42\n",
      "Filename:  #frac{542}{339}x^2-766 #tan -154_21993.jpg\n"
     ]
    },
    {
     "name": "stderr",
     "output_type": "stream",
     "text": [
      "Lossy conversion from float64 to uint8. Range [-0.7367172675521724, 1.0]. Convert image to uint8 prior to saving to suppress this warning.\n"
     ]
    },
    {
     "name": "stdout",
     "output_type": "stream",
     "text": [
      "Finished:  43\n",
      "Filename:  #frac{177}{957}x^3+218 #cos 378_47827.jpg\n"
     ]
    },
    {
     "name": "stderr",
     "output_type": "stream",
     "text": [
      "Lossy conversion from float64 to uint8. Range [-0.5887913478046324, 1.0]. Convert image to uint8 prior to saving to suppress this warning.\n"
     ]
    },
    {
     "name": "stdout",
     "output_type": "stream",
     "text": [
      "Finished:  44\n",
      "Filename:  #frac{967}{112}x^4-209 #tan 847_5144.jpg\n"
     ]
    },
    {
     "name": "stderr",
     "output_type": "stream",
     "text": [
      "Lossy conversion from float64 to uint8. Range [-0.576849785201735, 1.0]. Convert image to uint8 prior to saving to suppress this warning.\n"
     ]
    },
    {
     "name": "stdout",
     "output_type": "stream",
     "text": [
      "Finished:  45\n",
      "Filename:  #frac{290}{824}x^3+442 #cos 665_73650.jpg\n"
     ]
    },
    {
     "name": "stderr",
     "output_type": "stream",
     "text": [
      "Lossy conversion from float64 to uint8. Range [-0.7504714676568405, 1.0]. Convert image to uint8 prior to saving to suppress this warning.\n"
     ]
    },
    {
     "name": "stdout",
     "output_type": "stream",
     "text": [
      "Finished:  46\n",
      "Filename:  #frac{323}{955}x^2+207 #tan 593_58682.jpg\n"
     ]
    },
    {
     "name": "stderr",
     "output_type": "stream",
     "text": [
      "Lossy conversion from float64 to uint8. Range [-0.7363777089783351, 1.0]. Convert image to uint8 prior to saving to suppress this warning.\n"
     ]
    },
    {
     "name": "stdout",
     "output_type": "stream",
     "text": [
      "Finished:  47\n",
      "Filename:  #frac{117}{110}x^2+311 #sin458_46813.jpg\n"
     ]
    },
    {
     "name": "stderr",
     "output_type": "stream",
     "text": [
      "Lossy conversion from float64 to uint8. Range [-0.6969128204817583, 1.0]. Convert image to uint8 prior to saving to suppress this warning.\n"
     ]
    },
    {
     "name": "stdout",
     "output_type": "stream",
     "text": [
      "Finished:  48\n",
      "Filename:  #frac{613}{383}x^2-953 #cos -422_11717.jpg\n"
     ]
    },
    {
     "name": "stderr",
     "output_type": "stream",
     "text": [
      "Lossy conversion from float64 to uint8. Range [-0.4367748436904317, 1.0]. Convert image to uint8 prior to saving to suppress this warning.\n"
     ]
    },
    {
     "name": "stdout",
     "output_type": "stream",
     "text": [
      "Finished:  49\n",
      "Filename:  #frac{865}{824}x^4-521 #sin413_59729.jpg\n"
     ]
    },
    {
     "name": "stderr",
     "output_type": "stream",
     "text": [
      "Lossy conversion from float64 to uint8. Range [-0.710961355886228, 1.0]. Convert image to uint8 prior to saving to suppress this warning.\n"
     ]
    },
    {
     "name": "stdout",
     "output_type": "stream",
     "text": [
      "Finished:  50\n",
      "Filename:  #frac{742}{83}x^2-364 #sin464_36594.jpg\n"
     ]
    },
    {
     "name": "stderr",
     "output_type": "stream",
     "text": [
      "Lossy conversion from float64 to uint8. Range [-0.9999999999999929, 1.0]. Convert image to uint8 prior to saving to suppress this warning.\n"
     ]
    },
    {
     "name": "stdout",
     "output_type": "stream",
     "text": [
      "Finished:  51\n",
      "Filename:  #frac{720}{961}x^3+249 #cos 935_58437.jpg\n"
     ]
    },
    {
     "name": "stderr",
     "output_type": "stream",
     "text": [
      "Lossy conversion from float64 to uint8. Range [-0.9161718816921385, 1.0]. Convert image to uint8 prior to saving to suppress this warning.\n"
     ]
    },
    {
     "name": "stdout",
     "output_type": "stream",
     "text": [
      "Finished:  52\n",
      "Filename:  #frac{346}{564}x^4+402 #sin797_72141.jpg\n"
     ]
    },
    {
     "name": "stderr",
     "output_type": "stream",
     "text": [
      "Lossy conversion from float64 to uint8. Range [-0.5944381598793509, 1.0]. Convert image to uint8 prior to saving to suppress this warning.\n"
     ]
    },
    {
     "name": "stdout",
     "output_type": "stream",
     "text": [
      "Finished:  53\n",
      "Filename:  #frac{205}{67}x^3-5 #sin282_49769.jpg\n"
     ]
    },
    {
     "name": "stderr",
     "output_type": "stream",
     "text": [
      "Lossy conversion from float64 to uint8. Range [-0.7925009521928469, 1.0]. Convert image to uint8 prior to saving to suppress this warning.\n"
     ]
    },
    {
     "name": "stdout",
     "output_type": "stream",
     "text": [
      "Finished:  54\n",
      "Filename:  #frac{382}{208}x^3+56 #sin460_65245.jpg\n"
     ]
    },
    {
     "name": "stderr",
     "output_type": "stream",
     "text": [
      "Lossy conversion from float64 to uint8. Range [-0.6110294117647073, 1.0]. Convert image to uint8 prior to saving to suppress this warning.\n"
     ]
    },
    {
     "name": "stdout",
     "output_type": "stream",
     "text": [
      "Finished:  55\n",
      "Filename:  #frac{422}{327}x^3-816 #cos -396_69781.jpg\n"
     ]
    },
    {
     "name": "stderr",
     "output_type": "stream",
     "text": [
      "Lossy conversion from float64 to uint8. Range [-0.6879417151476258, 1.0]. Convert image to uint8 prior to saving to suppress this warning.\n"
     ]
    },
    {
     "name": "stdout",
     "output_type": "stream",
     "text": [
      "Finished:  56\n",
      "Filename:  #frac{715}{699}x^3-112 #sin671_85638.jpg\n"
     ]
    },
    {
     "name": "stderr",
     "output_type": "stream",
     "text": [
      "Lossy conversion from float64 to uint8. Range [-0.6871264906257024, 1.0]. Convert image to uint8 prior to saving to suppress this warning.\n"
     ]
    },
    {
     "name": "stdout",
     "output_type": "stream",
     "text": [
      "Finished:  57\n",
      "Filename:  #frac{725}{921}x^2-429 #tan 363_10111.jpg\n"
     ]
    },
    {
     "name": "stderr",
     "output_type": "stream",
     "text": [
      "Lossy conversion from float64 to uint8. Range [-0.434128490105717, 1.0]. Convert image to uint8 prior to saving to suppress this warning.\n"
     ]
    },
    {
     "name": "stdout",
     "output_type": "stream",
     "text": [
      "Finished:  58\n",
      "Filename:  #frac{218}{446}x^4+651 #cos 834_52341.jpg\n"
     ]
    },
    {
     "name": "stderr",
     "output_type": "stream",
     "text": [
      "Lossy conversion from float64 to uint8. Range [-0.9135704229662728, 1.0]. Convert image to uint8 prior to saving to suppress this warning.\n"
     ]
    },
    {
     "name": "stdout",
     "output_type": "stream",
     "text": [
      "Finished:  59\n",
      "Filename:  #frac{419}{316}x^2-539 #cos -122_49337.jpg\n"
     ]
    },
    {
     "name": "stderr",
     "output_type": "stream",
     "text": [
      "Lossy conversion from float64 to uint8. Range [-0.5640096110000241, 1.0]. Convert image to uint8 prior to saving to suppress this warning.\n"
     ]
    },
    {
     "name": "stdout",
     "output_type": "stream",
     "text": [
      "Finished:  60\n",
      "Filename:  #frac{467}{903}x^3-104 #cos 268_36338.jpg\n"
     ]
    },
    {
     "name": "stderr",
     "output_type": "stream",
     "text": [
      "Lossy conversion from float64 to uint8. Range [-0.828433229071068, 1.0]. Convert image to uint8 prior to saving to suppress this warning.\n"
     ]
    },
    {
     "name": "stdout",
     "output_type": "stream",
     "text": [
      "Finished:  61\n",
      "Filename:  #frac{937}{538}x^2-623 #cos 221_66712.jpg\n"
     ]
    },
    {
     "name": "stderr",
     "output_type": "stream",
     "text": [
      "Lossy conversion from float64 to uint8. Range [-0.7865717055046045, 1.0]. Convert image to uint8 prior to saving to suppress this warning.\n"
     ]
    },
    {
     "name": "stdout",
     "output_type": "stream",
     "text": [
      "Finished:  62\n",
      "Filename:  #frac{301}{750}x^3+123 #sin487_76858.jpg\n"
     ]
    },
    {
     "name": "stderr",
     "output_type": "stream",
     "text": [
      "Lossy conversion from float64 to uint8. Range [-0.9735810113518987, 1.0]. Convert image to uint8 prior to saving to suppress this warning.\n"
     ]
    },
    {
     "name": "stdout",
     "output_type": "stream",
     "text": [
      "Finished:  63\n",
      "Filename:  #frac{726}{905}x^2-61 #sin756_69767.jpg\n"
     ]
    },
    {
     "name": "stderr",
     "output_type": "stream",
     "text": [
      "Lossy conversion from float64 to uint8. Range [-0.7769288150042609, 1.0]. Convert image to uint8 prior to saving to suppress this warning.\n"
     ]
    },
    {
     "name": "stdout",
     "output_type": "stream",
     "text": [
      "Finished:  64\n",
      "Filename:  #frac{891}{27}x^2+787 #sin1710_23150.jpg\n"
     ]
    },
    {
     "name": "stderr",
     "output_type": "stream",
     "text": [
      "Lossy conversion from float64 to uint8. Range [-0.47927148981400924, 1.0]. Convert image to uint8 prior to saving to suppress this warning.\n"
     ]
    },
    {
     "name": "stdout",
     "output_type": "stream",
     "text": [
      "Finished:  65\n",
      "Filename:  #frac{625}{663}x^3+620 #sin1311_52897.jpg\n"
     ]
    },
    {
     "name": "stderr",
     "output_type": "stream",
     "text": [
      "Lossy conversion from float64 to uint8. Range [-0.750976497213132, 1.0]. Convert image to uint8 prior to saving to suppress this warning.\n"
     ]
    },
    {
     "name": "stdout",
     "output_type": "stream",
     "text": [
      "Finished:  66\n",
      "Filename:  #frac{233}{996}x^4+987 #cos 1158_10032.jpg\n"
     ]
    },
    {
     "name": "stderr",
     "output_type": "stream",
     "text": [
      "Lossy conversion from float64 to uint8. Range [-0.5680360187553297, 1.0]. Convert image to uint8 prior to saving to suppress this warning.\n"
     ]
    },
    {
     "name": "stdout",
     "output_type": "stream",
     "text": [
      "Finished:  67\n",
      "Filename:  #frac{546}{745}x^2-316 #cos 223_89780.jpg\n"
     ]
    },
    {
     "name": "stderr",
     "output_type": "stream",
     "text": [
      "Lossy conversion from float64 to uint8. Range [-0.8031914893617048, 1.0]. Convert image to uint8 prior to saving to suppress this warning.\n"
     ]
    },
    {
     "name": "stdout",
     "output_type": "stream",
     "text": [
      "Finished:  68\n",
      "Filename:  #frac{899}{598}x^4-382 #sin607_77935.jpg\n"
     ]
    },
    {
     "name": "stderr",
     "output_type": "stream",
     "text": [
      "Lossy conversion from float64 to uint8. Range [-0.8729295628544637, 1.0]. Convert image to uint8 prior to saving to suppress this warning.\n"
     ]
    },
    {
     "name": "stdout",
     "output_type": "stream",
     "text": [
      "Finished:  69\n",
      "Filename:  #frac{980}{942}x^4+336 #tan 1367_89423.jpg\n"
     ]
    },
    {
     "name": "stderr",
     "output_type": "stream",
     "text": [
      "Lossy conversion from float64 to uint8. Range [-0.9999999999999857, 1.0]. Convert image to uint8 prior to saving to suppress this warning.\n"
     ]
    },
    {
     "name": "stdout",
     "output_type": "stream",
     "text": [
      "Finished:  70\n",
      "Filename:  #frac{819}{905}x^3+86 #cos 842_84271.jpg\n"
     ]
    },
    {
     "name": "stderr",
     "output_type": "stream",
     "text": [
      "Lossy conversion from float64 to uint8. Range [-0.9677419354838541, 1.0]. Convert image to uint8 prior to saving to suppress this warning.\n"
     ]
    },
    {
     "name": "stdout",
     "output_type": "stream",
     "text": [
      "Finished:  71\n",
      "Filename:  #frac{885}{933}x^4-293 #cos 547_8905.jpg\n"
     ]
    },
    {
     "name": "stderr",
     "output_type": "stream",
     "text": [
      "Lossy conversion from float64 to uint8. Range [-0.9729138166894575, 1.0]. Convert image to uint8 prior to saving to suppress this warning.\n"
     ]
    },
    {
     "name": "stdout",
     "output_type": "stream",
     "text": [
      "Finished:  72\n",
      "Filename:  #frac{895}{363}x^2+59 #tan 977_32622.jpg\n"
     ]
    },
    {
     "name": "stderr",
     "output_type": "stream",
     "text": [
      "Lossy conversion from float64 to uint8. Range [-0.38808765613311863, 1.0]. Convert image to uint8 prior to saving to suppress this warning.\n"
     ]
    },
    {
     "name": "stdout",
     "output_type": "stream",
     "text": [
      "Finished:  73\n",
      "Filename:  #frac{268}{177}x^4-296 #cos -69_80012.jpg\n"
     ]
    },
    {
     "name": "stderr",
     "output_type": "stream",
     "text": [
      "Lossy conversion from float64 to uint8. Range [-0.6381926578998673, 1.0]. Convert image to uint8 prior to saving to suppress this warning.\n"
     ]
    },
    {
     "name": "stdout",
     "output_type": "stream",
     "text": [
      "Finished:  74\n",
      "Filename:  #frac{995}{289}x^2-477 #tan 563_7936.jpg\n"
     ]
    },
    {
     "name": "stderr",
     "output_type": "stream",
     "text": [
      "Lossy conversion from float64 to uint8. Range [-0.9473684210526406, 1.0]. Convert image to uint8 prior to saving to suppress this warning.\n"
     ]
    },
    {
     "name": "stdout",
     "output_type": "stream",
     "text": [
      "Finished:  75\n",
      "Filename:  #frac{382}{516}x^4-524 #tan -111_88851.jpg\n"
     ]
    },
    {
     "name": "stderr",
     "output_type": "stream",
     "text": [
      "Lossy conversion from float64 to uint8. Range [-0.9963314358001161, 1.0]. Convert image to uint8 prior to saving to suppress this warning.\n"
     ]
    },
    {
     "name": "stdout",
     "output_type": "stream",
     "text": [
      "Finished:  76\n",
      "Filename:  #frac{228}{629}x^2+124 #sin395_77985.jpg\n"
     ]
    },
    {
     "name": "stderr",
     "output_type": "stream",
     "text": [
      "Lossy conversion from float64 to uint8. Range [-0.9240071753338921, 1.0]. Convert image to uint8 prior to saving to suppress this warning.\n"
     ]
    },
    {
     "name": "stdout",
     "output_type": "stream",
     "text": [
      "Finished:  77\n",
      "Filename:  #frac{749}{705}x^2+755 #cos 1419_56734.jpg\n"
     ]
    },
    {
     "name": "stderr",
     "output_type": "stream",
     "text": [
      "Lossy conversion from float64 to uint8. Range [-0.5046681891236529, 1.0]. Convert image to uint8 prior to saving to suppress this warning.\n"
     ]
    },
    {
     "name": "stdout",
     "output_type": "stream",
     "text": [
      "Finished:  78\n",
      "Filename:  #frac{796}{982}x^2+225 #cos 971_25941.jpg\n"
     ]
    },
    {
     "name": "stderr",
     "output_type": "stream",
     "text": [
      "Lossy conversion from float64 to uint8. Range [-0.7498748435544181, 1.0]. Convert image to uint8 prior to saving to suppress this warning.\n"
     ]
    },
    {
     "name": "stdout",
     "output_type": "stream",
     "text": [
      "Finished:  79\n",
      "Filename:  #frac{579}{155}x^2-907 #tan -298_60032.jpg\n"
     ]
    },
    {
     "name": "stderr",
     "output_type": "stream",
     "text": [
      "Lossy conversion from float64 to uint8. Range [-0.7726403530555328, 1.0]. Convert image to uint8 prior to saving to suppress this warning.\n"
     ]
    },
    {
     "name": "stdout",
     "output_type": "stream",
     "text": [
      "Finished:  80\n",
      "Filename:  #frac{13}{442}x^3+129 #sin213_98172.jpg\n"
     ]
    },
    {
     "name": "stderr",
     "output_type": "stream",
     "text": [
      "Lossy conversion from float64 to uint8. Range [-0.8336052510028491, 1.0]. Convert image to uint8 prior to saving to suppress this warning.\n"
     ]
    },
    {
     "name": "stdout",
     "output_type": "stream",
     "text": [
      "Finished:  81\n",
      "Filename:  #frac{197}{325}x^3-151 #tan 76_43236.jpg\n"
     ]
    },
    {
     "name": "stderr",
     "output_type": "stream",
     "text": [
      "Lossy conversion from float64 to uint8. Range [-0.9994243568987158, 1.0]. Convert image to uint8 prior to saving to suppress this warning.\n"
     ]
    },
    {
     "name": "stdout",
     "output_type": "stream",
     "text": [
      "Finished:  82\n",
      "Filename:  #frac{151}{740}x^3+183 #cos 262_73755.jpg\n"
     ]
    },
    {
     "name": "stderr",
     "output_type": "stream",
     "text": [
      "Lossy conversion from float64 to uint8. Range [-0.9339363041712676, 1.0]. Convert image to uint8 prior to saving to suppress this warning.\n"
     ]
    },
    {
     "name": "stdout",
     "output_type": "stream",
     "text": [
      "Finished:  83\n",
      "Filename:  #frac{272}{209}x^2-589 #cos -397_89247.jpg\n"
     ]
    },
    {
     "name": "stderr",
     "output_type": "stream",
     "text": [
      "Lossy conversion from float64 to uint8. Range [-0.9213557065736995, 1.0]. Convert image to uint8 prior to saving to suppress this warning.\n"
     ]
    },
    {
     "name": "stdout",
     "output_type": "stream",
     "text": [
      "Finished:  84\n",
      "Filename:  #frac{771}{25}x^3-992 #sin-139_65048.jpg\n"
     ]
    },
    {
     "name": "stderr",
     "output_type": "stream",
     "text": [
      "Lossy conversion from float64 to uint8. Range [-0.7112046041092996, 1.0]. Convert image to uint8 prior to saving to suppress this warning.\n"
     ]
    },
    {
     "name": "stdout",
     "output_type": "stream",
     "text": [
      "Finished:  85\n",
      "Filename:  #frac{786}{526}x^4-402 #sin404_94796.jpg\n"
     ]
    },
    {
     "name": "stderr",
     "output_type": "stream",
     "text": [
      "Lossy conversion from float64 to uint8. Range [-0.9379901960784247, 1.0]. Convert image to uint8 prior to saving to suppress this warning.\n"
     ]
    },
    {
     "name": "stdout",
     "output_type": "stream",
     "text": [
      "Finished:  86\n",
      "Filename:  #frac{730}{540}x^2-927 #tan -125_6177.jpg\n"
     ]
    },
    {
     "name": "stderr",
     "output_type": "stream",
     "text": [
      "Lossy conversion from float64 to uint8. Range [-0.7364130434782545, 1.0]. Convert image to uint8 prior to saving to suppress this warning.\n"
     ]
    },
    {
     "name": "stdout",
     "output_type": "stream",
     "text": [
      "Finished:  87\n",
      "Filename:  #frac{927}{712}x^2+630 #tan 1643_2459.jpg\n"
     ]
    },
    {
     "name": "stderr",
     "output_type": "stream",
     "text": [
      "Lossy conversion from float64 to uint8. Range [-0.8837209302325525, 1.0]. Convert image to uint8 prior to saving to suppress this warning.\n"
     ]
    },
    {
     "name": "stdout",
     "output_type": "stream",
     "text": [
      "Finished:  88\n",
      "Filename:  #frac{899}{862}x^3-41 #tan 922_19495.jpg\n"
     ]
    },
    {
     "name": "stderr",
     "output_type": "stream",
     "text": [
      "Lossy conversion from float64 to uint8. Range [-0.6937206070740397, 1.0]. Convert image to uint8 prior to saving to suppress this warning.\n"
     ]
    },
    {
     "name": "stdout",
     "output_type": "stream",
     "text": [
      "Finished:  89\n",
      "Filename:  #frac{856}{361}x^4+489 #tan 1370_28904.jpg\n"
     ]
    },
    {
     "name": "stderr",
     "output_type": "stream",
     "text": [
      "Lossy conversion from float64 to uint8. Range [-0.5904533906585852, 1.0]. Convert image to uint8 prior to saving to suppress this warning.\n"
     ]
    },
    {
     "name": "stdout",
     "output_type": "stream",
     "text": [
      "Finished:  90\n",
      "Filename:  #frac{233}{376}x^3+183 #tan 444_51743.jpg\n"
     ]
    },
    {
     "name": "stderr",
     "output_type": "stream",
     "text": [
      "Lossy conversion from float64 to uint8. Range [-0.9078476708990267, 1.0]. Convert image to uint8 prior to saving to suppress this warning.\n"
     ]
    },
    {
     "name": "stdout",
     "output_type": "stream",
     "text": [
      "Finished:  91\n",
      "Filename:  #frac{563}{406}x^4+687 #sin1288_68240.jpg\n"
     ]
    },
    {
     "name": "stderr",
     "output_type": "stream",
     "text": [
      "Lossy conversion from float64 to uint8. Range [-0.7952024456975095, 1.0]. Convert image to uint8 prior to saving to suppress this warning.\n"
     ]
    },
    {
     "name": "stdout",
     "output_type": "stream",
     "text": [
      "Finished:  92\n",
      "Filename:  #frac{956}{873}x^3+782 #cos 1692_5023.jpg\n"
     ]
    },
    {
     "name": "stderr",
     "output_type": "stream",
     "text": [
      "Lossy conversion from float64 to uint8. Range [-0.6444794531743542, 1.0]. Convert image to uint8 prior to saving to suppress this warning.\n"
     ]
    },
    {
     "name": "stdout",
     "output_type": "stream",
     "text": [
      "Finished:  93\n",
      "Filename:  #frac{386}{111}x^3+534 #sin997_96802.jpg\n"
     ]
    },
    {
     "name": "stderr",
     "output_type": "stream",
     "text": [
      "Lossy conversion from float64 to uint8. Range [-0.3405522430146263, 1.0]. Convert image to uint8 prior to saving to suppress this warning.\n"
     ]
    },
    {
     "name": "stdout",
     "output_type": "stream",
     "text": [
      "Finished:  94\n",
      "Filename:  #frac{110}{761}x^3+601 #tan 755_39892.jpg\n"
     ]
    },
    {
     "name": "stderr",
     "output_type": "stream",
     "text": [
      "Lossy conversion from float64 to uint8. Range [-0.8931456455760188, 1.0]. Convert image to uint8 prior to saving to suppress this warning.\n"
     ]
    },
    {
     "name": "stdout",
     "output_type": "stream",
     "text": [
      "Finished:  95\n",
      "Filename:  #frac{150}{184}x^4+229 #tan 404_17264.jpg\n"
     ]
    },
    {
     "name": "stderr",
     "output_type": "stream",
     "text": [
      "Lossy conversion from float64 to uint8. Range [-0.9929144385026597, 1.0]. Convert image to uint8 prior to saving to suppress this warning.\n"
     ]
    },
    {
     "name": "stdout",
     "output_type": "stream",
     "text": [
      "Finished:  96\n",
      "Filename:  #frac{351}{757}x^3+695 #cos 954_91072.jpg\n"
     ]
    },
    {
     "name": "stderr",
     "output_type": "stream",
     "text": [
      "Lossy conversion from float64 to uint8. Range [-0.6308186436200016, 1.0]. Convert image to uint8 prior to saving to suppress this warning.\n"
     ]
    },
    {
     "name": "stdout",
     "output_type": "stream",
     "text": [
      "Finished:  97\n",
      "Filename:  #frac{494}{672}x^3-268 #sin266_2631.jpg\n"
     ]
    },
    {
     "name": "stderr",
     "output_type": "stream",
     "text": [
      "Lossy conversion from float64 to uint8. Range [-0.7089231547017327, 1.0]. Convert image to uint8 prior to saving to suppress this warning.\n"
     ]
    },
    {
     "name": "stdout",
     "output_type": "stream",
     "text": [
      "Finished:  98\n",
      "Filename:  #frac{192}{312}x^2-430 #cos -274_7470.jpg\n"
     ]
    },
    {
     "name": "stderr",
     "output_type": "stream",
     "text": [
      "Lossy conversion from float64 to uint8. Range [-0.7130735272832627, 1.0]. Convert image to uint8 prior to saving to suppress this warning.\n"
     ]
    },
    {
     "name": "stdout",
     "output_type": "stream",
     "text": [
      "Finished:  99\n",
      "Filename:  #frac{190}{51}x^4-377 #sin-143_82037.jpg\n"
     ]
    },
    {
     "name": "stderr",
     "output_type": "stream",
     "text": [
      "Lossy conversion from float64 to uint8. Range [-0.4587904268407101, 1.0]. Convert image to uint8 prior to saving to suppress this warning.\n"
     ]
    },
    {
     "name": "stdout",
     "output_type": "stream",
     "text": [
      "Finished:  100\n",
      "Filename:  #frac{95}{517}x^3-990 #tan -828_13827.jpg\n"
     ]
    },
    {
     "name": "stderr",
     "output_type": "stream",
     "text": [
      "Lossy conversion from float64 to uint8. Range [-0.7681378136361089, 1.0]. Convert image to uint8 prior to saving to suppress this warning.\n"
     ]
    },
    {
     "name": "stdout",
     "output_type": "stream",
     "text": [
      "Finished:  101\n",
      "Filename:  #frac{293}{338}x^3+908 #sin1278_52585.jpg\n"
     ]
    },
    {
     "name": "stderr",
     "output_type": "stream",
     "text": [
      "Lossy conversion from float64 to uint8. Range [-0.5624999999999893, 1.0]. Convert image to uint8 prior to saving to suppress this warning.\n"
     ]
    },
    {
     "name": "stdout",
     "output_type": "stream",
     "text": [
      "Finished:  102\n",
      "Filename:  #frac{510}{138}x^3+623 #sin1225_52956.jpg\n"
     ]
    },
    {
     "name": "stderr",
     "output_type": "stream",
     "text": [
      "Lossy conversion from float64 to uint8. Range [-0.407517033891847, 1.0]. Convert image to uint8 prior to saving to suppress this warning.\n"
     ]
    },
    {
     "name": "stdout",
     "output_type": "stream",
     "text": [
      "Finished:  103\n",
      "Filename:  #frac{749}{99}x^3-816 #tan -47_11845.jpg\n"
     ]
    },
    {
     "name": "stderr",
     "output_type": "stream",
     "text": [
      "Lossy conversion from float64 to uint8. Range [-0.9461227267905672, 1.0]. Convert image to uint8 prior to saving to suppress this warning.\n"
     ]
    },
    {
     "name": "stdout",
     "output_type": "stream",
     "text": [
      "Finished:  104\n",
      "Filename:  #frac{489}{445}x^3-199 #tan 359_24268.jpg\n"
     ]
    },
    {
     "name": "stderr",
     "output_type": "stream",
     "text": [
      "Lossy conversion from float64 to uint8. Range [-0.47080095007592593, 1.0]. Convert image to uint8 prior to saving to suppress this warning.\n"
     ]
    },
    {
     "name": "stdout",
     "output_type": "stream",
     "text": [
      "Finished:  105\n",
      "Filename:  #frac{71}{199}x^4-634 #tan -498_38724.jpg\n"
     ]
    },
    {
     "name": "stderr",
     "output_type": "stream",
     "text": [
      "Lossy conversion from float64 to uint8. Range [-0.5818544200897171, 1.0]. Convert image to uint8 prior to saving to suppress this warning.\n"
     ]
    },
    {
     "name": "stdout",
     "output_type": "stream",
     "text": [
      "Finished:  106\n",
      "Filename:  #frac{578}{21}x^4+189 #cos 692_55290.jpg\n"
     ]
    },
    {
     "name": "stderr",
     "output_type": "stream",
     "text": [
      "Lossy conversion from float64 to uint8. Range [-0.7279938392360896, 1.0]. Convert image to uint8 prior to saving to suppress this warning.\n"
     ]
    },
    {
     "name": "stdout",
     "output_type": "stream",
     "text": [
      "Finished:  107\n",
      "Filename:  #frac{423}{464}x^2+442 #tan 897_38319.jpg\n"
     ]
    },
    {
     "name": "stderr",
     "output_type": "stream",
     "text": [
      "Lossy conversion from float64 to uint8. Range [-0.8845771069258311, 1.0]. Convert image to uint8 prior to saving to suppress this warning.\n"
     ]
    },
    {
     "name": "stdout",
     "output_type": "stream",
     "text": [
      "Finished:  108\n",
      "Filename:  #frac{722}{874}x^3+101 #tan 905_45167.jpg\n"
     ]
    },
    {
     "name": "stderr",
     "output_type": "stream",
     "text": [
      "Lossy conversion from float64 to uint8. Range [-0.857085684081083, 1.0]. Convert image to uint8 prior to saving to suppress this warning.\n"
     ]
    },
    {
     "name": "stdout",
     "output_type": "stream",
     "text": [
      "Finished:  109\n",
      "Filename:  #frac{738}{903}x^2+406 #tan 1216_59185.jpg\n"
     ]
    },
    {
     "name": "stderr",
     "output_type": "stream",
     "text": [
      "Lossy conversion from float64 to uint8. Range [-0.999999999999986, 1.0]. Convert image to uint8 prior to saving to suppress this warning.\n"
     ]
    },
    {
     "name": "stdout",
     "output_type": "stream",
     "text": [
      "Finished:  110\n",
      "Filename:  #frac{988}{500}x^4-632 #sin448_23567.jpg\n"
     ]
    },
    {
     "name": "stderr",
     "output_type": "stream",
     "text": [
      "Lossy conversion from float64 to uint8. Range [-0.8642081213580572, 1.0]. Convert image to uint8 prior to saving to suppress this warning.\n"
     ]
    },
    {
     "name": "stdout",
     "output_type": "stream",
     "text": [
      "Finished:  111\n",
      "Filename:  #frac{737}{756}x^2-753 #sin40_36034.jpg\n"
     ]
    },
    {
     "name": "stderr",
     "output_type": "stream",
     "text": [
      "Lossy conversion from float64 to uint8. Range [-0.6296139361154964, 1.0]. Convert image to uint8 prior to saving to suppress this warning.\n"
     ]
    },
    {
     "name": "stdout",
     "output_type": "stream",
     "text": [
      "Finished:  112\n",
      "Filename:  #frac{865}{384}x^3-312 #sin641_79392.jpg\n"
     ]
    },
    {
     "name": "stderr",
     "output_type": "stream",
     "text": [
      "Lossy conversion from float64 to uint8. Range [-0.747226522187812, 1.0]. Convert image to uint8 prior to saving to suppress this warning.\n"
     ]
    },
    {
     "name": "stdout",
     "output_type": "stream",
     "text": [
      "Finished:  113\n",
      "Filename:  #frac{307}{356}x^3-757 #cos -469_59435.jpg\n"
     ]
    },
    {
     "name": "stderr",
     "output_type": "stream",
     "text": [
      "Lossy conversion from float64 to uint8. Range [-0.7349195552411444, 1.0]. Convert image to uint8 prior to saving to suppress this warning.\n"
     ]
    },
    {
     "name": "stdout",
     "output_type": "stream",
     "text": [
      "Finished:  114\n",
      "Filename:  #frac{260}{47}x^2-48 #cos 138_41977.jpg\n"
     ]
    },
    {
     "name": "stderr",
     "output_type": "stream",
     "text": [
      "Lossy conversion from float64 to uint8. Range [-0.9967940460855803, 1.0]. Convert image to uint8 prior to saving to suppress this warning.\n"
     ]
    },
    {
     "name": "stdout",
     "output_type": "stream",
     "text": [
      "Finished:  115\n",
      "Filename:  #frac{821}{655}x^4-270 #sin642_86803.jpg\n"
     ]
    },
    {
     "name": "stderr",
     "output_type": "stream",
     "text": [
      "Lossy conversion from float64 to uint8. Range [-0.6539755773851044, 1.0]. Convert image to uint8 prior to saving to suppress this warning.\n"
     ]
    },
    {
     "name": "stdout",
     "output_type": "stream",
     "text": [
      "Finished:  116\n",
      "Filename:  #frac{434}{582}x^2+966 #sin1490_38248.jpg\n"
     ]
    },
    {
     "name": "stderr",
     "output_type": "stream",
     "text": [
      "Lossy conversion from float64 to uint8. Range [-0.6546299288946311, 1.0]. Convert image to uint8 prior to saving to suppress this warning.\n"
     ]
    },
    {
     "name": "stdout",
     "output_type": "stream",
     "text": [
      "Finished:  117\n",
      "Filename:  #frac{55}{466}x^2-481 #tan -343_97299.jpg\n"
     ]
    },
    {
     "name": "stderr",
     "output_type": "stream",
     "text": [
      "Lossy conversion from float64 to uint8. Range [-0.9966494290023676, 1.0]. Convert image to uint8 prior to saving to suppress this warning.\n"
     ]
    },
    {
     "name": "stdout",
     "output_type": "stream",
     "text": [
      "Finished:  118\n",
      "Filename:  #frac{553}{760}x^3+218 #cos 765_19991.jpg\n"
     ]
    },
    {
     "name": "stderr",
     "output_type": "stream",
     "text": [
      "Lossy conversion from float64 to uint8. Range [-0.7907489740082129, 1.0]. Convert image to uint8 prior to saving to suppress this warning.\n"
     ]
    },
    {
     "name": "stdout",
     "output_type": "stream",
     "text": [
      "Finished:  119\n",
      "Filename:  #frac{238}{793}x^2-442 #sin-197_39420.jpg\n"
     ]
    },
    {
     "name": "stderr",
     "output_type": "stream",
     "text": [
      "Lossy conversion from float64 to uint8. Range [-0.5639534883721139, 1.0]. Convert image to uint8 prior to saving to suppress this warning.\n"
     ]
    },
    {
     "name": "stdout",
     "output_type": "stream",
     "text": [
      "Finished:  120\n",
      "Filename:  #frac{484}{208}x^4-856 #tan -368_75183.jpg\n"
     ]
    },
    {
     "name": "stderr",
     "output_type": "stream",
     "text": [
      "Lossy conversion from float64 to uint8. Range [-0.6930823984732337, 1.0]. Convert image to uint8 prior to saving to suppress this warning.\n"
     ]
    },
    {
     "name": "stdout",
     "output_type": "stream",
     "text": [
      "Finished:  121\n",
      "Filename:  #frac{453}{159}x^3+665 #sin1140_44415.jpg\n"
     ]
    },
    {
     "name": "stderr",
     "output_type": "stream",
     "text": [
      "Lossy conversion from float64 to uint8. Range [-0.3352133681920918, 1.0]. Convert image to uint8 prior to saving to suppress this warning.\n"
     ]
    },
    {
     "name": "stdout",
     "output_type": "stream",
     "text": [
      "Finished:  122\n",
      "Filename:  #frac{300}{727}x^4+852 #cos 1123_5792.jpg\n"
     ]
    },
    {
     "name": "stderr",
     "output_type": "stream",
     "text": [
      "Lossy conversion from float64 to uint8. Range [-0.8806687772061749, 1.0]. Convert image to uint8 prior to saving to suppress this warning.\n"
     ]
    },
    {
     "name": "stdout",
     "output_type": "stream",
     "text": [
      "Finished:  123\n",
      "Filename:  #frac{542}{981}x^2-264 #sin353_16693.jpg\n"
     ]
    },
    {
     "name": "stderr",
     "output_type": "stream",
     "text": [
      "Lossy conversion from float64 to uint8. Range [-0.9405248684839655, 1.0]. Convert image to uint8 prior to saving to suppress this warning.\n"
     ]
    },
    {
     "name": "stdout",
     "output_type": "stream",
     "text": [
      "Finished:  124\n",
      "Filename:  #frac{160}{92}x^4+11 #cos 101_95782.jpg\n"
     ]
    },
    {
     "name": "stderr",
     "output_type": "stream",
     "text": [
      "Lossy conversion from float64 to uint8. Range [-0.5659230985286796, 1.0]. Convert image to uint8 prior to saving to suppress this warning.\n"
     ]
    },
    {
     "name": "stdout",
     "output_type": "stream",
     "text": [
      "Finished:  125\n",
      "Filename:  #frac{608}{724}x^4+968 #tan 1672_66350.jpg\n"
     ]
    },
    {
     "name": "stderr",
     "output_type": "stream",
     "text": [
      "Lossy conversion from float64 to uint8. Range [-0.36756467525896924, 1.0]. Convert image to uint8 prior to saving to suppress this warning.\n"
     ]
    },
    {
     "name": "stdout",
     "output_type": "stream",
     "text": [
      "Finished:  126\n",
      "Filename:  #frac{802}{744}x^3+645 #tan 1490_39393.jpg\n"
     ]
    },
    {
     "name": "stderr",
     "output_type": "stream",
     "text": [
      "Lossy conversion from float64 to uint8. Range [-0.8344628975850668, 1.0]. Convert image to uint8 prior to saving to suppress this warning.\n"
     ]
    },
    {
     "name": "stdout",
     "output_type": "stream",
     "text": [
      "Finished:  127\n",
      "Filename:  #frac{503}{802}x^3-437 #tan 138_72697.jpg\n"
     ]
    },
    {
     "name": "stderr",
     "output_type": "stream",
     "text": [
      "Lossy conversion from float64 to uint8. Range [-0.6428571428571458, 1.0]. Convert image to uint8 prior to saving to suppress this warning.\n"
     ]
    },
    {
     "name": "stdout",
     "output_type": "stream",
     "text": [
      "Finished:  128\n",
      "Filename:  #frac{64}{249}x^3-495 #sin-332_22998.jpg\n"
     ]
    },
    {
     "name": "stderr",
     "output_type": "stream",
     "text": [
      "Lossy conversion from float64 to uint8. Range [-0.6653186860028164, 1.0]. Convert image to uint8 prior to saving to suppress this warning.\n"
     ]
    },
    {
     "name": "stdout",
     "output_type": "stream",
     "text": [
      "Finished:  129\n",
      "Filename:  #frac{123}{570}x^4+224 #sin407_31946.jpg\n"
     ]
    },
    {
     "name": "stderr",
     "output_type": "stream",
     "text": [
      "Lossy conversion from float64 to uint8. Range [-0.8401752103056478, 1.0]. Convert image to uint8 prior to saving to suppress this warning.\n"
     ]
    },
    {
     "name": "stdout",
     "output_type": "stream",
     "text": [
      "Finished:  130\n",
      "Filename:  #frac{341}{661}x^4-863 #tan -460_75614.jpg\n"
     ]
    },
    {
     "name": "stderr",
     "output_type": "stream",
     "text": [
      "Lossy conversion from float64 to uint8. Range [-0.8912732435583485, 1.0]. Convert image to uint8 prior to saving to suppress this warning.\n"
     ]
    },
    {
     "name": "stdout",
     "output_type": "stream",
     "text": [
      "Finished:  131\n",
      "Filename:  #frac{692}{342}x^4+373 #tan 1149_84533.jpg\n"
     ]
    },
    {
     "name": "stderr",
     "output_type": "stream",
     "text": [
      "Lossy conversion from float64 to uint8. Range [-0.7027550952918675, 1.0]. Convert image to uint8 prior to saving to suppress this warning.\n"
     ]
    },
    {
     "name": "stdout",
     "output_type": "stream",
     "text": [
      "Finished:  132\n",
      "Filename:  #frac{930}{770}x^4-461 #cos 415_34246.jpg\n"
     ]
    },
    {
     "name": "stderr",
     "output_type": "stream",
     "text": [
      "Lossy conversion from float64 to uint8. Range [-0.899303405572741, 1.0]. Convert image to uint8 prior to saving to suppress this warning.\n"
     ]
    },
    {
     "name": "stdout",
     "output_type": "stream",
     "text": [
      "Finished:  133\n",
      "Filename:  #frac{897}{378}x^2+87 #tan 1000_7437.jpg\n"
     ]
    },
    {
     "name": "stderr",
     "output_type": "stream",
     "text": [
      "Lossy conversion from float64 to uint8. Range [-0.946147660969421, 1.0]. Convert image to uint8 prior to saving to suppress this warning.\n"
     ]
    },
    {
     "name": "stdout",
     "output_type": "stream",
     "text": [
      "Finished:  134\n",
      "Filename:  #frac{715}{265}x^4-521 #sin255_29630.jpg\n"
     ]
    },
    {
     "name": "stderr",
     "output_type": "stream",
     "text": [
      "Lossy conversion from float64 to uint8. Range [-0.5248603197987601, 1.0]. Convert image to uint8 prior to saving to suppress this warning.\n"
     ]
    },
    {
     "name": "stdout",
     "output_type": "stream",
     "text": [
      "Finished:  135\n",
      "Filename:  #frac{820}{144}x^3+290 #tan 1188_82731.jpg\n"
     ]
    },
    {
     "name": "stderr",
     "output_type": "stream",
     "text": [
      "Lossy conversion from float64 to uint8. Range [-0.8675115207373344, 1.0]. Convert image to uint8 prior to saving to suppress this warning.\n"
     ]
    },
    {
     "name": "stdout",
     "output_type": "stream",
     "text": [
      "Finished:  136\n",
      "Filename:  #frac{443}{376}x^2+895 #cos 1305_72445.jpg\n"
     ]
    },
    {
     "name": "stderr",
     "output_type": "stream",
     "text": [
      "Lossy conversion from float64 to uint8. Range [-0.9474892395982801, 1.0]. Convert image to uint8 prior to saving to suppress this warning.\n"
     ]
    },
    {
     "name": "stdout",
     "output_type": "stream",
     "text": [
      "Finished:  137\n",
      "Filename:  #frac{581}{534}x^2-708 #cos -149_46210.jpg\n"
     ]
    },
    {
     "name": "stderr",
     "output_type": "stream",
     "text": [
      "Lossy conversion from float64 to uint8. Range [-0.6700205378594201, 1.0]. Convert image to uint8 prior to saving to suppress this warning.\n"
     ]
    },
    {
     "name": "stdout",
     "output_type": "stream",
     "text": [
      "Finished:  138\n",
      "Filename:  #frac{284}{507}x^2+212 #sin564_56162.jpg\n"
     ]
    },
    {
     "name": "stderr",
     "output_type": "stream",
     "text": [
      "Lossy conversion from float64 to uint8. Range [-0.953488372093016, 1.0]. Convert image to uint8 prior to saving to suppress this warning.\n"
     ]
    },
    {
     "name": "stdout",
     "output_type": "stream",
     "text": [
      "Finished:  139\n",
      "Filename:  #frac{453}{637}x^3-194 #sin353_99100.jpg\n"
     ]
    },
    {
     "name": "stderr",
     "output_type": "stream",
     "text": [
      "Lossy conversion from float64 to uint8. Range [-0.6163599542267489, 1.0]. Convert image to uint8 prior to saving to suppress this warning.\n"
     ]
    },
    {
     "name": "stdout",
     "output_type": "stream",
     "text": [
      "Finished:  140\n",
      "Filename:  #frac{690}{70}x^2+785 #sin1570_3146.jpg\n"
     ]
    },
    {
     "name": "stderr",
     "output_type": "stream",
     "text": [
      "Lossy conversion from float64 to uint8. Range [-0.9264741911464516, 1.0]. Convert image to uint8 prior to saving to suppress this warning.\n"
     ]
    },
    {
     "name": "stdout",
     "output_type": "stream",
     "text": [
      "Finished:  141\n",
      "Filename:  #frac{628}{230}x^3+761 #sin1412_67200.jpg\n"
     ]
    },
    {
     "name": "stderr",
     "output_type": "stream",
     "text": [
      "Lossy conversion from float64 to uint8. Range [-0.8947368421052319, 1.0]. Convert image to uint8 prior to saving to suppress this warning.\n"
     ]
    },
    {
     "name": "stdout",
     "output_type": "stream",
     "text": [
      "Finished:  142\n",
      "Filename:  #frac{510}{486}x^3+690 #sin1220_4447.jpg\n"
     ]
    },
    {
     "name": "stderr",
     "output_type": "stream",
     "text": [
      "Lossy conversion from float64 to uint8. Range [-0.5546676441837658, 1.0]. Convert image to uint8 prior to saving to suppress this warning.\n"
     ]
    },
    {
     "name": "stdout",
     "output_type": "stream",
     "text": [
      "Finished:  143\n",
      "Filename:  #frac{909}{619}x^3-690 #sin314_25665.jpg\n"
     ]
    },
    {
     "name": "stderr",
     "output_type": "stream",
     "text": [
      "Lossy conversion from float64 to uint8. Range [-0.7716436123760189, 1.0]. Convert image to uint8 prior to saving to suppress this warning.\n"
     ]
    },
    {
     "name": "stdout",
     "output_type": "stream",
     "text": [
      "Finished:  144\n",
      "Filename:  #frac{689}{197}x^4+291 #cos 894_96255.jpg\n"
     ]
    },
    {
     "name": "stderr",
     "output_type": "stream",
     "text": [
      "Lossy conversion from float64 to uint8. Range [-0.7128722403503986, 1.0]. Convert image to uint8 prior to saving to suppress this warning.\n"
     ]
    },
    {
     "name": "stdout",
     "output_type": "stream",
     "text": [
      "Finished:  145\n",
      "Filename:  #frac{552}{215}x^2+270 #cos 807_18833.jpg\n"
     ]
    },
    {
     "name": "stderr",
     "output_type": "stream",
     "text": [
      "Lossy conversion from float64 to uint8. Range [-0.4388716193051889, 1.0]. Convert image to uint8 prior to saving to suppress this warning.\n"
     ]
    },
    {
     "name": "stdout",
     "output_type": "stream",
     "text": [
      "Finished:  146\n",
      "Filename:  #frac{774}{219}x^3-538 #tan 305_12023.jpg\n"
     ]
    },
    {
     "name": "stderr",
     "output_type": "stream",
     "text": [
      "Lossy conversion from float64 to uint8. Range [-0.65084238839077, 1.0]. Convert image to uint8 prior to saving to suppress this warning.\n"
     ]
    },
    {
     "name": "stdout",
     "output_type": "stream",
     "text": [
      "Finished:  147\n",
      "Filename:  #frac{572}{264}x^4+486 #cos 961_41904.jpg\n"
     ]
    },
    {
     "name": "stderr",
     "output_type": "stream",
     "text": [
      "Lossy conversion from float64 to uint8. Range [-0.5961538461538611, 1.0]. Convert image to uint8 prior to saving to suppress this warning.\n"
     ]
    },
    {
     "name": "stdout",
     "output_type": "stream",
     "text": [
      "Finished:  148\n",
      "Filename:  #frac{800}{964}x^2-417 #tan 398_78718.jpg\n"
     ]
    },
    {
     "name": "stderr",
     "output_type": "stream",
     "text": [
      "Lossy conversion from float64 to uint8. Range [-0.6450406249456203, 1.0]. Convert image to uint8 prior to saving to suppress this warning.\n"
     ]
    },
    {
     "name": "stdout",
     "output_type": "stream",
     "text": [
      "Finished:  149\n",
      "Filename:  #frac{649}{70}x^4+991 #cos 1607_48559.jpg\n"
     ]
    },
    {
     "name": "stderr",
     "output_type": "stream",
     "text": [
      "Lossy conversion from float64 to uint8. Range [-0.9986631016042673, 1.0]. Convert image to uint8 prior to saving to suppress this warning.\n"
     ]
    },
    {
     "name": "stdout",
     "output_type": "stream",
     "text": [
      "Finished:  150\n",
      "Filename:  #frac{228}{361}x^3-721 #cos -571_75567.jpg\n"
     ]
    },
    {
     "name": "stderr",
     "output_type": "stream",
     "text": [
      "Lossy conversion from float64 to uint8. Range [-0.8525830275399326, 1.0]. Convert image to uint8 prior to saving to suppress this warning.\n"
     ]
    },
    {
     "name": "stdout",
     "output_type": "stream",
     "text": [
      "Finished:  151\n",
      "Filename:  #frac{718}{179}x^2+480 #tan 1217_2422.jpg\n"
     ]
    },
    {
     "name": "stderr",
     "output_type": "stream",
     "text": [
      "Lossy conversion from float64 to uint8. Range [-0.8080882352941263, 1.0]. Convert image to uint8 prior to saving to suppress this warning.\n"
     ]
    },
    {
     "name": "stdout",
     "output_type": "stream",
     "text": [
      "Finished:  152\n",
      "Filename:  #frac{96}{731}x^3+360 #cos 420_95995.jpg\n"
     ]
    },
    {
     "name": "stderr",
     "output_type": "stream",
     "text": [
      "Lossy conversion from float64 to uint8. Range [-0.6092675060523619, 1.0]. Convert image to uint8 prior to saving to suppress this warning.\n"
     ]
    },
    {
     "name": "stdout",
     "output_type": "stream",
     "text": [
      "Finished:  153\n",
      "Filename:  #frac{966}{643}x^2-905 #tan 78_32152.jpg\n"
     ]
    },
    {
     "name": "stderr",
     "output_type": "stream",
     "text": [
      "Lossy conversion from float64 to uint8. Range [-0.930851063829797, 1.0]. Convert image to uint8 prior to saving to suppress this warning.\n"
     ]
    },
    {
     "name": "stdout",
     "output_type": "stream",
     "text": [
      "Finished:  154\n",
      "Filename:  #frac{80}{351}x^4-602 #sin-459_58050.jpg\n"
     ]
    },
    {
     "name": "stderr",
     "output_type": "stream",
     "text": [
      "Lossy conversion from float64 to uint8. Range [-0.8944239155764053, 1.0]. Convert image to uint8 prior to saving to suppress this warning.\n"
     ]
    },
    {
     "name": "stdout",
     "output_type": "stream",
     "text": [
      "Finished:  155\n",
      "Filename:  #frac{844}{182}x^3-226 #cos 520_66152.jpg\n"
     ]
    },
    {
     "name": "stderr",
     "output_type": "stream",
     "text": [
      "Lossy conversion from float64 to uint8. Range [-0.7502082521909432, 1.0]. Convert image to uint8 prior to saving to suppress this warning.\n"
     ]
    },
    {
     "name": "stdout",
     "output_type": "stream",
     "text": [
      "Finished:  156\n",
      "Filename:  #frac{44}{780}x^3+527 #sin639_95147.jpg\n"
     ]
    },
    {
     "name": "stderr",
     "output_type": "stream",
     "text": [
      "Lossy conversion from float64 to uint8. Range [-0.4455237368067938, 1.0]. Convert image to uint8 prior to saving to suppress this warning.\n"
     ]
    },
    {
     "name": "stdout",
     "output_type": "stream",
     "text": [
      "Finished:  157\n",
      "Filename:  #frac{516}{863}x^2+780 #sin1307_39836.jpg\n"
     ]
    },
    {
     "name": "stderr",
     "output_type": "stream",
     "text": [
      "Lossy conversion from float64 to uint8. Range [-0.8947368421052602, 1.0]. Convert image to uint8 prior to saving to suppress this warning.\n"
     ]
    },
    {
     "name": "stdout",
     "output_type": "stream",
     "text": [
      "Finished:  158\n",
      "Filename:  #frac{891}{329}x^4+561 #sin1470_8214.jpg\n"
     ]
    },
    {
     "name": "stderr",
     "output_type": "stream",
     "text": [
      "Lossy conversion from float64 to uint8. Range [-0.8368339493450099, 1.0]. Convert image to uint8 prior to saving to suppress this warning.\n"
     ]
    },
    {
     "name": "stdout",
     "output_type": "stream",
     "text": [
      "Finished:  159\n",
      "Filename:  #frac{518}{853}x^4-866 #tan -321_31862.jpg\n"
     ]
    },
    {
     "name": "stderr",
     "output_type": "stream",
     "text": [
      "Lossy conversion from float64 to uint8. Range [-0.6933585197849776, 1.0]. Convert image to uint8 prior to saving to suppress this warning.\n"
     ]
    },
    {
     "name": "stdout",
     "output_type": "stream",
     "text": [
      "Finished:  160\n",
      "Filename:  #frac{770}{208}x^3+168 #cos 898_28389.jpg\n"
     ]
    },
    {
     "name": "stderr",
     "output_type": "stream",
     "text": [
      "Lossy conversion from float64 to uint8. Range [-0.6733856918997292, 1.0]. Convert image to uint8 prior to saving to suppress this warning.\n"
     ]
    },
    {
     "name": "stdout",
     "output_type": "stream",
     "text": [
      "Finished:  161\n",
      "Filename:  #frac{47}{742}x^2-993 #tan -898_3989.jpg\n"
     ]
    },
    {
     "name": "stderr",
     "output_type": "stream",
     "text": [
      "Lossy conversion from float64 to uint8. Range [-0.3897897316821507, 1.0]. Convert image to uint8 prior to saving to suppress this warning.\n"
     ]
    },
    {
     "name": "stdout",
     "output_type": "stream",
     "text": [
      "Finished:  162\n",
      "Filename:  #frac{705}{562}x^4+59 #cos 667_51178.jpg\n"
     ]
    },
    {
     "name": "stderr",
     "output_type": "stream",
     "text": [
      "Lossy conversion from float64 to uint8. Range [-0.8531256175482524, 1.0]. Convert image to uint8 prior to saving to suppress this warning.\n"
     ]
    },
    {
     "name": "stdout",
     "output_type": "stream",
     "text": [
      "Finished:  163\n",
      "Filename:  #frac{919}{677}x^4+532 #cos 1382_54194.jpg\n"
     ]
    },
    {
     "name": "stderr",
     "output_type": "stream",
     "text": [
      "Lossy conversion from float64 to uint8. Range [-0.7487984218077475, 1.0]. Convert image to uint8 prior to saving to suppress this warning.\n"
     ]
    },
    {
     "name": "stdout",
     "output_type": "stream",
     "text": [
      "Finished:  164\n",
      "Filename:  #frac{892}{30}x^3+88 #sin1038_49595.jpg\n"
     ]
    },
    {
     "name": "stderr",
     "output_type": "stream",
     "text": [
      "Lossy conversion from float64 to uint8. Range [-0.6825980392156651, 1.0]. Convert image to uint8 prior to saving to suppress this warning.\n"
     ]
    },
    {
     "name": "stdout",
     "output_type": "stream",
     "text": [
      "Finished:  165\n",
      "Filename:  #frac{900}{255}x^2-827 #cos 2_66686.jpg\n"
     ]
    },
    {
     "name": "stderr",
     "output_type": "stream",
     "text": [
      "Lossy conversion from float64 to uint8. Range [-0.797918450694961, 1.0]. Convert image to uint8 prior to saving to suppress this warning.\n"
     ]
    },
    {
     "name": "stdout",
     "output_type": "stream",
     "text": [
      "Finished:  166\n",
      "Filename:  #frac{352}{354}x^2+881 #tan 1242_47105.jpg\n"
     ]
    },
    {
     "name": "stderr",
     "output_type": "stream",
     "text": [
      "Lossy conversion from float64 to uint8. Range [-0.6985183795948903, 1.0]. Convert image to uint8 prior to saving to suppress this warning.\n"
     ]
    },
    {
     "name": "stdout",
     "output_type": "stream",
     "text": [
      "Finished:  167\n",
      "Filename:  #frac{661}{166}x^3+637 #cos 1214_25673.jpg\n"
     ]
    },
    {
     "name": "stderr",
     "output_type": "stream",
     "text": [
      "Lossy conversion from float64 to uint8. Range [-0.6071428571428468, 1.0]. Convert image to uint8 prior to saving to suppress this warning.\n"
     ]
    },
    {
     "name": "stdout",
     "output_type": "stream",
     "text": [
      "Finished:  168\n",
      "Filename:  #frac{589}{847}x^2-927 #tan -252_46850.jpg\n"
     ]
    },
    {
     "name": "stderr",
     "output_type": "stream",
     "text": [
      "Lossy conversion from float64 to uint8. Range [-0.7439808481532149, 1.0]. Convert image to uint8 prior to saving to suppress this warning.\n"
     ]
    },
    {
     "name": "stdout",
     "output_type": "stream",
     "text": [
      "Finished:  169\n",
      "Filename:  #frac{184}{410}x^3-605 #cos -509_91241.jpg\n"
     ]
    },
    {
     "name": "stderr",
     "output_type": "stream",
     "text": [
      "Lossy conversion from float64 to uint8. Range [-0.9957636133632268, 1.0]. Convert image to uint8 prior to saving to suppress this warning.\n"
     ]
    },
    {
     "name": "stdout",
     "output_type": "stream",
     "text": [
      "Finished:  170\n",
      "Filename:  #frac{951}{911}x^2-337 #cos 594_51228.jpg\n"
     ]
    },
    {
     "name": "stderr",
     "output_type": "stream",
     "text": [
      "Lossy conversion from float64 to uint8. Range [-0.5904476714959503, 1.0]. Convert image to uint8 prior to saving to suppress this warning.\n"
     ]
    },
    {
     "name": "stdout",
     "output_type": "stream",
     "text": [
      "Finished:  171\n",
      "Filename:  #frac{275}{76}x^3+646 #cos 902_99709.jpg\n"
     ]
    },
    {
     "name": "stderr",
     "output_type": "stream",
     "text": [
      "Lossy conversion from float64 to uint8. Range [-0.9975153254206335, 1.0]. Convert image to uint8 prior to saving to suppress this warning.\n"
     ]
    },
    {
     "name": "stdout",
     "output_type": "stream",
     "text": [
      "Finished:  172\n",
      "Filename:  #frac{280}{518}x^2+70 #cos 302_53395.jpg\n"
     ]
    },
    {
     "name": "stderr",
     "output_type": "stream",
     "text": [
      "Lossy conversion from float64 to uint8. Range [-0.4597651051370759, 1.0]. Convert image to uint8 prior to saving to suppress this warning.\n"
     ]
    },
    {
     "name": "stdout",
     "output_type": "stream",
     "text": [
      "Finished:  173\n",
      "Filename:  #frac{468}{725}x^3-822 #sin-302_12834.jpg\n"
     ]
    },
    {
     "name": "stderr",
     "output_type": "stream",
     "text": [
      "Lossy conversion from float64 to uint8. Range [-0.9919117647058766, 1.0]. Convert image to uint8 prior to saving to suppress this warning.\n"
     ]
    },
    {
     "name": "stdout",
     "output_type": "stream",
     "text": [
      "Finished:  174\n",
      "Filename:  #frac{797}{880}x^2+312 #cos 1109_74953.jpg\n"
     ]
    },
    {
     "name": "stderr",
     "output_type": "stream",
     "text": [
      "Lossy conversion from float64 to uint8. Range [-0.8018074063167044, 1.0]. Convert image to uint8 prior to saving to suppress this warning.\n"
     ]
    },
    {
     "name": "stdout",
     "output_type": "stream",
     "text": [
      "Finished:  175\n",
      "Filename:  #frac{521}{949}x^4+608 #tan 1160_26874.jpg\n"
     ]
    },
    {
     "name": "stderr",
     "output_type": "stream",
     "text": [
      "Lossy conversion from float64 to uint8. Range [-0.6959348790744205, 1.0]. Convert image to uint8 prior to saving to suppress this warning.\n"
     ]
    },
    {
     "name": "stdout",
     "output_type": "stream",
     "text": [
      "Finished:  176\n",
      "Filename:  #frac{591}{104}x^3+963 #tan 1593_89262.jpg\n"
     ]
    },
    {
     "name": "stderr",
     "output_type": "stream",
     "text": [
      "Lossy conversion from float64 to uint8. Range [-0.8461538461538397, 1.0]. Convert image to uint8 prior to saving to suppress this warning.\n"
     ]
    },
    {
     "name": "stdout",
     "output_type": "stream",
     "text": [
      "Finished:  177\n",
      "Filename:  #frac{411}{784}x^4+369 #cos 741_33081.jpg\n"
     ]
    },
    {
     "name": "stderr",
     "output_type": "stream",
     "text": [
      "Lossy conversion from float64 to uint8. Range [-0.9925373134328356, 1.0]. Convert image to uint8 prior to saving to suppress this warning.\n"
     ]
    },
    {
     "name": "stdout",
     "output_type": "stream",
     "text": [
      "Finished:  178\n",
      "Filename:  #frac{908}{887}x^2+193 #sin1144_51241.jpg\n"
     ]
    },
    {
     "name": "stderr",
     "output_type": "stream",
     "text": [
      "Lossy conversion from float64 to uint8. Range [-0.9420303605313025, 1.0]. Convert image to uint8 prior to saving to suppress this warning.\n"
     ]
    },
    {
     "name": "stdout",
     "output_type": "stream",
     "text": [
      "Finished:  179\n",
      "Filename:  #frac{546}{140}x^3+827 #cos 1300_15024.jpg\n"
     ]
    },
    {
     "name": "stderr",
     "output_type": "stream",
     "text": [
      "Lossy conversion from float64 to uint8. Range [-0.886950057031109, 1.0]. Convert image to uint8 prior to saving to suppress this warning.\n"
     ]
    },
    {
     "name": "stdout",
     "output_type": "stream",
     "text": [
      "Finished:  180\n",
      "Filename:  #frac{232}{608}x^4-876 #cos -662_97862.jpg\n"
     ]
    },
    {
     "name": "stderr",
     "output_type": "stream",
     "text": [
      "Lossy conversion from float64 to uint8. Range [-0.7345907644973036, 1.0]. Convert image to uint8 prior to saving to suppress this warning.\n"
     ]
    },
    {
     "name": "stdout",
     "output_type": "stream",
     "text": [
      "Finished:  181\n",
      "Filename:  #frac{175}{429}x^2-584 #cos -429_75137.jpg\n"
     ]
    },
    {
     "name": "stderr",
     "output_type": "stream",
     "text": [
      "Lossy conversion from float64 to uint8. Range [-0.5052579698200169, 1.0]. Convert image to uint8 prior to saving to suppress this warning.\n"
     ]
    },
    {
     "name": "stdout",
     "output_type": "stream",
     "text": [
      "Finished:  182\n",
      "Filename:  #frac{120}{62}x^2-105 #tan 17_40883.jpg\n"
     ]
    },
    {
     "name": "stderr",
     "output_type": "stream",
     "text": [
      "Lossy conversion from float64 to uint8. Range [-0.6898498576118514, 1.0]. Convert image to uint8 prior to saving to suppress this warning.\n"
     ]
    },
    {
     "name": "stdout",
     "output_type": "stream",
     "text": [
      "Finished:  183\n",
      "Filename:  #frac{300}{454}x^2+757 #tan 1075_47863.jpg\n"
     ]
    },
    {
     "name": "stderr",
     "output_type": "stream",
     "text": [
      "Lossy conversion from float64 to uint8. Range [-0.7579642224782759, 1.0]. Convert image to uint8 prior to saving to suppress this warning.\n"
     ]
    },
    {
     "name": "stdout",
     "output_type": "stream",
     "text": [
      "Finished:  184\n",
      "Filename:  #frac{813}{487}x^2+140 #tan 990_79457.jpg\n"
     ]
    },
    {
     "name": "stderr",
     "output_type": "stream",
     "text": [
      "Lossy conversion from float64 to uint8. Range [-0.8725682448682864, 1.0]. Convert image to uint8 prior to saving to suppress this warning.\n"
     ]
    },
    {
     "name": "stdout",
     "output_type": "stream",
     "text": [
      "Finished:  185\n",
      "Filename:  #frac{369}{257}x^2-715 #cos -379_13783.jpg\n"
     ]
    },
    {
     "name": "stderr",
     "output_type": "stream",
     "text": [
      "Lossy conversion from float64 to uint8. Range [-0.8882974809819326, 1.0]. Convert image to uint8 prior to saving to suppress this warning.\n"
     ]
    },
    {
     "name": "stdout",
     "output_type": "stream",
     "text": [
      "Finished:  186\n",
      "Filename:  #frac{332}{731}x^2+197 #cos 472_15660.jpg\n"
     ]
    },
    {
     "name": "stderr",
     "output_type": "stream",
     "text": [
      "Lossy conversion from float64 to uint8. Range [-0.7047232428880137, 1.0]. Convert image to uint8 prior to saving to suppress this warning.\n"
     ]
    },
    {
     "name": "stdout",
     "output_type": "stream",
     "text": [
      "Finished:  187\n",
      "Filename:  #frac{980}{992}x^2-914 #tan 147_76884.jpg\n"
     ]
    },
    {
     "name": "stderr",
     "output_type": "stream",
     "text": [
      "Lossy conversion from float64 to uint8. Range [-0.9358166267909741, 1.0]. Convert image to uint8 prior to saving to suppress this warning.\n"
     ]
    },
    {
     "name": "stdout",
     "output_type": "stream",
     "text": [
      "Finished:  188\n",
      "Filename:  #frac{738}{815}x^2-117 #sin678_4931.jpg\n"
     ]
    },
    {
     "name": "stderr",
     "output_type": "stream",
     "text": [
      "Lossy conversion from float64 to uint8. Range [-0.8257114709211357, 1.0]. Convert image to uint8 prior to saving to suppress this warning.\n"
     ]
    },
    {
     "name": "stdout",
     "output_type": "stream",
     "text": [
      "Finished:  189\n",
      "Filename:  #frac{151}{335}x^2-802 #cos -667_29270.jpg\n"
     ]
    },
    {
     "name": "stderr",
     "output_type": "stream",
     "text": [
      "Lossy conversion from float64 to uint8. Range [-0.7606382978723475, 1.0]. Convert image to uint8 prior to saving to suppress this warning.\n"
     ]
    },
    {
     "name": "stdout",
     "output_type": "stream",
     "text": [
      "Finished:  190\n",
      "Filename:  #frac{469}{889}x^3-156 #tan 402_46041.jpg\n"
     ]
    },
    {
     "name": "stderr",
     "output_type": "stream",
     "text": [
      "Lossy conversion from float64 to uint8. Range [-0.7110217491251585, 1.0]. Convert image to uint8 prior to saving to suppress this warning.\n"
     ]
    },
    {
     "name": "stdout",
     "output_type": "stream",
     "text": [
      "Finished:  191\n",
      "Filename:  #frac{928}{283}x^3-396 #cos 480_51922.jpg\n"
     ]
    },
    {
     "name": "stderr",
     "output_type": "stream",
     "text": [
      "Lossy conversion from float64 to uint8. Range [-0.9542899129855692, 1.0]. Convert image to uint8 prior to saving to suppress this warning.\n"
     ]
    },
    {
     "name": "stdout",
     "output_type": "stream",
     "text": [
      "Finished:  192\n",
      "Filename:  #frac{335}{267}x^4+978 #sin1391_36913.jpg\n"
     ]
    },
    {
     "name": "stderr",
     "output_type": "stream",
     "text": [
      "Lossy conversion from float64 to uint8. Range [-0.8330387446348557, 1.0]. Convert image to uint8 prior to saving to suppress this warning.\n"
     ]
    },
    {
     "name": "stdout",
     "output_type": "stream",
     "text": [
      "Finished:  193\n",
      "Filename:  #frac{780}{252}x^3+16 #sin844_85721.jpg\n"
     ]
    },
    {
     "name": "stderr",
     "output_type": "stream",
     "text": [
      "Lossy conversion from float64 to uint8. Range [-0.8350113028883056, 1.0]. Convert image to uint8 prior to saving to suppress this warning.\n"
     ]
    },
    {
     "name": "stdout",
     "output_type": "stream",
     "text": [
      "Finished:  194\n",
      "Filename:  #frac{214}{354}x^3+867 #tan 1088_40721.jpg\n"
     ]
    },
    {
     "name": "stderr",
     "output_type": "stream",
     "text": [
      "Lossy conversion from float64 to uint8. Range [-0.601015915641789, 1.0]. Convert image to uint8 prior to saving to suppress this warning.\n"
     ]
    },
    {
     "name": "stdout",
     "output_type": "stream",
     "text": [
      "Finished:  195\n",
      "Filename:  #frac{288}{238}x^4-18 #tan 322_46127.jpg\n"
     ]
    },
    {
     "name": "stderr",
     "output_type": "stream",
     "text": [
      "Lossy conversion from float64 to uint8. Range [-0.6877590240641747, 1.0]. Convert image to uint8 prior to saving to suppress this warning.\n"
     ]
    },
    {
     "name": "stdout",
     "output_type": "stream",
     "text": [
      "Finished:  196\n",
      "Filename:  #frac{324}{536}x^3-211 #tan 154_95516.jpg\n"
     ]
    },
    {
     "name": "stderr",
     "output_type": "stream",
     "text": [
      "Lossy conversion from float64 to uint8. Range [-0.9354838709677367, 1.0]. Convert image to uint8 prior to saving to suppress this warning.\n"
     ]
    },
    {
     "name": "stdout",
     "output_type": "stream",
     "text": [
      "Finished:  197\n",
      "Filename:  #frac{179}{158}x^3+379 #tan 600_3430.jpg\n"
     ]
    },
    {
     "name": "stderr",
     "output_type": "stream",
     "text": [
      "Lossy conversion from float64 to uint8. Range [-0.7034264815430205, 1.0]. Convert image to uint8 prior to saving to suppress this warning.\n"
     ]
    },
    {
     "name": "stdout",
     "output_type": "stream",
     "text": [
      "Finished:  198\n",
      "Filename:  #frac{319}{982}x^4+479 #tan 896_39175.jpg\n"
     ]
    },
    {
     "name": "stderr",
     "output_type": "stream",
     "text": [
      "Lossy conversion from float64 to uint8. Range [-0.8421052631578901, 1.0]. Convert image to uint8 prior to saving to suppress this warning.\n"
     ]
    },
    {
     "name": "stdout",
     "output_type": "stream",
     "text": [
      "Finished:  199\n",
      "Filename:  #frac{375}{736}x^2+135 #tan 574_82951.jpg\n"
     ]
    },
    {
     "name": "stderr",
     "output_type": "stream",
     "text": [
      "Lossy conversion from float64 to uint8. Range [-0.684877989657405, 1.0]. Convert image to uint8 prior to saving to suppress this warning.\n"
     ]
    },
    {
     "name": "stdout",
     "output_type": "stream",
     "text": [
      "Finished:  200\n",
      "Filename:  #frac{408}{980}x^4+895 #tan 1322_74884.jpg\n"
     ]
    },
    {
     "name": "stderr",
     "output_type": "stream",
     "text": [
      "Lossy conversion from float64 to uint8. Range [-0.8423308800856131, 1.0]. Convert image to uint8 prior to saving to suppress this warning.\n"
     ]
    },
    {
     "name": "stdout",
     "output_type": "stream",
     "text": [
      "Finished:  201\n",
      "Filename:  #frac{563}{287}x^3+782 #cos 1343_35676.jpg\n"
     ]
    },
    {
     "name": "stderr",
     "output_type": "stream",
     "text": [
      "Lossy conversion from float64 to uint8. Range [-0.849144276775855, 1.0]. Convert image to uint8 prior to saving to suppress this warning.\n"
     ]
    },
    {
     "name": "stdout",
     "output_type": "stream",
     "text": [
      "Finished:  202\n",
      "Filename:  #frac{64}{142}x^4+307 #sin404_78293.jpg\n"
     ]
    },
    {
     "name": "stderr",
     "output_type": "stream",
     "text": [
      "Lossy conversion from float64 to uint8. Range [-0.36289838516050693, 1.0]. Convert image to uint8 prior to saving to suppress this warning.\n"
     ]
    },
    {
     "name": "stdout",
     "output_type": "stream",
     "text": [
      "Finished:  203\n",
      "Filename:  #frac{245}{841}x^2+619 #sin913_93179.jpg\n"
     ]
    },
    {
     "name": "stderr",
     "output_type": "stream",
     "text": [
      "Lossy conversion from float64 to uint8. Range [-0.8424287079279194, 1.0]. Convert image to uint8 prior to saving to suppress this warning.\n"
     ]
    },
    {
     "name": "stdout",
     "output_type": "stream",
     "text": [
      "Finished:  204\n",
      "Filename:  #frac{55}{708}x^3-990 #cos -964_8487.jpg\n"
     ]
    },
    {
     "name": "stderr",
     "output_type": "stream",
     "text": [
      "Lossy conversion from float64 to uint8. Range [-0.518743774788479, 1.0]. Convert image to uint8 prior to saving to suppress this warning.\n"
     ]
    },
    {
     "name": "stdout",
     "output_type": "stream",
     "text": [
      "Finished:  205\n",
      "Filename:  #frac{613}{506}x^3+129 #tan 821_61359.jpg\n"
     ]
    },
    {
     "name": "stderr",
     "output_type": "stream",
     "text": [
      "Lossy conversion from float64 to uint8. Range [-0.7605183773914539, 1.0]. Convert image to uint8 prior to saving to suppress this warning.\n"
     ]
    },
    {
     "name": "stdout",
     "output_type": "stream",
     "text": [
      "Finished:  206\n",
      "Filename:  #frac{805}{622}x^2+930 #sin1801_48182.jpg\n"
     ]
    },
    {
     "name": "stderr",
     "output_type": "stream",
     "text": [
      "Lossy conversion from float64 to uint8. Range [-0.8567605723692752, 1.0]. Convert image to uint8 prior to saving to suppress this warning.\n"
     ]
    },
    {
     "name": "stdout",
     "output_type": "stream",
     "text": [
      "Finished:  207\n",
      "Filename:  #frac{489}{498}x^2+145 #cos 623_37645.jpg\n"
     ]
    },
    {
     "name": "stderr",
     "output_type": "stream",
     "text": [
      "Lossy conversion from float64 to uint8. Range [-0.5313028684295213, 1.0]. Convert image to uint8 prior to saving to suppress this warning.\n"
     ]
    },
    {
     "name": "stdout",
     "output_type": "stream",
     "text": [
      "Finished:  208\n",
      "Filename:  #frac{78}{259}x^4+357 #cos 339_76690.jpg\n"
     ]
    },
    {
     "name": "stderr",
     "output_type": "stream",
     "text": [
      "Lossy conversion from float64 to uint8. Range [-0.6751834007305852, 1.0]. Convert image to uint8 prior to saving to suppress this warning.\n"
     ]
    },
    {
     "name": "stdout",
     "output_type": "stream",
     "text": [
      "Finished:  209\n",
      "Filename:  #frac{444}{431}x^4-831 #tan -307_90255.jpg\n"
     ]
    },
    {
     "name": "stderr",
     "output_type": "stream",
     "text": [
      "Lossy conversion from float64 to uint8. Range [-0.9267354120186336, 1.0]. Convert image to uint8 prior to saving to suppress this warning.\n"
     ]
    },
    {
     "name": "stdout",
     "output_type": "stream",
     "text": [
      "Finished:  210\n",
      "Filename:  #frac{40}{556}x^2+91 #cos 74_49870.jpg\n"
     ]
    },
    {
     "name": "stderr",
     "output_type": "stream",
     "text": [
      "Lossy conversion from float64 to uint8. Range [-0.8001713054102759, 1.0]. Convert image to uint8 prior to saving to suppress this warning.\n"
     ]
    },
    {
     "name": "stdout",
     "output_type": "stream",
     "text": [
      "Finished:  211\n",
      "Filename:  #frac{678}{638}x^2-556 #tan 218_62445.jpg\n"
     ]
    },
    {
     "name": "stderr",
     "output_type": "stream",
     "text": [
      "Lossy conversion from float64 to uint8. Range [-0.679453275628193, 1.0]. Convert image to uint8 prior to saving to suppress this warning.\n"
     ]
    },
    {
     "name": "stdout",
     "output_type": "stream",
     "text": [
      "Finished:  212\n",
      "Filename:  #frac{732}{630}x^2+751 #tan 1532_64785.jpg\n"
     ]
    },
    {
     "name": "stderr",
     "output_type": "stream",
     "text": [
      "Lossy conversion from float64 to uint8. Range [-0.7468629409805756, 1.0]. Convert image to uint8 prior to saving to suppress this warning.\n"
     ]
    },
    {
     "name": "stdout",
     "output_type": "stream",
     "text": [
      "Finished:  213\n",
      "Filename:  #frac{29}{822}x^4-760 #sin-684_19408.jpg\n"
     ]
    },
    {
     "name": "stderr",
     "output_type": "stream",
     "text": [
      "Lossy conversion from float64 to uint8. Range [-0.7484582604900629, 1.0]. Convert image to uint8 prior to saving to suppress this warning.\n"
     ]
    },
    {
     "name": "stdout",
     "output_type": "stream",
     "text": [
      "Finished:  214\n",
      "Filename:  #frac{937}{383}x^3+838 #sin1840_58961.jpg\n"
     ]
    },
    {
     "name": "stderr",
     "output_type": "stream",
     "text": [
      "Lossy conversion from float64 to uint8. Range [-1.7126214974711738, 1.0]. Convert image to uint8 prior to saving to suppress this warning.\n"
     ]
    },
    {
     "name": "stdout",
     "output_type": "stream",
     "text": [
      "Finished:  215\n",
      "Filename:  #frac{204}{396}x^2-198 #sin70_89599.jpg\n"
     ]
    },
    {
     "name": "stderr",
     "output_type": "stream",
     "text": [
      "Lossy conversion from float64 to uint8. Range [-0.6196603641456548, 1.0]. Convert image to uint8 prior to saving to suppress this warning.\n"
     ]
    },
    {
     "name": "stdout",
     "output_type": "stream",
     "text": [
      "Finished:  216\n",
      "Filename:  #frac{740}{323}x^2+170 #sin966_31281.jpg\n"
     ]
    },
    {
     "name": "stderr",
     "output_type": "stream",
     "text": [
      "Lossy conversion from float64 to uint8. Range [-0.7224135797376573, 1.0]. Convert image to uint8 prior to saving to suppress this warning.\n"
     ]
    },
    {
     "name": "stdout",
     "output_type": "stream",
     "text": [
      "Finished:  217\n",
      "Filename:  #frac{278}{328}x^3-889 #tan -524_90425.jpg\n"
     ]
    },
    {
     "name": "stderr",
     "output_type": "stream",
     "text": [
      "Lossy conversion from float64 to uint8. Range [-0.9467436974789784, 1.0]. Convert image to uint8 prior to saving to suppress this warning.\n"
     ]
    },
    {
     "name": "stdout",
     "output_type": "stream",
     "text": [
      "Finished:  218\n",
      "Filename:  #frac{593}{736}x^3+429 #sin1067_81704.jpg\n"
     ]
    },
    {
     "name": "stderr",
     "output_type": "stream",
     "text": [
      "Lossy conversion from float64 to uint8. Range [-0.7034883720930338, 1.0]. Convert image to uint8 prior to saving to suppress this warning.\n"
     ]
    },
    {
     "name": "stdout",
     "output_type": "stream",
     "text": [
      "Finished:  219\n",
      "Filename:  #frac{544}{198}x^3+563 #cos 1062_3972.jpg\n"
     ]
    },
    {
     "name": "stderr",
     "output_type": "stream",
     "text": [
      "Lossy conversion from float64 to uint8. Range [-0.9861344537815091, 1.0]. Convert image to uint8 prior to saving to suppress this warning.\n"
     ]
    },
    {
     "name": "stdout",
     "output_type": "stream",
     "text": [
      "Finished:  220\n",
      "Filename:  #frac{714}{99}x^3-68 #cos 625_73205.jpg\n"
     ]
    },
    {
     "name": "stderr",
     "output_type": "stream",
     "text": [
      "Lossy conversion from float64 to uint8. Range [-0.7376984620486459, 1.0]. Convert image to uint8 prior to saving to suppress this warning.\n"
     ]
    },
    {
     "name": "stdout",
     "output_type": "stream",
     "text": [
      "Finished:  221\n",
      "Filename:  #frac{979}{214}x^2-517 #sin522_15547.jpg\n"
     ]
    },
    {
     "name": "stderr",
     "output_type": "stream",
     "text": [
      "Lossy conversion from float64 to uint8. Range [-0.8411167236977708, 1.0]. Convert image to uint8 prior to saving to suppress this warning.\n"
     ]
    },
    {
     "name": "stdout",
     "output_type": "stream",
     "text": [
      "Finished:  222\n",
      "Filename:  #frac{53}{875}x^3-608 #cos -633_65462.jpg\n"
     ]
    },
    {
     "name": "stderr",
     "output_type": "stream",
     "text": [
      "Lossy conversion from float64 to uint8. Range [-0.9217483490541919, 1.0]. Convert image to uint8 prior to saving to suppress this warning.\n"
     ]
    },
    {
     "name": "stdout",
     "output_type": "stream",
     "text": [
      "Finished:  223\n",
      "Filename:  #frac{590}{789}x^2-10 #sin633_47872.jpg\n"
     ]
    },
    {
     "name": "stderr",
     "output_type": "stream",
     "text": [
      "Lossy conversion from float64 to uint8. Range [-0.8436121283728049, 1.0]. Convert image to uint8 prior to saving to suppress this warning.\n"
     ]
    },
    {
     "name": "stdout",
     "output_type": "stream",
     "text": [
      "Finished:  224\n",
      "Filename:  #frac{260}{472}x^3+238 #cos 415_34818.jpg\n"
     ]
    },
    {
     "name": "stderr",
     "output_type": "stream",
     "text": [
      "Lossy conversion from float64 to uint8. Range [-0.48472126091248363, 1.0]. Convert image to uint8 prior to saving to suppress this warning.\n"
     ]
    },
    {
     "name": "stdout",
     "output_type": "stream",
     "text": [
      "Finished:  225\n",
      "Filename:  #frac{770}{203}x^2-361 #cos 310_89512.jpg\n"
     ]
    },
    {
     "name": "stderr",
     "output_type": "stream",
     "text": [
      "Lossy conversion from float64 to uint8. Range [-0.7793554125251093, 1.0]. Convert image to uint8 prior to saving to suppress this warning.\n"
     ]
    },
    {
     "name": "stdout",
     "output_type": "stream",
     "text": [
      "Finished:  226\n",
      "Filename:  #frac{692}{506}x^3+651 #tan 1363_50472.jpg\n"
     ]
    },
    {
     "name": "stderr",
     "output_type": "stream",
     "text": [
      "Lossy conversion from float64 to uint8. Range [-0.6606138107416856, 1.0]. Convert image to uint8 prior to saving to suppress this warning.\n"
     ]
    },
    {
     "name": "stdout",
     "output_type": "stream",
     "text": [
      "Finished:  227\n",
      "Filename:  #frac{395}{24}x^2-134 #tan 328_81301.jpg\n"
     ]
    },
    {
     "name": "stderr",
     "output_type": "stream",
     "text": [
      "Lossy conversion from float64 to uint8. Range [-0.7522770398482044, 1.0]. Convert image to uint8 prior to saving to suppress this warning.\n"
     ]
    },
    {
     "name": "stdout",
     "output_type": "stream",
     "text": [
      "Finished:  228\n",
      "Filename:  #frac{513}{875}x^3-557 #tan -37_65193.jpg\n"
     ]
    },
    {
     "name": "stderr",
     "output_type": "stream",
     "text": [
      "Lossy conversion from float64 to uint8. Range [-0.6053242921554672, 1.0]. Convert image to uint8 prior to saving to suppress this warning.\n"
     ]
    },
    {
     "name": "stdout",
     "output_type": "stream",
     "text": [
      "Finished:  229\n",
      "Filename:  #frac{521}{579}x^4-414 #cos 28_58559.jpg\n"
     ]
    },
    {
     "name": "stderr",
     "output_type": "stream",
     "text": [
      "Lossy conversion from float64 to uint8. Range [-0.8016928287293187, 1.0]. Convert image to uint8 prior to saving to suppress this warning.\n"
     ]
    },
    {
     "name": "stdout",
     "output_type": "stream",
     "text": [
      "Finished:  230\n",
      "Filename:  #frac{466}{223}x^3+194 #tan 719_59324.jpg\n"
     ]
    },
    {
     "name": "stderr",
     "output_type": "stream",
     "text": [
      "Lossy conversion from float64 to uint8. Range [-0.7289567501641774, 1.0]. Convert image to uint8 prior to saving to suppress this warning.\n"
     ]
    },
    {
     "name": "stdout",
     "output_type": "stream",
     "text": [
      "Finished:  231\n",
      "Filename:  #frac{518}{889}x^3+460 #tan 1068_94495.jpg\n"
     ]
    },
    {
     "name": "stderr",
     "output_type": "stream",
     "text": [
      "Lossy conversion from float64 to uint8. Range [-0.8372667174294279, 1.0]. Convert image to uint8 prior to saving to suppress this warning.\n"
     ]
    },
    {
     "name": "stdout",
     "output_type": "stream",
     "text": [
      "Finished:  232\n",
      "Filename:  #frac{816}{623}x^4-361 #tan 502_80606.jpg\n"
     ]
    },
    {
     "name": "stderr",
     "output_type": "stream",
     "text": [
      "Lossy conversion from float64 to uint8. Range [-0.7304855914246571, 1.0]. Convert image to uint8 prior to saving to suppress this warning.\n"
     ]
    },
    {
     "name": "stdout",
     "output_type": "stream",
     "text": [
      "Finished:  233\n",
      "Filename:  #frac{332}{815}x^2-797 #sin-403_54964.jpg\n"
     ]
    },
    {
     "name": "stderr",
     "output_type": "stream",
     "text": [
      "Lossy conversion from float64 to uint8. Range [-0.49044471153845726, 1.0]. Convert image to uint8 prior to saving to suppress this warning.\n"
     ]
    },
    {
     "name": "stdout",
     "output_type": "stream",
     "text": [
      "Finished:  234\n",
      "Filename:  #frac{503}{88}x^2+457 #cos 888_12353.jpg\n"
     ]
    },
    {
     "name": "stderr",
     "output_type": "stream",
     "text": [
      "Lossy conversion from float64 to uint8. Range [-0.9560439560439385, 1.0]. Convert image to uint8 prior to saving to suppress this warning.\n"
     ]
    },
    {
     "name": "stdout",
     "output_type": "stream",
     "text": [
      "Finished:  235\n",
      "Filename:  #frac{60}{456}x^4+925 #cos 956_68422.jpg\n"
     ]
    },
    {
     "name": "stderr",
     "output_type": "stream",
     "text": [
      "Lossy conversion from float64 to uint8. Range [-0.7405611180642453, 1.0]. Convert image to uint8 prior to saving to suppress this warning.\n"
     ]
    },
    {
     "name": "stdout",
     "output_type": "stream",
     "text": [
      "Finished:  236\n",
      "Filename:  #frac{855}{409}x^4+261 #cos 1027_90428.jpg\n"
     ]
    },
    {
     "name": "stderr",
     "output_type": "stream",
     "text": [
      "Lossy conversion from float64 to uint8. Range [-0.7240354206198599, 1.0]. Convert image to uint8 prior to saving to suppress this warning.\n"
     ]
    },
    {
     "name": "stdout",
     "output_type": "stream",
     "text": [
      "Finished:  237\n",
      "Filename:  #frac{366}{449}x^3+718 #sin1091_14952.jpg\n"
     ]
    },
    {
     "name": "stderr",
     "output_type": "stream",
     "text": [
      "Lossy conversion from float64 to uint8. Range [-0.9473684210526195, 1.0]. Convert image to uint8 prior to saving to suppress this warning.\n"
     ]
    },
    {
     "name": "stdout",
     "output_type": "stream",
     "text": [
      "Finished:  238\n",
      "Filename:  #frac{204}{620}x^3+136 #sin374_68642.jpg\n"
     ]
    },
    {
     "name": "stderr",
     "output_type": "stream",
     "text": [
      "Lossy conversion from float64 to uint8. Range [-0.6418186786909881, 1.0]. Convert image to uint8 prior to saving to suppress this warning.\n"
     ]
    },
    {
     "name": "stdout",
     "output_type": "stream",
     "text": [
      "Finished:  239\n",
      "Filename:  #frac{875}{367}x^4-182 #tan 701_23610.jpg\n"
     ]
    },
    {
     "name": "stderr",
     "output_type": "stream",
     "text": [
      "Lossy conversion from float64 to uint8. Range [-0.9995217599234637, 1.0]. Convert image to uint8 prior to saving to suppress this warning.\n"
     ]
    },
    {
     "name": "stdout",
     "output_type": "stream",
     "text": [
      "Finished:  240\n",
      "Filename:  #frac{877}{365}x^4+102 #sin981_69624.jpg\n"
     ]
    },
    {
     "name": "stderr",
     "output_type": "stream",
     "text": [
      "Lossy conversion from float64 to uint8. Range [-0.7474335508652634, 1.0]. Convert image to uint8 prior to saving to suppress this warning.\n"
     ]
    },
    {
     "name": "stdout",
     "output_type": "stream",
     "text": [
      "Finished:  241\n",
      "Filename:  #frac{549}{150}x^3+551 #cos 1055_34463.jpg\n"
     ]
    },
    {
     "name": "stderr",
     "output_type": "stream",
     "text": [
      "Lossy conversion from float64 to uint8. Range [-0.8931671337143112, 1.0]. Convert image to uint8 prior to saving to suppress this warning.\n"
     ]
    },
    {
     "name": "stdout",
     "output_type": "stream",
     "text": [
      "Finished:  242\n",
      "Filename:  #frac{444}{121}x^2-584 #tan -42_53642.jpg\n"
     ]
    },
    {
     "name": "stderr",
     "output_type": "stream",
     "text": [
      "Lossy conversion from float64 to uint8. Range [-0.7809330172893294, 1.0]. Convert image to uint8 prior to saving to suppress this warning.\n"
     ]
    },
    {
     "name": "stdout",
     "output_type": "stream",
     "text": [
      "Finished:  243\n",
      "Filename:  #frac{741}{88}x^3+385 #tan 1192_78922.jpg\n"
     ]
    },
    {
     "name": "stderr",
     "output_type": "stream",
     "text": [
      "Lossy conversion from float64 to uint8. Range [-0.8089993606138137, 1.0]. Convert image to uint8 prior to saving to suppress this warning.\n"
     ]
    },
    {
     "name": "stdout",
     "output_type": "stream",
     "text": [
      "Finished:  244\n",
      "Filename:  #frac{825}{903}x^4+522 #tan 1417_30932.jpg\n"
     ]
    },
    {
     "name": "stderr",
     "output_type": "stream",
     "text": [
      "Lossy conversion from float64 to uint8. Range [-0.9454277757082207, 1.0]. Convert image to uint8 prior to saving to suppress this warning.\n"
     ]
    },
    {
     "name": "stdout",
     "output_type": "stream",
     "text": [
      "Finished:  245\n",
      "Filename:  #frac{584}{281}x^4+412 #sin1055_72049.jpg\n"
     ]
    },
    {
     "name": "stderr",
     "output_type": "stream",
     "text": [
      "Lossy conversion from float64 to uint8. Range [-0.7484673548799572, 1.0]. Convert image to uint8 prior to saving to suppress this warning.\n"
     ]
    },
    {
     "name": "stdout",
     "output_type": "stream",
     "text": [
      "Finished:  246\n",
      "Filename:  #frac{460}{592}x^2-298 #tan 181_34296.jpg\n"
     ]
    },
    {
     "name": "stderr",
     "output_type": "stream",
     "text": [
      "Lossy conversion from float64 to uint8. Range [-0.3139534883720682, 1.0]. Convert image to uint8 prior to saving to suppress this warning.\n"
     ]
    },
    {
     "name": "stdout",
     "output_type": "stream",
     "text": [
      "Finished:  247\n",
      "Filename:  #frac{209}{952}x^3+387 #sin608_64485.jpg\n"
     ]
    },
    {
     "name": "stderr",
     "output_type": "stream",
     "text": [
      "Lossy conversion from float64 to uint8. Range [-0.80065400377924, 1.0]. Convert image to uint8 prior to saving to suppress this warning.\n"
     ]
    },
    {
     "name": "stdout",
     "output_type": "stream",
     "text": [
      "Finished:  248\n",
      "Filename:  #frac{285}{684}x^3+543 #sin867_18980.jpg\n"
     ]
    },
    {
     "name": "stderr",
     "output_type": "stream",
     "text": [
      "Lossy conversion from float64 to uint8. Range [-0.594953208556136, 1.0]. Convert image to uint8 prior to saving to suppress this warning.\n"
     ]
    },
    {
     "name": "stdout",
     "output_type": "stream",
     "text": [
      "Finished:  249\n",
      "Filename:  #frac{473}{672}x^3+171 #sin649_86578.jpg\n"
     ]
    },
    {
     "name": "stderr",
     "output_type": "stream",
     "text": [
      "Lossy conversion from float64 to uint8. Range [-0.9811717983998623, 1.0]. Convert image to uint8 prior to saving to suppress this warning.\n"
     ]
    },
    {
     "name": "stdout",
     "output_type": "stream",
     "text": [
      "Finished:  250\n",
      "Filename:  #frac{56}{382}x^2-888 #tan -816_12285.jpg\n"
     ]
    },
    {
     "name": "stderr",
     "output_type": "stream",
     "text": [
      "Lossy conversion from float64 to uint8. Range [-0.7018147684605651, 1.0]. Convert image to uint8 prior to saving to suppress this warning.\n"
     ]
    },
    {
     "name": "stdout",
     "output_type": "stream",
     "text": [
      "Finished:  251\n",
      "Filename:  #frac{527}{28}x^3+41 #cos 531_42298.jpg\n"
     ]
    },
    {
     "name": "stderr",
     "output_type": "stream",
     "text": [
      "Lossy conversion from float64 to uint8. Range [-0.7482660707530889, 1.0]. Convert image to uint8 prior to saving to suppress this warning.\n"
     ]
    },
    {
     "name": "stdout",
     "output_type": "stream",
     "text": [
      "Finished:  252\n",
      "Filename:  #frac{764}{164}x^2-359 #tan 498_83842.jpg\n"
     ]
    },
    {
     "name": "stderr",
     "output_type": "stream",
     "text": [
      "Lossy conversion from float64 to uint8. Range [-0.7834185848252379, 1.0]. Convert image to uint8 prior to saving to suppress this warning.\n"
     ]
    },
    {
     "name": "stdout",
     "output_type": "stream",
     "text": [
      "Finished:  253\n",
      "Filename:  #frac{525}{803}x^3+434 #cos 933_52327.jpg\n"
     ]
    },
    {
     "name": "stderr",
     "output_type": "stream",
     "text": [
      "Lossy conversion from float64 to uint8. Range [-0.5565042664409422, 1.0]. Convert image to uint8 prior to saving to suppress this warning.\n"
     ]
    },
    {
     "name": "stdout",
     "output_type": "stream",
     "text": [
      "Finished:  254\n",
      "Filename:  #frac{730}{673}x^3+467 #sin1211_75378.jpg\n"
     ]
    },
    {
     "name": "stderr",
     "output_type": "stream",
     "text": [
      "Lossy conversion from float64 to uint8. Range [-0.8807784724204464, 1.0]. Convert image to uint8 prior to saving to suppress this warning.\n"
     ]
    },
    {
     "name": "stdout",
     "output_type": "stream",
     "text": [
      "Finished:  255\n",
      "Filename:  #frac{882}{90}x^2+547 #tan 1503_17995.jpg\n"
     ]
    },
    {
     "name": "stderr",
     "output_type": "stream",
     "text": [
      "Lossy conversion from float64 to uint8. Range [-0.5223756863249635, 1.0]. Convert image to uint8 prior to saving to suppress this warning.\n"
     ]
    },
    {
     "name": "stdout",
     "output_type": "stream",
     "text": [
      "Finished:  256\n",
      "Filename:  #frac{562}{865}x^3-407 #cos 115_86713.jpg\n"
     ]
    },
    {
     "name": "stderr",
     "output_type": "stream",
     "text": [
      "Lossy conversion from float64 to uint8. Range [-0.7496007000029007, 1.0]. Convert image to uint8 prior to saving to suppress this warning.\n"
     ]
    },
    {
     "name": "stdout",
     "output_type": "stream",
     "text": [
      "Finished:  257\n",
      "Filename:  #frac{554}{282}x^3+217 #tan 772_65023.jpg\n"
     ]
    },
    {
     "name": "stderr",
     "output_type": "stream",
     "text": [
      "Lossy conversion from float64 to uint8. Range [-0.7980077089615634, 1.0]. Convert image to uint8 prior to saving to suppress this warning.\n"
     ]
    },
    {
     "name": "stdout",
     "output_type": "stream",
     "text": [
      "Finished:  258\n",
      "Filename:  #frac{304}{746}x^4+732 #sin1045_15712.jpg\n"
     ]
    },
    {
     "name": "stderr",
     "output_type": "stream",
     "text": [
      "Lossy conversion from float64 to uint8. Range [-0.8242428074908829, 1.0]. Convert image to uint8 prior to saving to suppress this warning.\n"
     ]
    },
    {
     "name": "stdout",
     "output_type": "stream",
     "text": [
      "Finished:  259\n",
      "Filename:  #frac{481}{846}x^3+3 #tan 565_60608.jpg\n"
     ]
    },
    {
     "name": "stderr",
     "output_type": "stream",
     "text": [
      "Lossy conversion from float64 to uint8. Range [-0.989010989010982, 1.0]. Convert image to uint8 prior to saving to suppress this warning.\n"
     ]
    },
    {
     "name": "stdout",
     "output_type": "stream",
     "text": [
      "Finished:  260\n",
      "Filename:  #frac{426}{422}x^2-148 #sin305_1634.jpg\n"
     ]
    },
    {
     "name": "stderr",
     "output_type": "stream",
     "text": [
      "Lossy conversion from float64 to uint8. Range [-0.788182030027618, 1.0]. Convert image to uint8 prior to saving to suppress this warning.\n"
     ]
    },
    {
     "name": "stdout",
     "output_type": "stream",
     "text": [
      "Finished:  261\n",
      "Filename:  #frac{263}{280}x^3-368 #sin-7_54993.jpg\n"
     ]
    },
    {
     "name": "stderr",
     "output_type": "stream",
     "text": [
      "Lossy conversion from float64 to uint8. Range [-0.7430603397929029, 1.0]. Convert image to uint8 prior to saving to suppress this warning.\n"
     ]
    },
    {
     "name": "stdout",
     "output_type": "stream",
     "text": [
      "Finished:  262\n",
      "Filename:  #frac{952}{981}x^3+381 #sin1337_55381.jpg\n"
     ]
    },
    {
     "name": "stderr",
     "output_type": "stream",
     "text": [
      "Lossy conversion from float64 to uint8. Range [-0.752591003812238, 1.0]. Convert image to uint8 prior to saving to suppress this warning.\n"
     ]
    },
    {
     "name": "stdout",
     "output_type": "stream",
     "text": [
      "Finished:  263\n",
      "Filename:  #frac{143}{122}x^4+384 #sin616_42969.jpg\n"
     ]
    },
    {
     "name": "stderr",
     "output_type": "stream",
     "text": [
      "Lossy conversion from float64 to uint8. Range [-0.798913043478251, 1.0]. Convert image to uint8 prior to saving to suppress this warning.\n"
     ]
    },
    {
     "name": "stdout",
     "output_type": "stream",
     "text": [
      "Finished:  264\n",
      "Filename:  #frac{644}{339}x^3-844 #tan -161_76462.jpg\n"
     ]
    },
    {
     "name": "stderr",
     "output_type": "stream",
     "text": [
      "Lossy conversion from float64 to uint8. Range [-0.3069018738315743, 1.0]. Convert image to uint8 prior to saving to suppress this warning.\n"
     ]
    },
    {
     "name": "stdout",
     "output_type": "stream",
     "text": [
      "Finished:  265\n",
      "Filename:  #frac{58}{115}x^2-133 #tan -30_81259.jpg\n"
     ]
    },
    {
     "name": "stderr",
     "output_type": "stream",
     "text": [
      "Lossy conversion from float64 to uint8. Range [-0.8834025649878597, 1.0]. Convert image to uint8 prior to saving to suppress this warning.\n"
     ]
    },
    {
     "name": "stdout",
     "output_type": "stream",
     "text": [
      "Finished:  266\n",
      "Filename:  #frac{751}{858}x^2-257 #cos 494_13506.jpg\n"
     ]
    },
    {
     "name": "stderr",
     "output_type": "stream",
     "text": [
      "Lossy conversion from float64 to uint8. Range [-0.7599869154625069, 1.0]. Convert image to uint8 prior to saving to suppress this warning.\n"
     ]
    },
    {
     "name": "stdout",
     "output_type": "stream",
     "text": [
      "Finished:  267\n",
      "Filename:  #frac{931}{755}x^2+87 #cos 924_43381.jpg\n"
     ]
    },
    {
     "name": "stderr",
     "output_type": "stream",
     "text": [
      "Lossy conversion from float64 to uint8. Range [-0.7789788851383077, 1.0]. Convert image to uint8 prior to saving to suppress this warning.\n"
     ]
    },
    {
     "name": "stdout",
     "output_type": "stream",
     "text": [
      "Finished:  268\n",
      "Filename:  #frac{898}{168}x^2+485 #tan 1386_6689.jpg\n"
     ]
    },
    {
     "name": "stderr",
     "output_type": "stream",
     "text": [
      "Lossy conversion from float64 to uint8. Range [-0.6728468899521828, 1.0]. Convert image to uint8 prior to saving to suppress this warning.\n"
     ]
    },
    {
     "name": "stdout",
     "output_type": "stream",
     "text": [
      "Finished:  269\n",
      "Filename:  #frac{575}{774}x^3-461 #cos 83_79050.jpg\n"
     ]
    },
    {
     "name": "stderr",
     "output_type": "stream",
     "text": [
      "Lossy conversion from float64 to uint8. Range [-0.9780435251023416, 1.0]. Convert image to uint8 prior to saving to suppress this warning.\n"
     ]
    },
    {
     "name": "stdout",
     "output_type": "stream",
     "text": [
      "Finished:  270\n",
      "Filename:  #frac{380}{329}x^2+681 #tan 1096_1561.jpg\n"
     ]
    },
    {
     "name": "stderr",
     "output_type": "stream",
     "text": [
      "Lossy conversion from float64 to uint8. Range [-0.41816242543227866, 1.0]. Convert image to uint8 prior to saving to suppress this warning.\n"
     ]
    },
    {
     "name": "stdout",
     "output_type": "stream",
     "text": [
      "Finished:  271\n",
      "Filename:  #frac{433}{946}x^4-842 #tan -386_15055.jpg\n"
     ]
    },
    {
     "name": "stderr",
     "output_type": "stream",
     "text": [
      "Lossy conversion from float64 to uint8. Range [-0.6137778930980851, 1.0]. Convert image to uint8 prior to saving to suppress this warning.\n"
     ]
    },
    {
     "name": "stdout",
     "output_type": "stream",
     "text": [
      "Finished:  272\n",
      "Filename:  #frac{943}{697}x^2+984 #cos 1879_24501.jpg\n"
     ]
    },
    {
     "name": "stderr",
     "output_type": "stream",
     "text": [
      "Lossy conversion from float64 to uint8. Range [-0.410429748046864, 1.0]. Convert image to uint8 prior to saving to suppress this warning.\n"
     ]
    },
    {
     "name": "stdout",
     "output_type": "stream",
     "text": [
      "Finished:  273\n",
      "Filename:  #frac{369}{370}x^4-760 #cos -461_97377.jpg\n"
     ]
    },
    {
     "name": "stderr",
     "output_type": "stream",
     "text": [
      "Lossy conversion from float64 to uint8. Range [-0.5115745008822333, 1.0]. Convert image to uint8 prior to saving to suppress this warning.\n"
     ]
    },
    {
     "name": "stdout",
     "output_type": "stream",
     "text": [
      "Finished:  274\n",
      "Filename:  #frac{12}{372}x^3+66 #tan 125_26565.jpg\n"
     ]
    },
    {
     "name": "stderr",
     "output_type": "stream",
     "text": [
      "Lossy conversion from float64 to uint8. Range [-0.5337792907412636, 1.0]. Convert image to uint8 prior to saving to suppress this warning.\n"
     ]
    },
    {
     "name": "stdout",
     "output_type": "stream",
     "text": [
      "Finished:  275\n",
      "Filename:  #frac{214}{303}x^3-536 #sin-246_26445.jpg\n"
     ]
    },
    {
     "name": "stderr",
     "output_type": "stream",
     "text": [
      "Lossy conversion from float64 to uint8. Range [-0.9221526908635866, 1.0]. Convert image to uint8 prior to saving to suppress this warning.\n"
     ]
    },
    {
     "name": "stdout",
     "output_type": "stream",
     "text": [
      "Finished:  276\n",
      "Filename:  #frac{582}{604}x^3+4 #tan 646_19357.jpg\n"
     ]
    },
    {
     "name": "stderr",
     "output_type": "stream",
     "text": [
      "Lossy conversion from float64 to uint8. Range [-0.7394196846425133, 1.0]. Convert image to uint8 prior to saving to suppress this warning.\n"
     ]
    },
    {
     "name": "stdout",
     "output_type": "stream",
     "text": [
      "Finished:  277\n",
      "Filename:  #frac{99}{886}x^4+142 #cos 204_66295.jpg\n"
     ]
    },
    {
     "name": "stderr",
     "output_type": "stream",
     "text": [
      "Lossy conversion from float64 to uint8. Range [-0.8503419972640243, 1.0]. Convert image to uint8 prior to saving to suppress this warning.\n"
     ]
    },
    {
     "name": "stdout",
     "output_type": "stream",
     "text": [
      "Finished:  278\n",
      "Filename:  #frac{960}{311}x^3-309 #tan 677_65102.jpg\n"
     ]
    },
    {
     "name": "stderr",
     "output_type": "stream",
     "text": [
      "Lossy conversion from float64 to uint8. Range [-0.7490752818163646, 1.0]. Convert image to uint8 prior to saving to suppress this warning.\n"
     ]
    },
    {
     "name": "stdout",
     "output_type": "stream",
     "text": [
      "Finished:  279\n",
      "Filename:  #frac{973}{832}x^3+801 #sin1774_17484.jpg\n"
     ]
    },
    {
     "name": "stderr",
     "output_type": "stream",
     "text": [
      "Lossy conversion from float64 to uint8. Range [-0.7477941176470482, 1.0]. Convert image to uint8 prior to saving to suppress this warning.\n"
     ]
    },
    {
     "name": "stdout",
     "output_type": "stream",
     "text": [
      "Finished:  280\n",
      "Filename:  #frac{310}{665}x^4+126 #cos 354_27639.jpg\n"
     ]
    },
    {
     "name": "stderr",
     "output_type": "stream",
     "text": [
      "Lossy conversion from float64 to uint8. Range [-0.8026025376085107, 1.0]. Convert image to uint8 prior to saving to suppress this warning.\n"
     ]
    },
    {
     "name": "stdout",
     "output_type": "stream",
     "text": [
      "Finished:  281\n",
      "Filename:  #frac{860}{108}x^3+370 #sin1308_12121.jpg\n"
     ]
    },
    {
     "name": "stderr",
     "output_type": "stream",
     "text": [
      "Lossy conversion from float64 to uint8. Range [-0.5313725490196096, 1.0]. Convert image to uint8 prior to saving to suppress this warning.\n"
     ]
    },
    {
     "name": "stdout",
     "output_type": "stream",
     "text": [
      "Finished:  282\n",
      "Filename:  #frac{358}{196}x^2-621 #sin-175_99366.jpg\n"
     ]
    },
    {
     "name": "stderr",
     "output_type": "stream",
     "text": [
      "Lossy conversion from float64 to uint8. Range [-0.791069906223349, 1.0]. Convert image to uint8 prior to saving to suppress this warning.\n"
     ]
    },
    {
     "name": "stdout",
     "output_type": "stream",
     "text": [
      "Finished:  283\n",
      "Filename:  #frac{607}{362}x^3+781 #sin1461_5176.jpg\n"
     ]
    },
    {
     "name": "stderr",
     "output_type": "stream",
     "text": [
      "Lossy conversion from float64 to uint8. Range [-0.6538023984779472, 1.0]. Convert image to uint8 prior to saving to suppress this warning.\n"
     ]
    },
    {
     "name": "stdout",
     "output_type": "stream",
     "text": [
      "Finished:  284\n",
      "Filename:  #frac{834}{921}x^3+210 #tan 1134_57188.jpg\n"
     ]
    },
    {
     "name": "stderr",
     "output_type": "stream",
     "text": [
      "Lossy conversion from float64 to uint8. Range [-0.728599586667781, 1.0]. Convert image to uint8 prior to saving to suppress this warning.\n"
     ]
    },
    {
     "name": "stdout",
     "output_type": "stream",
     "text": [
      "Finished:  285\n",
      "Filename:  #frac{412}{543}x^4-278 #cos 107_89868.jpg\n"
     ]
    },
    {
     "name": "stderr",
     "output_type": "stream",
     "text": [
      "Lossy conversion from float64 to uint8. Range [-0.7492806905370772, 1.0]. Convert image to uint8 prior to saving to suppress this warning.\n"
     ]
    },
    {
     "name": "stdout",
     "output_type": "stream",
     "text": [
      "Finished:  286\n",
      "Filename:  #frac{488}{224}x^2-294 #cos 112_98829.jpg\n"
     ]
    },
    {
     "name": "stderr",
     "output_type": "stream",
     "text": [
      "Lossy conversion from float64 to uint8. Range [-0.6970946915351417, 1.0]. Convert image to uint8 prior to saving to suppress this warning.\n"
     ]
    },
    {
     "name": "stdout",
     "output_type": "stream",
     "text": [
      "Finished:  287\n",
      "Filename:  #frac{130}{212}x^3-379 #tan -230_42855.jpg\n"
     ]
    },
    {
     "name": "stderr",
     "output_type": "stream",
     "text": [
      "Lossy conversion from float64 to uint8. Range [-0.6104002921423038, 1.0]. Convert image to uint8 prior to saving to suppress this warning.\n"
     ]
    },
    {
     "name": "stdout",
     "output_type": "stream",
     "text": [
      "Finished:  288\n",
      "Filename:  #frac{603}{602}x^4+961 #tan 1652_28371.jpg\n"
     ]
    },
    {
     "name": "stderr",
     "output_type": "stream",
     "text": [
      "Lossy conversion from float64 to uint8. Range [-0.9961229946523814, 1.0]. Convert image to uint8 prior to saving to suppress this warning.\n"
     ]
    },
    {
     "name": "stdout",
     "output_type": "stream",
     "text": [
      "Finished:  289\n",
      "Filename:  #frac{89}{42}x^3-743 #sin-652_887.jpg\n"
     ]
    },
    {
     "name": "stderr",
     "output_type": "stream",
     "text": [
      "Lossy conversion from float64 to uint8. Range [-0.8422682092227428, 1.0]. Convert image to uint8 prior to saving to suppress this warning.\n"
     ]
    },
    {
     "name": "stdout",
     "output_type": "stream",
     "text": [
      "Finished:  290\n",
      "Filename:  #frac{833}{402}x^3-483 #sin358_13872.jpg\n"
     ]
    },
    {
     "name": "stderr",
     "output_type": "stream",
     "text": [
      "Lossy conversion from float64 to uint8. Range [-0.945054945054947, 1.0]. Convert image to uint8 prior to saving to suppress this warning.\n"
     ]
    },
    {
     "name": "stdout",
     "output_type": "stream",
     "text": [
      "Finished:  291\n",
      "Filename:  #frac{75}{193}x^4-837 #sin-714_51196.jpg\n"
     ]
    },
    {
     "name": "stderr",
     "output_type": "stream",
     "text": [
      "Lossy conversion from float64 to uint8. Range [-0.5089251973494784, 1.0]. Convert image to uint8 prior to saving to suppress this warning.\n"
     ]
    },
    {
     "name": "stdout",
     "output_type": "stream",
     "text": [
      "Finished:  292\n",
      "Filename:  #frac{350}{651}x^2+518 #cos 835_46237.jpg\n"
     ]
    },
    {
     "name": "stderr",
     "output_type": "stream",
     "text": [
      "Lossy conversion from float64 to uint8. Range [-0.6538733197163051, 1.0]. Convert image to uint8 prior to saving to suppress this warning.\n"
     ]
    },
    {
     "name": "stdout",
     "output_type": "stream",
     "text": [
      "Finished:  293\n",
      "Filename:  #frac{711}{179}x^4-313 #tan 406_29097.jpg\n"
     ]
    },
    {
     "name": "stderr",
     "output_type": "stream",
     "text": [
      "Lossy conversion from float64 to uint8. Range [-0.716778988282796, 1.0]. Convert image to uint8 prior to saving to suppress this warning.\n"
     ]
    },
    {
     "name": "stdout",
     "output_type": "stream",
     "text": [
      "Finished:  294\n",
      "Filename:  #frac{406}{612}x^4+307 #sin811_17072.jpg\n"
     ]
    },
    {
     "name": "stderr",
     "output_type": "stream",
     "text": [
      "Lossy conversion from float64 to uint8. Range [-0.7635851230793783, 1.0]. Convert image to uint8 prior to saving to suppress this warning.\n"
     ]
    },
    {
     "name": "stdout",
     "output_type": "stream",
     "text": [
      "Finished:  295\n",
      "Filename:  #frac{645}{324}x^2+716 #sin1369_29049.jpg\n"
     ]
    },
    {
     "name": "stderr",
     "output_type": "stream",
     "text": [
      "Lossy conversion from float64 to uint8. Range [-0.8452412639263857, 1.0]. Convert image to uint8 prior to saving to suppress this warning.\n"
     ]
    },
    {
     "name": "stdout",
     "output_type": "stream",
     "text": [
      "Finished:  296\n",
      "Filename:  #frac{983}{856}x^4-549 #tan 498_60661.jpg\n"
     ]
    },
    {
     "name": "stderr",
     "output_type": "stream",
     "text": [
      "Lossy conversion from float64 to uint8. Range [-0.6184883450358167, 1.0]. Convert image to uint8 prior to saving to suppress this warning.\n"
     ]
    },
    {
     "name": "stdout",
     "output_type": "stream",
     "text": [
      "Finished:  297\n",
      "Filename:  #frac{191}{634}x^3-972 #sin-768_44672.jpg\n"
     ]
    },
    {
     "name": "stderr",
     "output_type": "stream",
     "text": [
      "Lossy conversion from float64 to uint8. Range [-0.7985906862745281, 1.0]. Convert image to uint8 prior to saving to suppress this warning.\n"
     ]
    },
    {
     "name": "stdout",
     "output_type": "stream",
     "text": [
      "Finished:  298\n",
      "Filename:  #frac{377}{527}x^2-299 #sin133_39988.jpg\n"
     ]
    },
    {
     "name": "stderr",
     "output_type": "stream",
     "text": [
      "Lossy conversion from float64 to uint8. Range [-0.4784102081161537, 1.0]. Convert image to uint8 prior to saving to suppress this warning.\n"
     ]
    },
    {
     "name": "stdout",
     "output_type": "stream",
     "text": [
      "Finished:  299\n",
      "Filename:  #frac{751}{349}x^2+241 #tan 1057_92087.jpg\n"
     ]
    },
    {
     "name": "stderr",
     "output_type": "stream",
     "text": [
      "Lossy conversion from float64 to uint8. Range [-0.33741089786299444, 1.0]. Convert image to uint8 prior to saving to suppress this warning.\n"
     ]
    },
    {
     "name": "stdout",
     "output_type": "stream",
     "text": [
      "Finished:  300\n",
      "Filename:  #frac{867}{39}x^2-66 #sin856_1463.jpg\n"
     ]
    },
    {
     "name": "stderr",
     "output_type": "stream",
     "text": [
      "Lossy conversion from float64 to uint8. Range [-0.8803336238829967, 1.0]. Convert image to uint8 prior to saving to suppress this warning.\n"
     ]
    },
    {
     "name": "stdout",
     "output_type": "stream",
     "text": [
      "Finished:  301\n",
      "Filename:  #frac{166}{233}x^2-595 #sin-360_97793.jpg\n"
     ]
    },
    {
     "name": "stderr",
     "output_type": "stream",
     "text": [
      "Lossy conversion from float64 to uint8. Range [-0.7057773109243743, 1.0]. Convert image to uint8 prior to saving to suppress this warning.\n"
     ]
    },
    {
     "name": "stdout",
     "output_type": "stream",
     "text": [
      "Finished:  302\n",
      "Filename:  #frac{535}{444}x^3-381 #sin166_23128.jpg\n"
     ]
    },
    {
     "name": "stderr",
     "output_type": "stream",
     "text": [
      "Lossy conversion from float64 to uint8. Range [-0.5758552960973181, 1.0]. Convert image to uint8 prior to saving to suppress this warning.\n"
     ]
    },
    {
     "name": "stdout",
     "output_type": "stream",
     "text": [
      "Finished:  303\n",
      "Filename:  #frac{828}{793}x^3+956 #cos 1727_53510.jpg\n"
     ]
    },
    {
     "name": "stderr",
     "output_type": "stream",
     "text": [
      "Lossy conversion from float64 to uint8. Range [-0.8010078886486923, 1.0]. Convert image to uint8 prior to saving to suppress this warning.\n"
     ]
    },
    {
     "name": "stdout",
     "output_type": "stream",
     "text": [
      "Finished:  304\n",
      "Filename:  #frac{345}{806}x^3+765 #sin1145_46348.jpg\n"
     ]
    },
    {
     "name": "stderr",
     "output_type": "stream",
     "text": [
      "Lossy conversion from float64 to uint8. Range [-0.755339579238098, 1.0]. Convert image to uint8 prior to saving to suppress this warning.\n"
     ]
    },
    {
     "name": "stdout",
     "output_type": "stream",
     "text": [
      "Finished:  305\n",
      "Filename:  #frac{722}{241}x^4-812 #cos -150_67558.jpg\n"
     ]
    },
    {
     "name": "stderr",
     "output_type": "stream",
     "text": [
      "Lossy conversion from float64 to uint8. Range [-0.48301834889668327, 1.0]. Convert image to uint8 prior to saving to suppress this warning.\n"
     ]
    },
    {
     "name": "stdout",
     "output_type": "stream",
     "text": [
      "Finished:  306\n",
      "Filename:  #frac{992}{192}x^3-764 #sin241_92101.jpg\n"
     ]
    },
    {
     "name": "stderr",
     "output_type": "stream",
     "text": [
      "Lossy conversion from float64 to uint8. Range [-0.6554951738424727, 1.0]. Convert image to uint8 prior to saving to suppress this warning.\n",
      "Lossy conversion from float64 to uint8. Range [-0.6534069576366796, 1.0]. Convert image to uint8 prior to saving to suppress this warning.\n"
     ]
    },
    {
     "name": "stdout",
     "output_type": "stream",
     "text": [
      "Finished:  307\n",
      "Filename:  #frac{120}{284}x^3+892 #cos 985_46387.jpg\n",
      "Finished:  308\n",
      "Filename:  #frac{437}{914}x^3+277 #sin778_94902.jpg\n"
     ]
    },
    {
     "name": "stderr",
     "output_type": "stream",
     "text": [
      "Lossy conversion from float64 to uint8. Range [-0.9999999999999964, 1.0]. Convert image to uint8 prior to saving to suppress this warning.\n"
     ]
    },
    {
     "name": "stdout",
     "output_type": "stream",
     "text": [
      "Finished:  309\n",
      "Filename:  #frac{586}{761}x^3+408 #sin996_19607.jpg\n"
     ]
    },
    {
     "name": "stderr",
     "output_type": "stream",
     "text": [
      "Lossy conversion from float64 to uint8. Range [-0.6235408116735034, 1.0]. Convert image to uint8 prior to saving to suppress this warning.\n"
     ]
    },
    {
     "name": "stdout",
     "output_type": "stream",
     "text": [
      "Finished:  310\n",
      "Filename:  #frac{254}{194}x^3+77 #cos 285_63846.jpg\n"
     ]
    },
    {
     "name": "stderr",
     "output_type": "stream",
     "text": [
      "Lossy conversion from float64 to uint8. Range [-0.7446962391514019, 1.0]. Convert image to uint8 prior to saving to suppress this warning.\n"
     ]
    },
    {
     "name": "stdout",
     "output_type": "stream",
     "text": [
      "Finished:  311\n",
      "Filename:  #frac{197}{580}x^3+668 #sin906_3284.jpg\n"
     ]
    },
    {
     "name": "stderr",
     "output_type": "stream",
     "text": [
      "Lossy conversion from float64 to uint8. Range [-0.6244792581123972, 1.0]. Convert image to uint8 prior to saving to suppress this warning.\n"
     ]
    },
    {
     "name": "stdout",
     "output_type": "stream",
     "text": [
      "Finished:  312\n",
      "Filename:  #frac{611}{924}x^2+685 #tan 1319_40892.jpg\n"
     ]
    },
    {
     "name": "stderr",
     "output_type": "stream",
     "text": [
      "Lossy conversion from float64 to uint8. Range [-0.7362381309610934, 1.0]. Convert image to uint8 prior to saving to suppress this warning.\n"
     ]
    },
    {
     "name": "stdout",
     "output_type": "stream",
     "text": [
      "Finished:  313\n",
      "Filename:  #frac{495}{236}x^4-170 #tan 399_12421.jpg\n"
     ]
    },
    {
     "name": "stderr",
     "output_type": "stream",
     "text": [
      "Lossy conversion from float64 to uint8. Range [-0.5858343339265063, 1.0]. Convert image to uint8 prior to saving to suppress this warning.\n"
     ]
    },
    {
     "name": "stdout",
     "output_type": "stream",
     "text": [
      "Finished:  314\n",
      "Filename:  #frac{442}{587}x^2-972 #tan -519_58681.jpg\n"
     ]
    },
    {
     "name": "stderr",
     "output_type": "stream",
     "text": [
      "Lossy conversion from float64 to uint8. Range [-0.6082209780406611, 1.0]. Convert image to uint8 prior to saving to suppress this warning.\n"
     ]
    },
    {
     "name": "stdout",
     "output_type": "stream",
     "text": [
      "Finished:  315\n",
      "Filename:  #frac{116}{418}x^3-581 #tan -461_34554.jpg\n"
     ]
    },
    {
     "name": "stderr",
     "output_type": "stream",
     "text": [
      "Lossy conversion from float64 to uint8. Range [-0.8804610024122326, 1.0]. Convert image to uint8 prior to saving to suppress this warning.\n"
     ]
    },
    {
     "name": "stdout",
     "output_type": "stream",
     "text": [
      "Finished:  316\n",
      "Filename:  #frac{568}{862}x^2+112 #sin682_39132.jpg\n"
     ]
    },
    {
     "name": "stderr",
     "output_type": "stream",
     "text": [
      "Lossy conversion from float64 to uint8. Range [-0.9608414741311957, 1.0]. Convert image to uint8 prior to saving to suppress this warning.\n"
     ]
    },
    {
     "name": "stdout",
     "output_type": "stream",
     "text": [
      "Finished:  317\n",
      "Filename:  #frac{812}{653}x^2-983 #tan -101_10451.jpg\n"
     ]
    },
    {
     "name": "stderr",
     "output_type": "stream",
     "text": [
      "Lossy conversion from float64 to uint8. Range [-0.7456594443693586, 1.0]. Convert image to uint8 prior to saving to suppress this warning.\n"
     ]
    },
    {
     "name": "stdout",
     "output_type": "stream",
     "text": [
      "Finished:  318\n",
      "Filename:  #frac{161}{148}x^3-971 #cos -865_84317.jpg\n"
     ]
    },
    {
     "name": "stderr",
     "output_type": "stream",
     "text": [
      "Lossy conversion from float64 to uint8. Range [-0.9116541353383453, 1.0]. Convert image to uint8 prior to saving to suppress this warning.\n"
     ]
    },
    {
     "name": "stdout",
     "output_type": "stream",
     "text": [
      "Finished:  319\n",
      "Filename:  #frac{910}{801}x^4+495 #tan 1454_36453.jpg\n"
     ]
    },
    {
     "name": "stderr",
     "output_type": "stream",
     "text": [
      "Lossy conversion from float64 to uint8. Range [-0.7349203645394973, 1.0]. Convert image to uint8 prior to saving to suppress this warning.\n"
     ]
    },
    {
     "name": "stdout",
     "output_type": "stream",
     "text": [
      "Finished:  320\n",
      "Filename:  #frac{892}{4}x^2+112 #tan 1031_77606.jpg\n"
     ]
    },
    {
     "name": "stderr",
     "output_type": "stream",
     "text": [
      "Lossy conversion from float64 to uint8. Range [-0.7286083898133447, 1.0]. Convert image to uint8 prior to saving to suppress this warning.\n"
     ]
    },
    {
     "name": "stdout",
     "output_type": "stream",
     "text": [
      "Finished:  321\n",
      "Filename:  #frac{432}{455}x^3-544 #cos -162_18266.jpg\n"
     ]
    },
    {
     "name": "stderr",
     "output_type": "stream",
     "text": [
      "Lossy conversion from float64 to uint8. Range [-0.958521365276881, 1.0]. Convert image to uint8 prior to saving to suppress this warning.\n"
     ]
    },
    {
     "name": "stdout",
     "output_type": "stream",
     "text": [
      "Finished:  322\n",
      "Filename:  #frac{131}{258}x^4+177 #tan 402_8043.jpg\n"
     ]
    },
    {
     "name": "stderr",
     "output_type": "stream",
     "text": [
      "Lossy conversion from float64 to uint8. Range [-0.7800676469191892, 1.0]. Convert image to uint8 prior to saving to suppress this warning.\n"
     ]
    },
    {
     "name": "stdout",
     "output_type": "stream",
     "text": [
      "Finished:  323\n",
      "Filename:  #frac{543}{701}x^2+245 #cos 783_48652.jpg\n"
     ]
    },
    {
     "name": "stderr",
     "output_type": "stream",
     "text": [
      "Lossy conversion from float64 to uint8. Range [-0.990050062578191, 1.0]. Convert image to uint8 prior to saving to suppress this warning.\n"
     ]
    },
    {
     "name": "stdout",
     "output_type": "stream",
     "text": [
      "Finished:  324\n",
      "Filename:  #frac{858}{561}x^3-875 #cos -107_34268.jpg\n"
     ]
    },
    {
     "name": "stderr",
     "output_type": "stream",
     "text": [
      "Lossy conversion from float64 to uint8. Range [-0.6934046345811054, 1.0]. Convert image to uint8 prior to saving to suppress this warning.\n",
      "Lossy conversion from float64 to uint8. Range [-0.8092291242151847, 1.0]. Convert image to uint8 prior to saving to suppress this warning.\n"
     ]
    },
    {
     "name": "stdout",
     "output_type": "stream",
     "text": [
      "Finished:  325\n",
      "Filename:  #frac{75}{879}x^3-961 #sin-808_34718.jpg\n",
      "Finished:  326\n",
      "Filename:  #frac{571}{403}x^3-643 #cos -123_62296.jpg\n"
     ]
    },
    {
     "name": "stderr",
     "output_type": "stream",
     "text": [
      "Lossy conversion from float64 to uint8. Range [-0.9768847733681455, 1.0]. Convert image to uint8 prior to saving to suppress this warning.\n"
     ]
    },
    {
     "name": "stdout",
     "output_type": "stream",
     "text": [
      "Finished:  327\n",
      "Filename:  #frac{466}{976}x^4-986 #tan -519_41033.jpg\n"
     ]
    },
    {
     "name": "stderr",
     "output_type": "stream",
     "text": [
      "Lossy conversion from float64 to uint8. Range [-0.9295652241501593, 1.0]. Convert image to uint8 prior to saving to suppress this warning.\n"
     ]
    },
    {
     "name": "stdout",
     "output_type": "stream",
     "text": [
      "Finished:  328\n",
      "Filename:  #frac{800}{482}x^2-222 #sin603_52894.jpg\n"
     ]
    },
    {
     "name": "stderr",
     "output_type": "stream",
     "text": [
      "Lossy conversion from float64 to uint8. Range [-0.6201688643507918, 1.0]. Convert image to uint8 prior to saving to suppress this warning.\n"
     ]
    },
    {
     "name": "stdout",
     "output_type": "stream",
     "text": [
      "Finished:  329\n",
      "Filename:  #frac{762}{655}x^3-363 #sin454_25164.jpg\n"
     ]
    },
    {
     "name": "stderr",
     "output_type": "stream",
     "text": [
      "Lossy conversion from float64 to uint8. Range [-0.8418343653250798, 1.0]. Convert image to uint8 prior to saving to suppress this warning.\n"
     ]
    },
    {
     "name": "stdout",
     "output_type": "stream",
     "text": [
      "Finished:  330\n",
      "Filename:  #frac{114}{47}x^3+535 #sin734_97555.jpg\n"
     ]
    },
    {
     "name": "stderr",
     "output_type": "stream",
     "text": [
      "Lossy conversion from float64 to uint8. Range [-0.947368421052655, 1.0]. Convert image to uint8 prior to saving to suppress this warning.\n"
     ]
    },
    {
     "name": "stdout",
     "output_type": "stream",
     "text": [
      "Finished:  331\n",
      "Filename:  #frac{391}{218}x^2-600 #tan -160_21855.jpg\n"
     ]
    },
    {
     "name": "stderr",
     "output_type": "stream",
     "text": [
      "Lossy conversion from float64 to uint8. Range [-0.7539233877618262, 1.0]. Convert image to uint8 prior to saving to suppress this warning.\n"
     ]
    },
    {
     "name": "stdout",
     "output_type": "stream",
     "text": [
      "Finished:  332\n",
      "Filename:  #frac{459}{195}x^4+820 #cos 1261_88268.jpg\n"
     ]
    },
    {
     "name": "stderr",
     "output_type": "stream",
     "text": [
      "Lossy conversion from float64 to uint8. Range [-0.6537866128448108, 1.0]. Convert image to uint8 prior to saving to suppress this warning.\n"
     ]
    },
    {
     "name": "stdout",
     "output_type": "stream",
     "text": [
      "Finished:  333\n",
      "Filename:  #frac{576}{28}x^2-196 #tan 410_9561.jpg\n"
     ]
    },
    {
     "name": "stderr",
     "output_type": "stream",
     "text": [
      "Lossy conversion from float64 to uint8. Range [-0.8031914893617048, 1.0]. Convert image to uint8 prior to saving to suppress this warning.\n"
     ]
    },
    {
     "name": "stdout",
     "output_type": "stream",
     "text": [
      "Finished:  334\n",
      "Filename:  #frac{124}{626}x^3+86 #tan 286_22410.jpg\n"
     ]
    },
    {
     "name": "stderr",
     "output_type": "stream",
     "text": [
      "Lossy conversion from float64 to uint8. Range [-0.9473684210526266, 1.0]. Convert image to uint8 prior to saving to suppress this warning.\n"
     ]
    },
    {
     "name": "stdout",
     "output_type": "stream",
     "text": [
      "Finished:  335\n",
      "Filename:  #frac{127}{18}x^2+954 #cos 1076_46568.jpg\n"
     ]
    },
    {
     "name": "stderr",
     "output_type": "stream",
     "text": [
      "Lossy conversion from float64 to uint8. Range [-0.3639162606881539, 1.0]. Convert image to uint8 prior to saving to suppress this warning.\n"
     ]
    },
    {
     "name": "stdout",
     "output_type": "stream",
     "text": [
      "Finished:  336\n",
      "Filename:  #frac{71}{311}x^3-945 #sin-837_87010.jpg\n"
     ]
    },
    {
     "name": "stderr",
     "output_type": "stream",
     "text": [
      "Lossy conversion from float64 to uint8. Range [-0.9942798171900198, 1.0]. Convert image to uint8 prior to saving to suppress this warning.\n"
     ]
    },
    {
     "name": "stdout",
     "output_type": "stream",
     "text": [
      "Finished:  337\n",
      "Filename:  #frac{530}{636}x^4-272 #sin334_75742.jpg\n"
     ]
    },
    {
     "name": "stderr",
     "output_type": "stream",
     "text": [
      "Lossy conversion from float64 to uint8. Range [-0.8989000478239899, 1.0]. Convert image to uint8 prior to saving to suppress this warning.\n"
     ]
    },
    {
     "name": "stdout",
     "output_type": "stream",
     "text": [
      "Finished:  338\n",
      "Filename:  #frac{324}{526}x^4-764 #cos -534_53804.jpg\n"
     ]
    },
    {
     "name": "stderr",
     "output_type": "stream",
     "text": [
      "Lossy conversion from float64 to uint8. Range [-0.8780264279624923, 1.0]. Convert image to uint8 prior to saving to suppress this warning.\n",
      "Lossy conversion from float64 to uint8. Range [-0.7386363636363846, 1.0]. Convert image to uint8 prior to saving to suppress this warning.\n"
     ]
    },
    {
     "name": "stdout",
     "output_type": "stream",
     "text": [
      "Finished:  339\n",
      "Filename:  #frac{643}{95}x^2+279 #sin928_70720.jpg\n",
      "Finished:  340\n",
      "Filename:  #frac{8}{222}x^3-560 #tan -486_53645.jpg\n"
     ]
    },
    {
     "name": "stderr",
     "output_type": "stream",
     "text": [
      "Lossy conversion from float64 to uint8. Range [-0.868141999078899, 1.0]. Convert image to uint8 prior to saving to suppress this warning.\n"
     ]
    },
    {
     "name": "stdout",
     "output_type": "stream",
     "text": [
      "Finished:  341\n",
      "Filename:  #frac{3}{163}x^2-601 #tan -508_94889.jpg\n"
     ]
    },
    {
     "name": "stderr",
     "output_type": "stream",
     "text": [
      "Lossy conversion from float64 to uint8. Range [-0.7781220156193267, 1.0]. Convert image to uint8 prior to saving to suppress this warning.\n"
     ]
    },
    {
     "name": "stdout",
     "output_type": "stream",
     "text": [
      "Finished:  342\n",
      "Filename:  #frac{540}{606}x^4-507 #cos -56_7811.jpg\n"
     ]
    },
    {
     "name": "stderr",
     "output_type": "stream",
     "text": [
      "Lossy conversion from float64 to uint8. Range [-0.8759216065536306, 1.0]. Convert image to uint8 prior to saving to suppress this warning.\n",
      "Lossy conversion from float64 to uint8. Range [-0.6507566976025235, 1.0]. Convert image to uint8 prior to saving to suppress this warning.\n"
     ]
    },
    {
     "name": "stdout",
     "output_type": "stream",
     "text": [
      "Finished:  343\n",
      "Filename:  #frac{718}{912}x^3+290 #cos 937_93555.jpg\n"
     ]
    },
    {
     "name": "stderr",
     "output_type": "stream",
     "text": [
      "Lossy conversion from float64 to uint8. Range [-0.3136222854958871, 1.0]. Convert image to uint8 prior to saving to suppress this warning.\n"
     ]
    },
    {
     "name": "stdout",
     "output_type": "stream",
     "text": [
      "Finished:  344\n",
      "Filename:  #frac{265}{13}x^4+551 #cos 809_35402.jpg\n",
      "Finished:  345\n",
      "Filename:  #frac{187}{862}x^2+366 #tan 565_27669.jpg\n"
     ]
    },
    {
     "name": "stderr",
     "output_type": "stream",
     "text": [
      "Lossy conversion from float64 to uint8. Range [-0.8492842329239241, 1.0]. Convert image to uint8 prior to saving to suppress this warning.\n"
     ]
    },
    {
     "name": "stdout",
     "output_type": "stream",
     "text": [
      "Finished:  346\n",
      "Filename:  #frac{337}{339}x^4+889 #sin1317_30586.jpg\n"
     ]
    },
    {
     "name": "stderr",
     "output_type": "stream",
     "text": [
      "Lossy conversion from float64 to uint8. Range [-0.908060429167253, 1.0]. Convert image to uint8 prior to saving to suppress this warning.\n"
     ]
    },
    {
     "name": "stdout",
     "output_type": "stream",
     "text": [
      "Finished:  347\n",
      "Filename:  #frac{181}{746}x^4-395 #sin-126_85230.jpg\n"
     ]
    },
    {
     "name": "stderr",
     "output_type": "stream",
     "text": [
      "Lossy conversion from float64 to uint8. Range [-0.6245891722874057, 1.0]. Convert image to uint8 prior to saving to suppress this warning.\n",
      "Lossy conversion from float64 to uint8. Range [-0.7499999999999964, 1.0]. Convert image to uint8 prior to saving to suppress this warning.\n"
     ]
    },
    {
     "name": "stdout",
     "output_type": "stream",
     "text": [
      "Finished:  348\n",
      "Filename:  #frac{634}{265}x^4+407 #cos 944_65747.jpg\n",
      "Finished:  349\n",
      "Filename:  #frac{885}{752}x^2-990 #cos -173_23780.jpg\n"
     ]
    },
    {
     "name": "stderr",
     "output_type": "stream",
     "text": [
      "Lossy conversion from float64 to uint8. Range [-0.8797710601419139, 1.0]. Convert image to uint8 prior to saving to suppress this warning.\n"
     ]
    },
    {
     "name": "stdout",
     "output_type": "stream",
     "text": [
      "Finished:  350\n",
      "Filename:  #frac{870}{555}x^3+970 #tan 1879_26581.jpg\n"
     ]
    },
    {
     "name": "stderr",
     "output_type": "stream",
     "text": [
      "Lossy conversion from float64 to uint8. Range [-0.6622600917837518, 1.0]. Convert image to uint8 prior to saving to suppress this warning.\n"
     ]
    },
    {
     "name": "stdout",
     "output_type": "stream",
     "text": [
      "Finished:  351\n",
      "Filename:  #frac{801}{42}x^4-779 #cos 3_99745.jpg\n"
     ]
    },
    {
     "name": "stderr",
     "output_type": "stream",
     "text": [
      "Lossy conversion from float64 to uint8. Range [-0.7799983749066154, 1.0]. Convert image to uint8 prior to saving to suppress this warning.\n"
     ]
    },
    {
     "name": "stdout",
     "output_type": "stream",
     "text": [
      "Finished:  352\n",
      "Filename:  #frac{939}{602}x^3+570 #cos 1504_7729.jpg\n"
     ]
    },
    {
     "name": "stderr",
     "output_type": "stream",
     "text": [
      "Lossy conversion from float64 to uint8. Range [-0.9364276960784207, 1.0]. Convert image to uint8 prior to saving to suppress this warning.\n"
     ]
    },
    {
     "name": "stdout",
     "output_type": "stream",
     "text": [
      "Finished:  353\n",
      "Filename:  #frac{379}{490}x^3+554 #sin945_99923.jpg\n"
     ]
    },
    {
     "name": "stderr",
     "output_type": "stream",
     "text": [
      "Lossy conversion from float64 to uint8. Range [-0.9449174406604711, 1.0]. Convert image to uint8 prior to saving to suppress this warning.\n"
     ]
    },
    {
     "name": "stdout",
     "output_type": "stream",
     "text": [
      "Finished:  354\n",
      "Filename:  #frac{626}{741}x^4+130 #tan 758_45772.jpg\n"
     ]
    },
    {
     "name": "stderr",
     "output_type": "stream",
     "text": [
      "Lossy conversion from float64 to uint8. Range [-0.9848412972226975, 1.0]. Convert image to uint8 prior to saving to suppress this warning.\n"
     ]
    },
    {
     "name": "stdout",
     "output_type": "stream",
     "text": [
      "Finished:  355\n",
      "Filename:  #frac{119}{85}x^2-743 #cos -702_43229.jpg\n"
     ]
    },
    {
     "name": "stderr",
     "output_type": "stream",
     "text": [
      "Lossy conversion from float64 to uint8. Range [-0.8747435613921528, 1.0]. Convert image to uint8 prior to saving to suppress this warning.\n"
     ]
    },
    {
     "name": "stdout",
     "output_type": "stream",
     "text": [
      "Finished:  356\n",
      "Filename:  #frac{40}{237}x^4+26 #cos -27_55999.jpg\n"
     ]
    },
    {
     "name": "stderr",
     "output_type": "stream",
     "text": [
      "Lossy conversion from float64 to uint8. Range [-0.28788338417632264, 1.0]. Convert image to uint8 prior to saving to suppress this warning.\n"
     ]
    },
    {
     "name": "stdout",
     "output_type": "stream",
     "text": [
      "Finished:  357\n",
      "Filename:  #frac{551}{85}x^2-381 #cos 110_27489.jpg\n"
     ]
    },
    {
     "name": "stderr",
     "output_type": "stream",
     "text": [
      "Lossy conversion from float64 to uint8. Range [-0.6187473480296686, 1.0]. Convert image to uint8 prior to saving to suppress this warning.\n"
     ]
    },
    {
     "name": "stdout",
     "output_type": "stream",
     "text": [
      "Finished:  358\n",
      "Filename:  #frac{375}{274}x^4-309 #sin86_27507.jpg\n"
     ]
    },
    {
     "name": "stderr",
     "output_type": "stream",
     "text": [
      "Lossy conversion from float64 to uint8. Range [-0.7034883720930267, 1.0]. Convert image to uint8 prior to saving to suppress this warning.\n"
     ]
    },
    {
     "name": "stdout",
     "output_type": "stream",
     "text": [
      "Finished:  359\n",
      "Filename:  #frac{970}{188}x^4+920 #sin1934_52469.jpg\n"
     ]
    },
    {
     "name": "stderr",
     "output_type": "stream",
     "text": [
      "Lossy conversion from float64 to uint8. Range [-0.5246433303546686, 1.0]. Convert image to uint8 prior to saving to suppress this warning.\n"
     ]
    },
    {
     "name": "stdout",
     "output_type": "stream",
     "text": [
      "Finished:  360\n",
      "Filename:  #frac{528}{544}x^2+506 #tan 1045_98108.jpg\n"
     ]
    },
    {
     "name": "stderr",
     "output_type": "stream",
     "text": [
      "Lossy conversion from float64 to uint8. Range [-0.9069980248039718, 1.0]. Convert image to uint8 prior to saving to suppress this warning.\n"
     ]
    },
    {
     "name": "stdout",
     "output_type": "stream",
     "text": [
      "Finished:  361\n",
      "Filename:  #frac{420}{176}x^3+838 #sin1352_7002.jpg\n"
     ]
    },
    {
     "name": "stderr",
     "output_type": "stream",
     "text": [
      "Lossy conversion from float64 to uint8. Range [-0.8027012932832772, 1.0]. Convert image to uint8 prior to saving to suppress this warning.\n"
     ]
    },
    {
     "name": "stdout",
     "output_type": "stream",
     "text": [
      "Finished:  362\n",
      "Filename:  #frac{219}{951}x^3+585 #tan 812_21886.jpg\n"
     ]
    },
    {
     "name": "stderr",
     "output_type": "stream",
     "text": [
      "Lossy conversion from float64 to uint8. Range [-0.39860628877494464, 1.0]. Convert image to uint8 prior to saving to suppress this warning.\n"
     ]
    },
    {
     "name": "stdout",
     "output_type": "stream",
     "text": [
      "Finished:  363\n",
      "Filename:  #frac{709}{811}x^4-492 #cos 120_75457.jpg\n"
     ]
    },
    {
     "name": "stderr",
     "output_type": "stream",
     "text": [
      "Lossy conversion from float64 to uint8. Range [-0.7428931007576461, 1.0]. Convert image to uint8 prior to saving to suppress this warning.\n"
     ]
    },
    {
     "name": "stdout",
     "output_type": "stream",
     "text": [
      "Finished:  364\n",
      "Filename:  #frac{805}{355}x^4-648 #cos 72_81444.jpg\n"
     ]
    },
    {
     "name": "stderr",
     "output_type": "stream",
     "text": [
      "Lossy conversion from float64 to uint8. Range [-0.8990574932543346, 1.0]. Convert image to uint8 prior to saving to suppress this warning.\n",
      "Lossy conversion from float64 to uint8. Range [-0.8411870111938722, 1.0]. Convert image to uint8 prior to saving to suppress this warning.\n"
     ]
    },
    {
     "name": "stdout",
     "output_type": "stream",
     "text": [
      "Finished:  365\n",
      "Filename:  #frac{778}{488}x^3+617 #sin1428_12133.jpg\n",
      "Finished:  366\n",
      "Filename:  #frac{904}{218}x^4+20 #tan 1007_13912.jpg\n"
     ]
    },
    {
     "name": "stderr",
     "output_type": "stream",
     "text": [
      "Lossy conversion from float64 to uint8. Range [-0.7803282670138595, 1.0]. Convert image to uint8 prior to saving to suppress this warning.\n"
     ]
    },
    {
     "name": "stdout",
     "output_type": "stream",
     "text": [
      "Finished:  367\n",
      "Filename:  #frac{195}{957}x^3-792 #cos -631_92621.jpg\n"
     ]
    },
    {
     "name": "stderr",
     "output_type": "stream",
     "text": [
      "Lossy conversion from float64 to uint8. Range [-0.7499999999999929, 1.0]. Convert image to uint8 prior to saving to suppress this warning.\n"
     ]
    },
    {
     "name": "stdout",
     "output_type": "stream",
     "text": [
      "Finished:  368\n",
      "Filename:  #frac{244}{564}x^4+220 #sin484_73916.jpg\n"
     ]
    },
    {
     "name": "stderr",
     "output_type": "stream",
     "text": [
      "Lossy conversion from float64 to uint8. Range [-1.1903515064562236, 1.0]. Convert image to uint8 prior to saving to suppress this warning.\n"
     ]
    },
    {
     "name": "stdout",
     "output_type": "stream",
     "text": [
      "Finished:  369\n",
      "Filename:  #frac{321}{430}x^4-287 #sin116_80643.jpg\n"
     ]
    },
    {
     "name": "stderr",
     "output_type": "stream",
     "text": [
      "Lossy conversion from float64 to uint8. Range [-0.9579383360406155, 1.0]. Convert image to uint8 prior to saving to suppress this warning.\n"
     ]
    },
    {
     "name": "stdout",
     "output_type": "stream",
     "text": [
      "Finished:  370\n",
      "Filename:  #frac{390}{922}x^3+107 #cos 473_9862.jpg\n"
     ]
    },
    {
     "name": "stderr",
     "output_type": "stream",
     "text": [
      "Lossy conversion from float64 to uint8. Range [-0.5008255933952457, 1.0]. Convert image to uint8 prior to saving to suppress this warning.\n"
     ]
    },
    {
     "name": "stdout",
     "output_type": "stream",
     "text": [
      "Finished:  371\n",
      "Filename:  #frac{706}{628}x^4+301 #tan 1073_1152.jpg\n"
     ]
    },
    {
     "name": "stderr",
     "output_type": "stream",
     "text": [
      "Lossy conversion from float64 to uint8. Range [-0.8217871076456792, 1.0]. Convert image to uint8 prior to saving to suppress this warning.\n"
     ]
    },
    {
     "name": "stdout",
     "output_type": "stream",
     "text": [
      "Finished:  372\n",
      "Filename:  #frac{545}{955}x^3+721 #sin1283_90967.jpg\n"
     ]
    },
    {
     "name": "stderr",
     "output_type": "stream",
     "text": [
      "Lossy conversion from float64 to uint8. Range [-0.7554347826086953, 1.0]. Convert image to uint8 prior to saving to suppress this warning.\n"
     ]
    },
    {
     "name": "stdout",
     "output_type": "stream",
     "text": [
      "Finished:  373\n",
      "Filename:  #frac{555}{499}x^4+247 #sin885_69181.jpg\n"
     ]
    },
    {
     "name": "stderr",
     "output_type": "stream",
     "text": [
      "Lossy conversion from float64 to uint8. Range [-0.7743636254123667, 1.0]. Convert image to uint8 prior to saving to suppress this warning.\n"
     ]
    },
    {
     "name": "stdout",
     "output_type": "stream",
     "text": [
      "Finished:  374\n",
      "Filename:  #frac{616}{459}x^3-390 #sin243_49411.jpg\n"
     ]
    },
    {
     "name": "stderr",
     "output_type": "stream",
     "text": [
      "Lossy conversion from float64 to uint8. Range [-0.6170617646864065, 1.0]. Convert image to uint8 prior to saving to suppress this warning.\n"
     ]
    },
    {
     "name": "stdout",
     "output_type": "stream",
     "text": [
      "Finished:  375\n",
      "Filename:  #frac{512}{215}x^2-606 #cos -160_75116.jpg\n"
     ]
    },
    {
     "name": "stderr",
     "output_type": "stream",
     "text": [
      "Lossy conversion from float64 to uint8. Range [-0.7142689856217616, 1.0]. Convert image to uint8 prior to saving to suppress this warning.\n"
     ]
    },
    {
     "name": "stdout",
     "output_type": "stream",
     "text": [
      "Finished:  376\n",
      "Filename:  #frac{408}{361}x^4-486 #sin1_39230.jpg\n"
     ]
    },
    {
     "name": "stderr",
     "output_type": "stream",
     "text": [
      "Lossy conversion from float64 to uint8. Range [-0.46472937000888603, 1.0]. Convert image to uint8 prior to saving to suppress this warning.\n",
      "Lossy conversion from float64 to uint8. Range [-0.7433489674939638, 1.0]. Convert image to uint8 prior to saving to suppress this warning.\n"
     ]
    },
    {
     "name": "stdout",
     "output_type": "stream",
     "text": [
      "Finished:  377\n",
      "Filename:  #frac{978}{464}x^3+51 #cos 1005_73345.jpg\n"
     ]
    },
    {
     "name": "stderr",
     "output_type": "stream",
     "text": [
      "Lossy conversion from float64 to uint8. Range [-0.41571961884334246, 1.0]. Convert image to uint8 prior to saving to suppress this warning.\n"
     ]
    },
    {
     "name": "stdout",
     "output_type": "stream",
     "text": [
      "Finished:  378\n",
      "Filename:  #frac{336}{926}x^4+947 #cos 1207_48084.jpg\n",
      "Finished:  379\n"
     ]
    },
    {
     "name": "stderr",
     "output_type": "stream",
     "text": [
      "Lossy conversion from float64 to uint8. Range [-0.9670329670329602, 1.0]. Convert image to uint8 prior to saving to suppress this warning.\n"
     ]
    },
    {
     "name": "stdout",
     "output_type": "stream",
     "text": [
      "Filename:  #frac{611}{896}x^4-297 #sin321_1410.jpg\n",
      "Finished:  380\n",
      "Filename:  #frac{191}{809}x^2+466 #tan 700_83301.jpg\n"
     ]
    },
    {
     "name": "stderr",
     "output_type": "stream",
     "text": [
      "Lossy conversion from float64 to uint8. Range [-0.959868757767588, 1.0]. Convert image to uint8 prior to saving to suppress this warning.\n"
     ]
    },
    {
     "name": "stdout",
     "output_type": "stream",
     "text": [
      "Finished:  381\n",
      "Filename:  #frac{150}{315}x^3+322 #tan 542_86080.jpg\n"
     ]
    },
    {
     "name": "stderr",
     "output_type": "stream",
     "text": [
      "Lossy conversion from float64 to uint8. Range [-0.7681107082168802, 1.0]. Convert image to uint8 prior to saving to suppress this warning.\n"
     ]
    },
    {
     "name": "stdout",
     "output_type": "stream",
     "text": [
      "Finished:  382\n",
      "Filename:  #frac{137}{302}x^2-220 #tan -73_6240.jpg\n"
     ]
    },
    {
     "name": "stderr",
     "output_type": "stream",
     "text": [
      "Lossy conversion from float64 to uint8. Range [-0.8146273943136374, 1.0]. Convert image to uint8 prior to saving to suppress this warning.\n"
     ]
    },
    {
     "name": "stdout",
     "output_type": "stream",
     "text": [
      "Finished:  383\n",
      "Filename:  #frac{764}{562}x^2+240 #cos 934_90622.jpg\n"
     ]
    },
    {
     "name": "stderr",
     "output_type": "stream",
     "text": [
      "Lossy conversion from float64 to uint8. Range [-0.8589855139538048, 1.0]. Convert image to uint8 prior to saving to suppress this warning.\n"
     ]
    },
    {
     "name": "stdout",
     "output_type": "stream",
     "text": [
      "Finished:  384\n",
      "Filename:  #frac{547}{452}x^3+112 #cos 616_119.jpg\n"
     ]
    },
    {
     "name": "stderr",
     "output_type": "stream",
     "text": [
      "Lossy conversion from float64 to uint8. Range [-0.6874999999999929, 1.0]. Convert image to uint8 prior to saving to suppress this warning.\n"
     ]
    },
    {
     "name": "stdout",
     "output_type": "stream",
     "text": [
      "Finished:  385\n",
      "Filename:  #frac{778}{271}x^4-453 #sin369_35036.jpg\n"
     ]
    },
    {
     "name": "stderr",
     "output_type": "stream",
     "text": [
      "Lossy conversion from float64 to uint8. Range [-0.7267441860465063, 1.0]. Convert image to uint8 prior to saving to suppress this warning.\n"
     ]
    },
    {
     "name": "stdout",
     "output_type": "stream",
     "text": [
      "Finished:  386\n",
      "Filename:  #frac{933}{358}x^2-343 #cos 499_11442.jpg\n"
     ]
    },
    {
     "name": "stderr",
     "output_type": "stream",
     "text": [
      "Lossy conversion from float64 to uint8. Range [-0.9054028132992025, 1.0]. Convert image to uint8 prior to saving to suppress this warning.\n"
     ]
    },
    {
     "name": "stdout",
     "output_type": "stream",
     "text": [
      "Finished:  387\n",
      "Filename:  #frac{274}{264}x^4-318 #tan 43_63364.jpg\n"
     ]
    },
    {
     "name": "stderr",
     "output_type": "stream",
     "text": [
      "Lossy conversion from float64 to uint8. Range [-0.7016526999511223, 1.0]. Convert image to uint8 prior to saving to suppress this warning.\n"
     ]
    },
    {
     "name": "stdout",
     "output_type": "stream",
     "text": [
      "Finished:  388\n",
      "Filename:  #frac{91}{997}x^3-264 #cos -202_61140.jpg\n"
     ]
    },
    {
     "name": "stderr",
     "output_type": "stream",
     "text": [
      "Lossy conversion from float64 to uint8. Range [-0.7741261722079978, 1.0]. Convert image to uint8 prior to saving to suppress this warning.\n"
     ]
    },
    {
     "name": "stdout",
     "output_type": "stream",
     "text": [
      "Finished:  389\n",
      "Filename:  #frac{924}{785}x^2+682 #cos 1546_19645.jpg\n"
     ]
    },
    {
     "name": "stderr",
     "output_type": "stream",
     "text": [
      "Lossy conversion from float64 to uint8. Range [-0.8005133449331946, 1.0]. Convert image to uint8 prior to saving to suppress this warning.\n"
     ]
    },
    {
     "name": "stdout",
     "output_type": "stream",
     "text": [
      "Finished:  390\n",
      "Filename:  #frac{680}{457}x^3+799 #cos 1460_15898.jpg\n"
     ]
    },
    {
     "name": "stderr",
     "output_type": "stream",
     "text": [
      "Lossy conversion from float64 to uint8. Range [-0.7606382978723403, 1.0]. Convert image to uint8 prior to saving to suppress this warning.\n"
     ]
    },
    {
     "name": "stdout",
     "output_type": "stream",
     "text": [
      "Finished:  391\n",
      "Filename:  #frac{354}{103}x^2-829 #cos -569_62735.jpg\n"
     ]
    },
    {
     "name": "stderr",
     "output_type": "stream",
     "text": [
      "Lossy conversion from float64 to uint8. Range [-0.5765402365938208, 1.0]. Convert image to uint8 prior to saving to suppress this warning.\n"
     ]
    },
    {
     "name": "stdout",
     "output_type": "stream",
     "text": [
      "Finished:  392\n",
      "Filename:  #frac{727}{180}x^3-952 #tan -182_38703.jpg\n"
     ]
    },
    {
     "name": "stderr",
     "output_type": "stream",
     "text": [
      "Lossy conversion from float64 to uint8. Range [-0.7441181748280018, 1.0]. Convert image to uint8 prior to saving to suppress this warning.\n"
     ]
    },
    {
     "name": "stdout",
     "output_type": "stream",
     "text": [
      "Finished:  393\n",
      "Filename:  #frac{756}{962}x^4-516 #sin240_91451.jpg\n"
     ]
    },
    {
     "name": "stderr",
     "output_type": "stream",
     "text": [
      "Lossy conversion from float64 to uint8. Range [-0.9870847715712805, 1.0]. Convert image to uint8 prior to saving to suppress this warning.\n",
      "Lossy conversion from float64 to uint8. Range [-0.7049755349182502, 1.0]. Convert image to uint8 prior to saving to suppress this warning.\n"
     ]
    },
    {
     "name": "stdout",
     "output_type": "stream",
     "text": [
      "Finished:  394\n",
      "Filename:  #frac{444}{693}x^2-444 #tan 1_35589.jpg\n",
      "Finished:  395\n",
      "Filename:  #frac{388}{639}x^4-634 #cos -335_28885.jpg\n"
     ]
    },
    {
     "name": "stderr",
     "output_type": "stream",
     "text": [
      "Lossy conversion from float64 to uint8. Range [-0.8877100840336095, 1.0]. Convert image to uint8 prior to saving to suppress this warning.\n"
     ]
    },
    {
     "name": "stdout",
     "output_type": "stream",
     "text": [
      "Finished:  396\n",
      "Filename:  #frac{584}{856}x^4-224 #cos 314_22749.jpg\n"
     ]
    },
    {
     "name": "stderr",
     "output_type": "stream",
     "text": [
      "Lossy conversion from float64 to uint8. Range [-0.8015479876160861, 1.0]. Convert image to uint8 prior to saving to suppress this warning.\n"
     ]
    },
    {
     "name": "stdout",
     "output_type": "stream",
     "text": [
      "Finished:  397\n",
      "Filename:  #frac{154}{42}x^3+436 #cos 526_31293.jpg\n"
     ]
    },
    {
     "name": "stderr",
     "output_type": "stream",
     "text": [
      "Lossy conversion from float64 to uint8. Range [-0.8083281179904495, 1.0]. Convert image to uint8 prior to saving to suppress this warning.\n"
     ]
    },
    {
     "name": "stdout",
     "output_type": "stream",
     "text": [
      "Finished:  398\n",
      "Filename:  #frac{442}{127}x^4+736 #cos 1105_97318.jpg\n"
     ]
    },
    {
     "name": "stderr",
     "output_type": "stream",
     "text": [
      "Lossy conversion from float64 to uint8. Range [-0.9999999999999715, 1.0]. Convert image to uint8 prior to saving to suppress this warning.\n"
     ]
    },
    {
     "name": "stdout",
     "output_type": "stream",
     "text": [
      "Finished:  399\n",
      "Filename:  #frac{394}{975}x^3+849 #sin1307_16629.jpg\n"
     ]
    },
    {
     "name": "stderr",
     "output_type": "stream",
     "text": [
      "Lossy conversion from float64 to uint8. Range [-0.7631987577639874, 1.0]. Convert image to uint8 prior to saving to suppress this warning.\n"
     ]
    },
    {
     "name": "stdout",
     "output_type": "stream",
     "text": [
      "Finished:  400\n",
      "Filename:  #frac{449}{272}x^2+755 #sin1253_77591.jpg\n"
     ]
    },
    {
     "name": "stderr",
     "output_type": "stream",
     "text": [
      "Lossy conversion from float64 to uint8. Range [-0.6343843745923998, 1.0]. Convert image to uint8 prior to saving to suppress this warning.\n",
      "Lossy conversion from float64 to uint8. Range [-0.8901683422960031, 1.0]. Convert image to uint8 prior to saving to suppress this warning.\n"
     ]
    },
    {
     "name": "stdout",
     "output_type": "stream",
     "text": [
      "Finished:  401\n",
      "Filename:  #frac{333}{396}x^3-89 #cos 151_38694.jpg\n",
      "Finished:  402\n",
      "Filename:  #frac{966}{137}x^2+410 #cos 1304_90368.jpg\n"
     ]
    },
    {
     "name": "stderr",
     "output_type": "stream",
     "text": [
      "Lossy conversion from float64 to uint8. Range [-0.7488344863821982, 1.0]. Convert image to uint8 prior to saving to suppress this warning.\n",
      "Lossy conversion from float64 to uint8. Range [-0.7498087039693643, 1.0]. Convert image to uint8 prior to saving to suppress this warning.\n"
     ]
    },
    {
     "name": "stdout",
     "output_type": "stream",
     "text": [
      "Finished:  403\n",
      "Filename:  #frac{373}{95}x^3+658 #sin1041_97126.jpg\n",
      "Finished:  404\n",
      "Filename:  #frac{848}{533}x^2+712 #cos 1547_84752.jpg\n"
     ]
    },
    {
     "name": "stderr",
     "output_type": "stream",
     "text": [
      "Lossy conversion from float64 to uint8. Range [-0.9474424552429582, 1.0]. Convert image to uint8 prior to saving to suppress this warning.\n",
      "Lossy conversion from float64 to uint8. Range [-0.9421396628826882, 1.0]. Convert image to uint8 prior to saving to suppress this warning.\n"
     ]
    },
    {
     "name": "stdout",
     "output_type": "stream",
     "text": [
      "Finished:  405\n",
      "Filename:  #frac{653}{516}x^3-325 #sin398_53425.jpg\n",
      "Finished:  406\n",
      "Filename:  #frac{410}{516}x^2+370 #sin877_93892.jpg\n"
     ]
    },
    {
     "name": "stderr",
     "output_type": "stream",
     "text": [
      "Lossy conversion from float64 to uint8. Range [-0.8884957002704903, 1.0]. Convert image to uint8 prior to saving to suppress this warning.\n"
     ]
    },
    {
     "name": "stdout",
     "output_type": "stream",
     "text": [
      "Finished:  407\n",
      "Filename:  #frac{26}{947}x^3-854 #cos -851_32822.jpg\n"
     ]
    },
    {
     "name": "stderr",
     "output_type": "stream",
     "text": [
      "Lossy conversion from float64 to uint8. Range [-0.8457837081297774, 1.0]. Convert image to uint8 prior to saving to suppress this warning.\n"
     ]
    },
    {
     "name": "stdout",
     "output_type": "stream",
     "text": [
      "Finished:  408\n",
      "Filename:  #frac{211}{552}x^4-417 #tan -191_88462.jpg\n"
     ]
    },
    {
     "name": "stderr",
     "output_type": "stream",
     "text": [
      "Lossy conversion from float64 to uint8. Range [-0.6247603460369314, 1.0]. Convert image to uint8 prior to saving to suppress this warning.\n"
     ]
    },
    {
     "name": "stdout",
     "output_type": "stream",
     "text": [
      "Finished:  409\n",
      "Filename:  #frac{725}{943}x^2+790 #cos 1439_41706.jpg\n"
     ]
    },
    {
     "name": "stderr",
     "output_type": "stream",
     "text": [
      "Lossy conversion from float64 to uint8. Range [-0.9379146395400214, 1.0]. Convert image to uint8 prior to saving to suppress this warning.\n"
     ]
    },
    {
     "name": "stdout",
     "output_type": "stream",
     "text": [
      "Finished:  410\n",
      "Filename:  #frac{816}{851}x^2+521 #cos 1317_70097.jpg\n"
     ]
    },
    {
     "name": "stderr",
     "output_type": "stream",
     "text": [
      "Lossy conversion from float64 to uint8. Range [-0.9772371714643323, 1.0]. Convert image to uint8 prior to saving to suppress this warning.\n"
     ]
    },
    {
     "name": "stdout",
     "output_type": "stream",
     "text": [
      "Finished:  411\n",
      "Filename:  #frac{715}{209}x^2+500 #tan 1253_79812.jpg\n"
     ]
    },
    {
     "name": "stderr",
     "output_type": "stream",
     "text": [
      "Lossy conversion from float64 to uint8. Range [-0.5168345705196273, 1.0]. Convert image to uint8 prior to saving to suppress this warning.\n",
      "Lossy conversion from float64 to uint8. Range [-0.914868619512588, 1.0]. Convert image to uint8 prior to saving to suppress this warning.\n"
     ]
    },
    {
     "name": "stdout",
     "output_type": "stream",
     "text": [
      "Finished:  412\n",
      "Filename:  #frac{27}{699}x^2-472 #cos -462_60508.jpg\n",
      "Finished:  413\n",
      "Filename:  #frac{503}{287}x^4+358 #tan 925_38597.jpg\n"
     ]
    },
    {
     "name": "stderr",
     "output_type": "stream",
     "text": [
      "Lossy conversion from float64 to uint8. Range [-0.9564425770308133, 1.0]. Convert image to uint8 prior to saving to suppress this warning.\n"
     ]
    },
    {
     "name": "stdout",
     "output_type": "stream",
     "text": [
      "Finished:  414\n",
      "Filename:  #frac{837}{982}x^3+376 #cos 1132_70581.jpg\n"
     ]
    },
    {
     "name": "stderr",
     "output_type": "stream",
     "text": [
      "Lossy conversion from float64 to uint8. Range [-0.748944193061833, 1.0]. Convert image to uint8 prior to saving to suppress this warning.\n"
     ]
    },
    {
     "name": "stdout",
     "output_type": "stream",
     "text": [
      "Finished:  415\n",
      "Filename:  #frac{81}{883}x^3+312 #tan 464_59027.jpg\n"
     ]
    },
    {
     "name": "stderr",
     "output_type": "stream",
     "text": [
      "Lossy conversion from float64 to uint8. Range [-0.8807593651116501, 1.0]. Convert image to uint8 prior to saving to suppress this warning.\n"
     ]
    },
    {
     "name": "stdout",
     "output_type": "stream",
     "text": [
      "Finished:  416\n",
      "Filename:  #frac{937}{790}x^2+742 #sin1774_79893.jpg\n"
     ]
    },
    {
     "name": "stderr",
     "output_type": "stream",
     "text": [
      "Lossy conversion from float64 to uint8. Range [-0.7332131491884419, 1.0]. Convert image to uint8 prior to saving to suppress this warning.\n"
     ]
    },
    {
     "name": "stdout",
     "output_type": "stream",
     "text": [
      "Finished:  417\n",
      "Filename:  #frac{517}{361}x^3+451 #cos 949_16329.jpg\n"
     ]
    },
    {
     "name": "stderr",
     "output_type": "stream",
     "text": [
      "Lossy conversion from float64 to uint8. Range [-0.7435578514622586, 1.0]. Convert image to uint8 prior to saving to suppress this warning.\n"
     ]
    },
    {
     "name": "stdout",
     "output_type": "stream",
     "text": [
      "Finished:  418\n",
      "Filename:  #frac{81}{645}x^4-542 #tan -445_71601.jpg\n"
     ]
    },
    {
     "name": "stderr",
     "output_type": "stream",
     "text": [
      "Lossy conversion from float64 to uint8. Range [-0.8699079153562999, 1.0]. Convert image to uint8 prior to saving to suppress this warning.\n"
     ]
    },
    {
     "name": "stdout",
     "output_type": "stream",
     "text": [
      "Finished:  419\n",
      "Filename:  #frac{3}{197}x^2+564 #cos 503_13921.jpg\n"
     ]
    },
    {
     "name": "stderr",
     "output_type": "stream",
     "text": [
      "Lossy conversion from float64 to uint8. Range [-0.902132095441721, 1.0]. Convert image to uint8 prior to saving to suppress this warning.\n"
     ]
    },
    {
     "name": "stdout",
     "output_type": "stream",
     "text": [
      "Finished:  420\n",
      "Filename:  #frac{947}{886}x^4+765 #tan 1727_70733.jpg\n"
     ]
    },
    {
     "name": "stderr",
     "output_type": "stream",
     "text": [
      "Lossy conversion from float64 to uint8. Range [-0.6960223994532189, 1.0]. Convert image to uint8 prior to saving to suppress this warning.\n"
     ]
    },
    {
     "name": "stdout",
     "output_type": "stream",
     "text": [
      "Finished:  421\n",
      "Filename:  #frac{869}{204}x^4+789 #sin1718_6831.jpg\n"
     ]
    },
    {
     "name": "stderr",
     "output_type": "stream",
     "text": [
      "Lossy conversion from float64 to uint8. Range [-0.9882352941176363, 1.0]. Convert image to uint8 prior to saving to suppress this warning.\n"
     ]
    },
    {
     "name": "stdout",
     "output_type": "stream",
     "text": [
      "Finished:  422\n",
      "Filename:  #frac{768}{661}x^2-992 #sin-162_43968.jpg\n"
     ]
    },
    {
     "name": "stderr",
     "output_type": "stream",
     "text": [
      "Lossy conversion from float64 to uint8. Range [-0.8252332267056344, 1.0]. Convert image to uint8 prior to saving to suppress this warning.\n"
     ]
    },
    {
     "name": "stdout",
     "output_type": "stream",
     "text": [
      "Finished:  423\n",
      "Filename:  #frac{432}{217}x^2-854 #tan -357_41436.jpg\n"
     ]
    },
    {
     "name": "stderr",
     "output_type": "stream",
     "text": [
      "Lossy conversion from float64 to uint8. Range [-0.948358663680142, 1.0]. Convert image to uint8 prior to saving to suppress this warning.\n"
     ]
    },
    {
     "name": "stdout",
     "output_type": "stream",
     "text": [
      "Finished:  424\n",
      "Filename:  #frac{615}{768}x^3+45 #sin708_917.jpg\n"
     ]
    },
    {
     "name": "stderr",
     "output_type": "stream",
     "text": [
      "Lossy conversion from float64 to uint8. Range [-0.9745460421930872, 1.0]. Convert image to uint8 prior to saving to suppress this warning.\n"
     ]
    },
    {
     "name": "stdout",
     "output_type": "stream",
     "text": [
      "Finished:  425\n",
      "Filename:  #frac{224}{68}x^3-628 #cos -500_83110.jpg\n"
     ]
    },
    {
     "name": "stderr",
     "output_type": "stream",
     "text": [
      "Lossy conversion from float64 to uint8. Range [-0.9481660402366243, 1.0]. Convert image to uint8 prior to saving to suppress this warning.\n"
     ]
    },
    {
     "name": "stdout",
     "output_type": "stream",
     "text": [
      "Finished:  426\n",
      "Filename:  #frac{249}{855}x^3+787 #cos 964_92902.jpg\n"
     ]
    },
    {
     "name": "stderr",
     "output_type": "stream",
     "text": [
      "Lossy conversion from float64 to uint8. Range [-0.9980392156862639, 1.0]. Convert image to uint8 prior to saving to suppress this warning.\n"
     ]
    },
    {
     "name": "stdout",
     "output_type": "stream",
     "text": [
      "Finished:  427\n",
      "Filename:  #frac{412}{164}x^2-674 #tan -188_79600.jpg\n"
     ]
    },
    {
     "name": "stderr",
     "output_type": "stream",
     "text": [
      "Lossy conversion from float64 to uint8. Range [-0.7751495799804549, 1.0]. Convert image to uint8 prior to saving to suppress this warning.\n"
     ]
    },
    {
     "name": "stdout",
     "output_type": "stream",
     "text": [
      "Finished:  428\n",
      "Filename:  #frac{27}{384}x^4-843 #cos -865_22877.jpg\n"
     ]
    },
    {
     "name": "stderr",
     "output_type": "stream",
     "text": [
      "Lossy conversion from float64 to uint8. Range [-0.6822517050298309, 1.0]. Convert image to uint8 prior to saving to suppress this warning.\n",
      "Lossy conversion from float64 to uint8. Range [-0.6831845238095169, 1.0]. Convert image to uint8 prior to saving to suppress this warning.\n"
     ]
    },
    {
     "name": "stdout",
     "output_type": "stream",
     "text": [
      "Finished:  429\n",
      "Filename:  #frac{230}{539}x^4+415 #cos 629_90976.jpg\n",
      "Finished:  430\n",
      "Filename:  #frac{447}{61}x^3+643 #tan 1163_83316.jpg\n"
     ]
    },
    {
     "name": "stderr",
     "output_type": "stream",
     "text": [
      "Lossy conversion from float64 to uint8. Range [-0.6721145551101628, 1.0]. Convert image to uint8 prior to saving to suppress this warning.\n"
     ]
    },
    {
     "name": "stdout",
     "output_type": "stream",
     "text": [
      "Finished:  431\n",
      "Filename:  #frac{518}{724}x^3-747 #cos -264_51017.jpg\n"
     ]
    },
    {
     "name": "stderr",
     "output_type": "stream",
     "text": [
      "Lossy conversion from float64 to uint8. Range [-0.8050664190380317, 1.0]. Convert image to uint8 prior to saving to suppress this warning.\n",
      "Lossy conversion from float64 to uint8. Range [-0.7931356795689426, 1.0]. Convert image to uint8 prior to saving to suppress this warning.\n"
     ]
    },
    {
     "name": "stdout",
     "output_type": "stream",
     "text": [
      "Finished:  432\n",
      "Filename:  #frac{891}{937}x^3-884 #tan 86_63913.jpg\n",
      "Finished:  433\n",
      "Filename:  #frac{717}{471}x^3-831 #sin-71_28042.jpg\n"
     ]
    },
    {
     "name": "stderr",
     "output_type": "stream",
     "text": [
      "Lossy conversion from float64 to uint8. Range [-0.5695986261897028, 1.0]. Convert image to uint8 prior to saving to suppress this warning.\n"
     ]
    },
    {
     "name": "stdout",
     "output_type": "stream",
     "text": [
      "Finished:  434\n",
      "Filename:  #frac{500}{113}x^3-68 #cos 341_76270.jpg\n"
     ]
    },
    {
     "name": "stderr",
     "output_type": "stream",
     "text": [
      "Lossy conversion from float64 to uint8. Range [-0.7062365848899089, 1.0]. Convert image to uint8 prior to saving to suppress this warning.\n"
     ]
    },
    {
     "name": "stdout",
     "output_type": "stream",
     "text": [
      "Finished:  435\n",
      "Filename:  #frac{46}{476}x^4-826 #tan -729_48841.jpg\n"
     ]
    },
    {
     "name": "stderr",
     "output_type": "stream",
     "text": [
      "Lossy conversion from float64 to uint8. Range [-0.9727957455171348, 1.0]. Convert image to uint8 prior to saving to suppress this warning.\n"
     ]
    },
    {
     "name": "stdout",
     "output_type": "stream",
     "text": [
      "Finished:  436\n",
      "Filename:  #frac{325}{332}x^2-578 #cos -331_34511.jpg\n"
     ]
    },
    {
     "name": "stderr",
     "output_type": "stream",
     "text": [
      "Lossy conversion from float64 to uint8. Range [-0.58928571428571, 1.0]. Convert image to uint8 prior to saving to suppress this warning.\n"
     ]
    },
    {
     "name": "stdout",
     "output_type": "stream",
     "text": [
      "Finished:  437\n",
      "Filename:  #frac{607}{910}x^3-64 #sin589_75419.jpg\n"
     ]
    },
    {
     "name": "stderr",
     "output_type": "stream",
     "text": [
      "Lossy conversion from float64 to uint8. Range [-0.9890109890109784, 1.0]. Convert image to uint8 prior to saving to suppress this warning.\n"
     ]
    },
    {
     "name": "stdout",
     "output_type": "stream",
     "text": [
      "Finished:  438\n",
      "Filename:  #frac{889}{412}x^2+655 #tan 1593_64406.jpg\n"
     ]
    },
    {
     "name": "stderr",
     "output_type": "stream",
     "text": [
      "Lossy conversion from float64 to uint8. Range [-0.800965541165578, 1.0]. Convert image to uint8 prior to saving to suppress this warning.\n"
     ]
    },
    {
     "name": "stdout",
     "output_type": "stream",
     "text": [
      "Finished:  439\n",
      "Filename:  #frac{183}{257}x^4-87 #tan 170_84753.jpg\n"
     ]
    },
    {
     "name": "stderr",
     "output_type": "stream",
     "text": [
      "Lossy conversion from float64 to uint8. Range [-0.6692513600241047, 1.0]. Convert image to uint8 prior to saving to suppress this warning.\n"
     ]
    },
    {
     "name": "stdout",
     "output_type": "stream",
     "text": [
      "Finished:  440\n",
      "Filename:  #frac{777}{417}x^4+868 #sin1722_97226.jpg\n"
     ]
    },
    {
     "name": "stderr",
     "output_type": "stream",
     "text": [
      "Lossy conversion from float64 to uint8. Range [-0.9999999999999857, 1.0]. Convert image to uint8 prior to saving to suppress this warning.\n"
     ]
    },
    {
     "name": "stdout",
     "output_type": "stream",
     "text": [
      "Finished:  441\n",
      "Filename:  #frac{443}{339}x^2-373 #sin135_61286.jpg\n"
     ]
    },
    {
     "name": "stderr",
     "output_type": "stream",
     "text": [
      "Lossy conversion from float64 to uint8. Range [-0.7800880597382359, 1.0]. Convert image to uint8 prior to saving to suppress this warning.\n"
     ]
    },
    {
     "name": "stdout",
     "output_type": "stream",
     "text": [
      "Finished:  442\n",
      "Filename:  #frac{9}{596}x^4-550 #cos -572_48159.jpg\n"
     ]
    },
    {
     "name": "stderr",
     "output_type": "stream",
     "text": [
      "Lossy conversion from float64 to uint8. Range [-0.7495098039215615, 1.0]. Convert image to uint8 prior to saving to suppress this warning.\n"
     ]
    },
    {
     "name": "stdout",
     "output_type": "stream",
     "text": [
      "Finished:  443\n",
      "Filename:  #frac{650}{288}x^4-584 #sin113_77815.jpg\n"
     ]
    },
    {
     "name": "stderr",
     "output_type": "stream",
     "text": [
      "Lossy conversion from float64 to uint8. Range [-0.36188911358276793, 1.0]. Convert image to uint8 prior to saving to suppress this warning.\n"
     ]
    },
    {
     "name": "stdout",
     "output_type": "stream",
     "text": [
      "Finished:  444\n",
      "Filename:  #frac{945}{218}x^3-164 #tan 862_21750.jpg\n"
     ]
    },
    {
     "name": "stderr",
     "output_type": "stream",
     "text": [
      "Lossy conversion from float64 to uint8. Range [-0.6764827670198429, 1.0]. Convert image to uint8 prior to saving to suppress this warning.\n"
     ]
    },
    {
     "name": "stdout",
     "output_type": "stream",
     "text": [
      "Finished:  445\n",
      "Filename:  #frac{500}{317}x^4+658 #sin1200_90924.jpg\n"
     ]
    },
    {
     "name": "stderr",
     "output_type": "stream",
     "text": [
      "Lossy conversion from float64 to uint8. Range [-0.8709677419354946, 1.0]. Convert image to uint8 prior to saving to suppress this warning.\n"
     ]
    },
    {
     "name": "stdout",
     "output_type": "stream",
     "text": [
      "Finished:  446\n",
      "Filename:  #frac{107}{991}x^3-791 #tan -647_35283.jpg\n"
     ]
    },
    {
     "name": "stderr",
     "output_type": "stream",
     "text": [
      "Lossy conversion from float64 to uint8. Range [-0.7704156991743984, 1.0]. Convert image to uint8 prior to saving to suppress this warning.\n"
     ]
    },
    {
     "name": "stdout",
     "output_type": "stream",
     "text": [
      "Finished:  447\n",
      "Filename:  #frac{922}{526}x^3-726 #sin288_35901.jpg\n"
     ]
    },
    {
     "name": "stderr",
     "output_type": "stream",
     "text": [
      "Lossy conversion from float64 to uint8. Range [-0.7996460394170402, 1.0]. Convert image to uint8 prior to saving to suppress this warning.\n"
     ]
    },
    {
     "name": "stdout",
     "output_type": "stream",
     "text": [
      "Finished:  448\n",
      "Filename:  #frac{936}{963}x^3-563 #sin461_8834.jpg\n"
     ]
    },
    {
     "name": "stderr",
     "output_type": "stream",
     "text": [
      "Lossy conversion from float64 to uint8. Range [-0.9478952168382616, 1.0]. Convert image to uint8 prior to saving to suppress this warning.\n"
     ]
    },
    {
     "name": "stdout",
     "output_type": "stream",
     "text": [
      "Finished:  449\n",
      "Filename:  #frac{580}{378}x^4+616 #cos 1118_85796.jpg\n"
     ]
    },
    {
     "name": "stderr",
     "output_type": "stream",
     "text": [
      "Lossy conversion from float64 to uint8. Range [-0.7973058830555753, 1.0]. Convert image to uint8 prior to saving to suppress this warning.\n"
     ]
    },
    {
     "name": "stdout",
     "output_type": "stream",
     "text": [
      "Finished:  450\n",
      "Filename:  #frac{514}{28}x^4+683 #sin1245_64189.jpg\n"
     ]
    },
    {
     "name": "stderr",
     "output_type": "stream",
     "text": [
      "Lossy conversion from float64 to uint8. Range [-0.911093627065288, 1.0]. Convert image to uint8 prior to saving to suppress this warning.\n"
     ]
    },
    {
     "name": "stdout",
     "output_type": "stream",
     "text": [
      "Finished:  451\n",
      "Filename:  #frac{630}{511}x^4-218 #cos 377_66500.jpg\n"
     ]
    },
    {
     "name": "stderr",
     "output_type": "stream",
     "text": [
      "Lossy conversion from float64 to uint8. Range [-0.9421613126856087, 1.0]. Convert image to uint8 prior to saving to suppress this warning.\n"
     ]
    },
    {
     "name": "stdout",
     "output_type": "stream",
     "text": [
      "Finished:  452\n",
      "Filename:  #frac{80}{559}x^3+585 #cos 660_99439.jpg\n"
     ]
    },
    {
     "name": "stderr",
     "output_type": "stream",
     "text": [
      "Lossy conversion from float64 to uint8. Range [-0.5744253544232736, 1.0]. Convert image to uint8 prior to saving to suppress this warning.\n"
     ]
    },
    {
     "name": "stdout",
     "output_type": "stream",
     "text": [
      "Finished:  453\n",
      "Filename:  #frac{861}{275}x^2+975 #sin1892_58674.jpg\n"
     ]
    },
    {
     "name": "stderr",
     "output_type": "stream",
     "text": [
      "Lossy conversion from float64 to uint8. Range [-0.6469371427720915, 1.0]. Convert image to uint8 prior to saving to suppress this warning.\n"
     ]
    },
    {
     "name": "stdout",
     "output_type": "stream",
     "text": [
      "Finished:  454\n",
      "Filename:  #frac{464}{700}x^2+891 #tan 1383_99656.jpg\n"
     ]
    },
    {
     "name": "stderr",
     "output_type": "stream",
     "text": [
      "Lossy conversion from float64 to uint8. Range [-0.7012195121951059, 1.0]. Convert image to uint8 prior to saving to suppress this warning.\n"
     ]
    },
    {
     "name": "stdout",
     "output_type": "stream",
     "text": [
      "Finished:  455\n",
      "Filename:  #frac{437}{284}x^2+422 #tan 860_75811.jpg\n"
     ]
    },
    {
     "name": "stderr",
     "output_type": "stream",
     "text": [
      "Lossy conversion from float64 to uint8. Range [-0.7570820433436624, 1.0]. Convert image to uint8 prior to saving to suppress this warning.\n"
     ]
    },
    {
     "name": "stdout",
     "output_type": "stream",
     "text": [
      "Finished:  456\n",
      "Filename:  #frac{414}{708}x^3+862 #sin1349_71033.jpg\n"
     ]
    },
    {
     "name": "stderr",
     "output_type": "stream",
     "text": [
      "Lossy conversion from float64 to uint8. Range [-0.6157323336365126, 1.0]. Convert image to uint8 prior to saving to suppress this warning.\n"
     ]
    },
    {
     "name": "stdout",
     "output_type": "stream",
     "text": [
      "Finished:  457\n",
      "Filename:  #frac{978}{945}x^3-344 #cos 551_70670.jpg\n"
     ]
    },
    {
     "name": "stderr",
     "output_type": "stream",
     "text": [
      "Lossy conversion from float64 to uint8. Range [-0.7516387415079309, 1.0]. Convert image to uint8 prior to saving to suppress this warning.\n"
     ]
    },
    {
     "name": "stdout",
     "output_type": "stream",
     "text": [
      "Finished:  458\n",
      "Filename:  #frac{728}{178}x^4-611 #tan 130_23421.jpg\n"
     ]
    },
    {
     "name": "stderr",
     "output_type": "stream",
     "text": [
      "Lossy conversion from float64 to uint8. Range [-0.7499999999999964, 1.0]. Convert image to uint8 prior to saving to suppress this warning.\n"
     ]
    },
    {
     "name": "stdout",
     "output_type": "stream",
     "text": [
      "Finished:  459\n",
      "Filename:  #frac{276}{775}x^2-738 #tan -382_43793.jpg\n"
     ]
    },
    {
     "name": "stderr",
     "output_type": "stream",
     "text": [
      "Lossy conversion from float64 to uint8. Range [-0.9265109890110138, 1.0]. Convert image to uint8 prior to saving to suppress this warning.\n"
     ]
    },
    {
     "name": "stdout",
     "output_type": "stream",
     "text": [
      "Finished:  460\n",
      "Filename:  #frac{742}{844}x^4-114 #tan 667_40547.jpg\n"
     ]
    },
    {
     "name": "stderr",
     "output_type": "stream",
     "text": [
      "Lossy conversion from float64 to uint8. Range [-0.6566397365477425, 1.0]. Convert image to uint8 prior to saving to suppress this warning.\n"
     ]
    },
    {
     "name": "stdout",
     "output_type": "stream",
     "text": [
      "Finished:  461\n",
      "Filename:  #frac{939}{595}x^4-133 #sin813_96309.jpg\n"
     ]
    },
    {
     "name": "stderr",
     "output_type": "stream",
     "text": [
      "Lossy conversion from float64 to uint8. Range [-0.6115509111253348, 1.0]. Convert image to uint8 prior to saving to suppress this warning.\n"
     ]
    },
    {
     "name": "stdout",
     "output_type": "stream",
     "text": [
      "Finished:  462\n",
      "Filename:  #frac{610}{958}x^2-814 #cos -250_87857.jpg\n"
     ]
    },
    {
     "name": "stderr",
     "output_type": "stream",
     "text": [
      "Lossy conversion from float64 to uint8. Range [-0.8387096774193487, 1.0]. Convert image to uint8 prior to saving to suppress this warning.\n"
     ]
    },
    {
     "name": "stdout",
     "output_type": "stream",
     "text": [
      "Finished:  463\n",
      "Filename:  #frac{244}{951}x^3+825 #cos 1006_87524.jpg\n"
     ]
    },
    {
     "name": "stderr",
     "output_type": "stream",
     "text": [
      "Lossy conversion from float64 to uint8. Range [-0.7499999999999821, 1.0]. Convert image to uint8 prior to saving to suppress this warning.\n"
     ]
    },
    {
     "name": "stdout",
     "output_type": "stream",
     "text": [
      "Finished:  464\n",
      "Filename:  #frac{98}{800}x^2+94 #cos 112_82294.jpg\n"
     ]
    },
    {
     "name": "stderr",
     "output_type": "stream",
     "text": [
      "Lossy conversion from float64 to uint8. Range [-0.9358021668604978, 1.0]. Convert image to uint8 prior to saving to suppress this warning.\n"
     ]
    },
    {
     "name": "stdout",
     "output_type": "stream",
     "text": [
      "Finished:  465\n",
      "Filename:  #frac{995}{624}x^3+607 #sin1647_43332.jpg\n"
     ]
    },
    {
     "name": "stderr",
     "output_type": "stream",
     "text": [
      "Lossy conversion from float64 to uint8. Range [-0.5774456521739016, 1.0]. Convert image to uint8 prior to saving to suppress this warning.\n"
     ]
    },
    {
     "name": "stdout",
     "output_type": "stream",
     "text": [
      "Finished:  466\n",
      "Filename:  #frac{261}{519}x^4-396 #sin-119_78870.jpg\n"
     ]
    },
    {
     "name": "stderr",
     "output_type": "stream",
     "text": [
      "Lossy conversion from float64 to uint8. Range [-0.7613423028786087, 1.0]. Convert image to uint8 prior to saving to suppress this warning.\n"
     ]
    },
    {
     "name": "stdout",
     "output_type": "stream",
     "text": [
      "Finished:  467\n",
      "Filename:  #frac{967}{100}x^4+524 #cos 1466_87471.jpg\n"
     ]
    },
    {
     "name": "stderr",
     "output_type": "stream",
     "text": [
      "Lossy conversion from float64 to uint8. Range [-0.6865969991122577, 1.0]. Convert image to uint8 prior to saving to suppress this warning.\n"
     ]
    },
    {
     "name": "stdout",
     "output_type": "stream",
     "text": [
      "Finished:  468\n",
      "Filename:  #frac{353}{377}x^4+171 #tan 584_21833.jpg\n"
     ]
    },
    {
     "name": "stderr",
     "output_type": "stream",
     "text": [
      "Lossy conversion from float64 to uint8. Range [-0.5845277328690555, 1.0]. Convert image to uint8 prior to saving to suppress this warning.\n"
     ]
    },
    {
     "name": "stdout",
     "output_type": "stream",
     "text": [
      "Finished:  469\n",
      "Filename:  #frac{842}{197}x^2-132 #sin721_68873.jpg\n"
     ]
    },
    {
     "name": "stderr",
     "output_type": "stream",
     "text": [
      "Lossy conversion from float64 to uint8. Range [-0.6220794823657659, 1.0]. Convert image to uint8 prior to saving to suppress this warning.\n"
     ]
    },
    {
     "name": "stdout",
     "output_type": "stream",
     "text": [
      "Finished:  470\n",
      "Filename:  #frac{552}{301}x^4-157 #sin442_60400.jpg\n"
     ]
    },
    {
     "name": "stderr",
     "output_type": "stream",
     "text": [
      "Lossy conversion from float64 to uint8. Range [-0.8283847630151281, 1.0]. Convert image to uint8 prior to saving to suppress this warning.\n"
     ]
    },
    {
     "name": "stdout",
     "output_type": "stream",
     "text": [
      "Finished:  471\n",
      "Filename:  #frac{34}{820}x^3+907 #cos 928_17240.jpg\n"
     ]
    },
    {
     "name": "stderr",
     "output_type": "stream",
     "text": [
      "Lossy conversion from float64 to uint8. Range [-0.698190045248876, 1.0]. Convert image to uint8 prior to saving to suppress this warning.\n"
     ]
    },
    {
     "name": "stdout",
     "output_type": "stream",
     "text": [
      "Finished:  472\n",
      "Filename:  #frac{554}{743}x^4-882 #cos -420_39752.jpg\n"
     ]
    },
    {
     "name": "stderr",
     "output_type": "stream",
     "text": [
      "Lossy conversion from float64 to uint8. Range [-0.8525074127743362, 1.0]. Convert image to uint8 prior to saving to suppress this warning.\n"
     ]
    },
    {
     "name": "stdout",
     "output_type": "stream",
     "text": [
      "Finished:  473\n",
      "Filename:  #frac{564}{885}x^3-613 #tan -45_18958.jpg\n"
     ]
    },
    {
     "name": "stderr",
     "output_type": "stream",
     "text": [
      "Lossy conversion from float64 to uint8. Range [-0.6841363468464315, 1.0]. Convert image to uint8 prior to saving to suppress this warning.\n"
     ]
    },
    {
     "name": "stdout",
     "output_type": "stream",
     "text": [
      "Finished:  474\n",
      "Filename:  #frac{802}{80}x^3+224 #cos 996_97931.jpg\n"
     ]
    },
    {
     "name": "stderr",
     "output_type": "stream",
     "text": [
      "Lossy conversion from float64 to uint8. Range [-0.950148359376491, 1.0]. Convert image to uint8 prior to saving to suppress this warning.\n"
     ]
    },
    {
     "name": "stdout",
     "output_type": "stream",
     "text": [
      "Finished:  475\n",
      "Filename:  #frac{759}{545}x^2-510 #tan 256_11294.jpg\n"
     ]
    },
    {
     "name": "stderr",
     "output_type": "stream",
     "text": [
      "Lossy conversion from float64 to uint8. Range [-0.6067921440262012, 1.0]. Convert image to uint8 prior to saving to suppress this warning.\n"
     ]
    },
    {
     "name": "stdout",
     "output_type": "stream",
     "text": [
      "Finished:  476\n",
      "Filename:  #frac{755}{154}x^2+571 #sin1330_99108.jpg\n"
     ]
    },
    {
     "name": "stderr",
     "output_type": "stream",
     "text": [
      "Lossy conversion from float64 to uint8. Range [-0.9700269490244565, 1.0]. Convert image to uint8 prior to saving to suppress this warning.\n"
     ]
    },
    {
     "name": "stdout",
     "output_type": "stream",
     "text": [
      "Finished:  477\n",
      "Filename:  #frac{578}{364}x^3-187 #sin428_4887.jpg\n"
     ]
    },
    {
     "name": "stderr",
     "output_type": "stream",
     "text": [
      "Lossy conversion from float64 to uint8. Range [-0.7615137783639477, 1.0]. Convert image to uint8 prior to saving to suppress this warning.\n"
     ]
    },
    {
     "name": "stdout",
     "output_type": "stream",
     "text": [
      "Finished:  478\n",
      "Filename:  #frac{182}{419}x^4+525 #sin720_81238.jpg\n"
     ]
    },
    {
     "name": "stderr",
     "output_type": "stream",
     "text": [
      "Lossy conversion from float64 to uint8. Range [-0.6672968833640595, 1.0]. Convert image to uint8 prior to saving to suppress this warning.\n"
     ]
    },
    {
     "name": "stdout",
     "output_type": "stream",
     "text": [
      "Finished:  479\n",
      "Filename:  #frac{49}{962}x^4-976 #cos -1022_1185.jpg\n"
     ]
    },
    {
     "name": "stderr",
     "output_type": "stream",
     "text": [
      "Lossy conversion from float64 to uint8. Range [-0.8882978723404164, 1.0]. Convert image to uint8 prior to saving to suppress this warning.\n"
     ]
    },
    {
     "name": "stdout",
     "output_type": "stream",
     "text": [
      "Finished:  480\n",
      "Filename:  #frac{674}{655}x^4+355 #cos 1001_42211.jpg\n"
     ]
    },
    {
     "name": "stderr",
     "output_type": "stream",
     "text": [
      "Lossy conversion from float64 to uint8. Range [-0.8987986052397274, 1.0]. Convert image to uint8 prior to saving to suppress this warning.\n"
     ]
    },
    {
     "name": "stdout",
     "output_type": "stream",
     "text": [
      "Finished:  481\n",
      "Filename:  #frac{415}{538}x^2+597 #tan 1028_85861.jpg\n"
     ]
    },
    {
     "name": "stderr",
     "output_type": "stream",
     "text": [
      "Lossy conversion from float64 to uint8. Range [-0.6698107086611055, 1.0]. Convert image to uint8 prior to saving to suppress this warning.\n"
     ]
    },
    {
     "name": "stdout",
     "output_type": "stream",
     "text": [
      "Finished:  482\n",
      "Filename:  #frac{155}{41}x^3-586 #sin-421_61147.jpg\n"
     ]
    },
    {
     "name": "stderr",
     "output_type": "stream",
     "text": [
      "Lossy conversion from float64 to uint8. Range [-0.9986231852080559, 1.0]. Convert image to uint8 prior to saving to suppress this warning.\n"
     ]
    },
    {
     "name": "stdout",
     "output_type": "stream",
     "text": [
      "Finished:  483\n",
      "Filename:  #frac{68}{803}x^2+839 #sin915_2662.jpg\n"
     ]
    },
    {
     "name": "stderr",
     "output_type": "stream",
     "text": [
      "Lossy conversion from float64 to uint8. Range [-0.9776473526473453, 1.0]. Convert image to uint8 prior to saving to suppress this warning.\n"
     ]
    },
    {
     "name": "stdout",
     "output_type": "stream",
     "text": [
      "Finished:  484\n",
      "Filename:  #frac{157}{427}x^3+630 #cos 719_9215.jpg\n"
     ]
    },
    {
     "name": "stderr",
     "output_type": "stream",
     "text": [
      "Lossy conversion from float64 to uint8. Range [-0.7390109890109837, 1.0]. Convert image to uint8 prior to saving to suppress this warning.\n"
     ]
    },
    {
     "name": "stdout",
     "output_type": "stream",
     "text": [
      "Finished:  485\n",
      "Filename:  #frac{983}{686}x^3-694 #sin303_32078.jpg\n"
     ]
    },
    {
     "name": "stderr",
     "output_type": "stream",
     "text": [
      "Lossy conversion from float64 to uint8. Range [-0.6650938469911611, 1.0]. Convert image to uint8 prior to saving to suppress this warning.\n"
     ]
    },
    {
     "name": "stdout",
     "output_type": "stream",
     "text": [
      "Finished:  486\n",
      "Filename:  #frac{842}{345}x^4-282 #sin579_57914.jpg\n"
     ]
    },
    {
     "name": "stderr",
     "output_type": "stream",
     "text": [
      "Lossy conversion from float64 to uint8. Range [-0.9936576685468708, 1.0]. Convert image to uint8 prior to saving to suppress this warning.\n"
     ]
    },
    {
     "name": "stdout",
     "output_type": "stream",
     "text": [
      "Finished:  487\n",
      "Filename:  #frac{778}{203}x^4+453 #tan 1258_7997.jpg\n"
     ]
    },
    {
     "name": "stderr",
     "output_type": "stream",
     "text": [
      "Lossy conversion from float64 to uint8. Range [-0.7499999999999821, 1.0]. Convert image to uint8 prior to saving to suppress this warning.\n"
     ]
    },
    {
     "name": "stdout",
     "output_type": "stream",
     "text": [
      "Finished:  488\n",
      "Filename:  #frac{506}{928}x^4-260 #tan 268_99555.jpg\n"
     ]
    },
    {
     "name": "stderr",
     "output_type": "stream",
     "text": [
      "Lossy conversion from float64 to uint8. Range [-0.8720984875154152, 1.0]. Convert image to uint8 prior to saving to suppress this warning.\n"
     ]
    },
    {
     "name": "stdout",
     "output_type": "stream",
     "text": [
      "Finished:  489\n",
      "Filename:  #frac{545}{898}x^3-940 #cos -486_35235.jpg\n"
     ]
    },
    {
     "name": "stderr",
     "output_type": "stream",
     "text": [
      "Lossy conversion from float64 to uint8. Range [-0.6208671113513246, 1.0]. Convert image to uint8 prior to saving to suppress this warning.\n"
     ]
    },
    {
     "name": "stdout",
     "output_type": "stream",
     "text": [
      "Finished:  490\n",
      "Filename:  #frac{886}{752}x^3-252 #tan 704_32088.jpg\n"
     ]
    },
    {
     "name": "stderr",
     "output_type": "stream",
     "text": [
      "Lossy conversion from float64 to uint8. Range [-0.7352817960641277, 1.0]. Convert image to uint8 prior to saving to suppress this warning.\n"
     ]
    },
    {
     "name": "stdout",
     "output_type": "stream",
     "text": [
      "Finished:  491\n",
      "Filename:  #frac{411}{857}x^2-542 #sin-131_2894.jpg\n"
     ]
    },
    {
     "name": "stderr",
     "output_type": "stream",
     "text": [
      "Lossy conversion from float64 to uint8. Range [-0.7357467867529802, 1.0]. Convert image to uint8 prior to saving to suppress this warning.\n"
     ]
    },
    {
     "name": "stdout",
     "output_type": "stream",
     "text": [
      "Finished:  492\n",
      "Filename:  #frac{450}{884}x^3-792 #sin-300_18871.jpg\n"
     ]
    },
    {
     "name": "stderr",
     "output_type": "stream",
     "text": [
      "Lossy conversion from float64 to uint8. Range [-0.784510671947228, 1.0]. Convert image to uint8 prior to saving to suppress this warning.\n"
     ]
    },
    {
     "name": "stdout",
     "output_type": "stream",
     "text": [
      "Finished:  493\n",
      "Filename:  #frac{272}{407}x^2+545 #sin903_38276.jpg\n"
     ]
    },
    {
     "name": "stderr",
     "output_type": "stream",
     "text": [
      "Lossy conversion from float64 to uint8. Range [-0.9624041103260188, 1.0]. Convert image to uint8 prior to saving to suppress this warning.\n"
     ]
    },
    {
     "name": "stdout",
     "output_type": "stream",
     "text": [
      "Finished:  494\n",
      "Filename:  #frac{853}{671}x^3-726 #cos 47_84514.jpg\n"
     ]
    },
    {
     "name": "stderr",
     "output_type": "stream",
     "text": [
      "Lossy conversion from float64 to uint8. Range [-0.7580992923485276, 1.0]. Convert image to uint8 prior to saving to suppress this warning.\n"
     ]
    },
    {
     "name": "stdout",
     "output_type": "stream",
     "text": [
      "Finished:  495\n",
      "Filename:  #frac{422}{503}x^3+692 #tan 1142_67282.jpg\n"
     ]
    },
    {
     "name": "stderr",
     "output_type": "stream",
     "text": [
      "Lossy conversion from float64 to uint8. Range [-0.7159090909091014, 1.0]. Convert image to uint8 prior to saving to suppress this warning.\n"
     ]
    },
    {
     "name": "stdout",
     "output_type": "stream",
     "text": [
      "Finished:  496\n",
      "Filename:  #frac{444}{659}x^3+884 #tan 1366_34730.jpg\n"
     ]
    },
    {
     "name": "stderr",
     "output_type": "stream",
     "text": [
      "Lossy conversion from float64 to uint8. Range [-0.7488927481373752, 1.0]. Convert image to uint8 prior to saving to suppress this warning.\n"
     ]
    },
    {
     "name": "stdout",
     "output_type": "stream",
     "text": [
      "Finished:  497\n",
      "Filename:  #frac{263}{937}x^4+261 #sin619_33496.jpg\n"
     ]
    },
    {
     "name": "stderr",
     "output_type": "stream",
     "text": [
      "Lossy conversion from float64 to uint8. Range [-0.7488648090815202, 1.0]. Convert image to uint8 prior to saving to suppress this warning.\n"
     ]
    },
    {
     "name": "stdout",
     "output_type": "stream",
     "text": [
      "Finished:  498\n",
      "Filename:  #frac{644}{378}x^3-383 #cos 234_12020.jpg\n"
     ]
    },
    {
     "name": "stderr",
     "output_type": "stream",
     "text": [
      "Lossy conversion from float64 to uint8. Range [-0.9410996024317063, 1.0]. Convert image to uint8 prior to saving to suppress this warning.\n"
     ]
    },
    {
     "name": "stdout",
     "output_type": "stream",
     "text": [
      "Finished:  499\n",
      "Filename:  #frac{795}{163}x^4+881 #sin1751_43935.jpg\n"
     ]
    },
    {
     "name": "stderr",
     "output_type": "stream",
     "text": [
      "Lossy conversion from float64 to uint8. Range [-0.7529050456955759, 1.0]. Convert image to uint8 prior to saving to suppress this warning.\n"
     ]
    },
    {
     "name": "stdout",
     "output_type": "stream",
     "text": [
      "Finished:  500\n",
      "Filename:  #frac{64}{67}x^3-787 #cos -821_25395.jpg\n"
     ]
    },
    {
     "name": "stderr",
     "output_type": "stream",
     "text": [
      "Lossy conversion from float64 to uint8. Range [-0.8619401688143126, 1.0]. Convert image to uint8 prior to saving to suppress this warning.\n"
     ]
    },
    {
     "name": "stdout",
     "output_type": "stream",
     "text": [
      "Finished:  501\n",
      "Filename:  #frac{692}{917}x^4+976 #cos 1652_60070.jpg\n"
     ]
    },
    {
     "name": "stderr",
     "output_type": "stream",
     "text": [
      "Lossy conversion from float64 to uint8. Range [-0.8388754692160325, 1.0]. Convert image to uint8 prior to saving to suppress this warning.\n"
     ]
    },
    {
     "name": "stdout",
     "output_type": "stream",
     "text": [
      "Finished:  502\n",
      "Filename:  #frac{769}{161}x^2-499 #tan 369_3422.jpg\n"
     ]
    },
    {
     "name": "stderr",
     "output_type": "stream",
     "text": [
      "Lossy conversion from float64 to uint8. Range [-0.8951061865189295, 1.0]. Convert image to uint8 prior to saving to suppress this warning.\n"
     ]
    },
    {
     "name": "stdout",
     "output_type": "stream",
     "text": [
      "Finished:  503\n",
      "Filename:  #frac{410}{518}x^3-430 #sin24_47445.jpg\n"
     ]
    },
    {
     "name": "stderr",
     "output_type": "stream",
     "text": [
      "Lossy conversion from float64 to uint8. Range [-0.7982527978814159, 1.0]. Convert image to uint8 prior to saving to suppress this warning.\n"
     ]
    },
    {
     "name": "stdout",
     "output_type": "stream",
     "text": [
      "Finished:  504\n",
      "Filename:  #frac{808}{424}x^2-339 #tan 541_30016.jpg\n"
     ]
    },
    {
     "name": "stderr",
     "output_type": "stream",
     "text": [
      "Lossy conversion from float64 to uint8. Range [-0.7493181014311435, 1.0]. Convert image to uint8 prior to saving to suppress this warning.\n"
     ]
    },
    {
     "name": "stdout",
     "output_type": "stream",
     "text": [
      "Finished:  505\n",
      "Filename:  #frac{265}{836}x^3+141 #sin483_85565.jpg\n"
     ]
    },
    {
     "name": "stderr",
     "output_type": "stream",
     "text": [
      "Lossy conversion from float64 to uint8. Range [-0.6671395942369622, 1.0]. Convert image to uint8 prior to saving to suppress this warning.\n"
     ]
    },
    {
     "name": "stdout",
     "output_type": "stream",
     "text": [
      "Finished:  506\n",
      "Filename:  #frac{99}{588}x^2-990 #cos -990_6529.jpg\n"
     ]
    },
    {
     "name": "stderr",
     "output_type": "stream",
     "text": [
      "Lossy conversion from float64 to uint8. Range [-0.9008739680082624, 1.0]. Convert image to uint8 prior to saving to suppress this warning.\n"
     ]
    },
    {
     "name": "stdout",
     "output_type": "stream",
     "text": [
      "Finished:  507\n",
      "Filename:  #frac{82}{431}x^4+863 #cos 924_43845.jpg\n"
     ]
    },
    {
     "name": "stderr",
     "output_type": "stream",
     "text": [
      "Lossy conversion from float64 to uint8. Range [-0.8031914893617015, 1.0]. Convert image to uint8 prior to saving to suppress this warning.\n"
     ]
    },
    {
     "name": "stdout",
     "output_type": "stream",
     "text": [
      "Finished:  508\n",
      "Filename:  #frac{177}{698}x^2-808 #sin-564_52590.jpg\n"
     ]
    },
    {
     "name": "stderr",
     "output_type": "stream",
     "text": [
      "Lossy conversion from float64 to uint8. Range [-0.7827632322661408, 1.0]. Convert image to uint8 prior to saving to suppress this warning.\n"
     ]
    },
    {
     "name": "stdout",
     "output_type": "stream",
     "text": [
      "Finished:  509\n",
      "Filename:  #frac{380}{50}x^2+186 #sin607_34969.jpg\n"
     ]
    },
    {
     "name": "stderr",
     "output_type": "stream",
     "text": [
      "Lossy conversion from float64 to uint8. Range [-0.9464396284829528, 1.0]. Convert image to uint8 prior to saving to suppress this warning.\n"
     ]
    },
    {
     "name": "stdout",
     "output_type": "stream",
     "text": [
      "Finished:  510\n",
      "Filename:  #frac{41}{489}x^2+34 #sin119_71262.jpg\n"
     ]
    },
    {
     "name": "stderr",
     "output_type": "stream",
     "text": [
      "Lossy conversion from float64 to uint8. Range [-0.869231557538577, 1.0]. Convert image to uint8 prior to saving to suppress this warning.\n"
     ]
    },
    {
     "name": "stdout",
     "output_type": "stream",
     "text": [
      "Finished:  511\n",
      "Filename:  #frac{750}{488}x^2+184 #sin1013_44604.jpg\n"
     ]
    },
    {
     "name": "stderr",
     "output_type": "stream",
     "text": [
      "Lossy conversion from float64 to uint8. Range [-0.7530819182018171, 1.0]. Convert image to uint8 prior to saving to suppress this warning.\n"
     ]
    },
    {
     "name": "stdout",
     "output_type": "stream",
     "text": [
      "Finished:  512\n",
      "Filename:  #frac{721}{841}x^3+279 #sin1084_12556.jpg\n"
     ]
    },
    {
     "name": "stderr",
     "output_type": "stream",
     "text": [
      "Lossy conversion from float64 to uint8. Range [-0.9999999999999964, 1.0]. Convert image to uint8 prior to saving to suppress this warning.\n"
     ]
    },
    {
     "name": "stdout",
     "output_type": "stream",
     "text": [
      "Finished:  513\n",
      "Filename:  #frac{194}{528}x^3+834 #cos 955_50383.jpg\n"
     ]
    },
    {
     "name": "stderr",
     "output_type": "stream",
     "text": [
      "Lossy conversion from float64 to uint8. Range [-0.8457446808510634, 1.0]. Convert image to uint8 prior to saving to suppress this warning.\n"
     ]
    },
    {
     "name": "stdout",
     "output_type": "stream",
     "text": [
      "Finished:  514\n",
      "Filename:  #frac{525}{516}x^4-615 #tan 1_54761.jpg\n"
     ]
    },
    {
     "name": "stderr",
     "output_type": "stream",
     "text": [
      "Lossy conversion from float64 to uint8. Range [-0.7036794112941965, 1.0]. Convert image to uint8 prior to saving to suppress this warning.\n"
     ]
    },
    {
     "name": "stdout",
     "output_type": "stream",
     "text": [
      "Finished:  515\n",
      "Filename:  #frac{424}{888}x^4-869 #sin-445_50783.jpg\n"
     ]
    },
    {
     "name": "stderr",
     "output_type": "stream",
     "text": [
      "Lossy conversion from float64 to uint8. Range [-0.9161256678374867, 1.0]. Convert image to uint8 prior to saving to suppress this warning.\n"
     ]
    },
    {
     "name": "stdout",
     "output_type": "stream",
     "text": [
      "Finished:  516\n",
      "Filename:  #frac{209}{374}x^4+603 #tan 826_93486.jpg\n"
     ]
    },
    {
     "name": "stderr",
     "output_type": "stream",
     "text": [
      "Lossy conversion from float64 to uint8. Range [-0.28598844229773424, 1.0]. Convert image to uint8 prior to saving to suppress this warning.\n"
     ]
    },
    {
     "name": "stdout",
     "output_type": "stream",
     "text": [
      "Finished:  517\n",
      "Filename:  #frac{658}{575}x^3-566 #cos 92_95043.jpg\n"
     ]
    },
    {
     "name": "stderr",
     "output_type": "stream",
     "text": [
      "Lossy conversion from float64 to uint8. Range [-0.7969641930461863, 1.0]. Convert image to uint8 prior to saving to suppress this warning.\n"
     ]
    },
    {
     "name": "stdout",
     "output_type": "stream",
     "text": [
      "Finished:  518\n",
      "Filename:  #frac{289}{642}x^3+37 #sin360_66169.jpg\n"
     ]
    },
    {
     "name": "stderr",
     "output_type": "stream",
     "text": [
      "Lossy conversion from float64 to uint8. Range [-0.5571283974726114, 1.0]. Convert image to uint8 prior to saving to suppress this warning.\n"
     ]
    },
    {
     "name": "stdout",
     "output_type": "stream",
     "text": [
      "Finished:  519\n",
      "Filename:  #frac{522}{272}x^2-244 #cos 228_43529.jpg\n"
     ]
    },
    {
     "name": "stderr",
     "output_type": "stream",
     "text": [
      "Lossy conversion from float64 to uint8. Range [-0.7731018981019062, 1.0]. Convert image to uint8 prior to saving to suppress this warning.\n"
     ]
    },
    {
     "name": "stdout",
     "output_type": "stream",
     "text": [
      "Finished:  520\n",
      "Filename:  #frac{531}{609}x^3-29 #tan 574_21336.jpg\n"
     ]
    },
    {
     "name": "stderr",
     "output_type": "stream",
     "text": [
      "Lossy conversion from float64 to uint8. Range [-0.8411932027124561, 1.0]. Convert image to uint8 prior to saving to suppress this warning.\n"
     ]
    },
    {
     "name": "stdout",
     "output_type": "stream",
     "text": [
      "Finished:  521\n",
      "Filename:  #frac{696}{778}x^4+388 #cos 1031_56578.jpg\n"
     ]
    },
    {
     "name": "stderr",
     "output_type": "stream",
     "text": [
      "Lossy conversion from float64 to uint8. Range [-0.9006562302340301, 1.0]. Convert image to uint8 prior to saving to suppress this warning.\n"
     ]
    },
    {
     "name": "stdout",
     "output_type": "stream",
     "text": [
      "Finished:  522\n",
      "Filename:  #frac{327}{851}x^3+602 #tan 1010_51723.jpg\n"
     ]
    },
    {
     "name": "stderr",
     "output_type": "stream",
     "text": [
      "Lossy conversion from float64 to uint8. Range [-0.6837058977800503, 1.0]. Convert image to uint8 prior to saving to suppress this warning.\n"
     ]
    },
    {
     "name": "stdout",
     "output_type": "stream",
     "text": [
      "Finished:  523\n",
      "Filename:  #frac{515}{169}x^4-301 #tan 230_37212.jpg\n"
     ]
    },
    {
     "name": "stderr",
     "output_type": "stream",
     "text": [
      "Lossy conversion from float64 to uint8. Range [-0.6488324422939575, 1.0]. Convert image to uint8 prior to saving to suppress this warning.\n"
     ]
    },
    {
     "name": "stdout",
     "output_type": "stream",
     "text": [
      "Finished:  524\n",
      "Filename:  #frac{71}{917}x^3+816 #tan 986_41.jpg\n"
     ]
    },
    {
     "name": "stderr",
     "output_type": "stream",
     "text": [
      "Lossy conversion from float64 to uint8. Range [-0.701801283365123, 1.0]. Convert image to uint8 prior to saving to suppress this warning.\n"
     ]
    },
    {
     "name": "stdout",
     "output_type": "stream",
     "text": [
      "Finished:  525\n",
      "Filename:  #frac{194}{405}x^4-681 #tan -428_12999.jpg\n"
     ]
    },
    {
     "name": "stderr",
     "output_type": "stream",
     "text": [
      "Lossy conversion from float64 to uint8. Range [-0.9648939295997979, 1.0]. Convert image to uint8 prior to saving to suppress this warning.\n"
     ]
    },
    {
     "name": "stdout",
     "output_type": "stream",
     "text": [
      "Finished:  526\n",
      "Filename:  #frac{692}{407}x^3-629 #tan 116_50566.jpg\n"
     ]
    },
    {
     "name": "stderr",
     "output_type": "stream",
     "text": [
      "Lossy conversion from float64 to uint8. Range [-0.34767822890026456, 1.0]. Convert image to uint8 prior to saving to suppress this warning.\n"
     ]
    },
    {
     "name": "stdout",
     "output_type": "stream",
     "text": [
      "Finished:  527\n",
      "Filename:  #frac{747}{502}x^4-496 #tan 337_5894.jpg\n"
     ]
    },
    {
     "name": "stderr",
     "output_type": "stream",
     "text": [
      "Lossy conversion from float64 to uint8. Range [-0.6769657974305358, 1.0]. Convert image to uint8 prior to saving to suppress this warning.\n"
     ]
    },
    {
     "name": "stdout",
     "output_type": "stream",
     "text": [
      "Finished:  528\n",
      "Filename:  #frac{801}{269}x^3+152 #sin987_87360.jpg\n"
     ]
    },
    {
     "name": "stderr",
     "output_type": "stream",
     "text": [
      "Lossy conversion from float64 to uint8. Range [-0.9757186470510318, 1.0]. Convert image to uint8 prior to saving to suppress this warning.\n"
     ]
    },
    {
     "name": "stdout",
     "output_type": "stream",
     "text": [
      "Finished:  529\n",
      "Filename:  #frac{810}{378}x^4+981 #cos 1733_35391.jpg\n"
     ]
    },
    {
     "name": "stderr",
     "output_type": "stream",
     "text": [
      "Lossy conversion from float64 to uint8. Range [-0.8015109890109846, 1.0]. Convert image to uint8 prior to saving to suppress this warning.\n"
     ]
    },
    {
     "name": "stdout",
     "output_type": "stream",
     "text": [
      "Finished:  530\n",
      "Filename:  #frac{907}{780}x^2+731 #cos 1618_62581.jpg\n"
     ]
    },
    {
     "name": "stderr",
     "output_type": "stream",
     "text": [
      "Lossy conversion from float64 to uint8. Range [-0.9652050160877578, 1.0]. Convert image to uint8 prior to saving to suppress this warning.\n"
     ]
    },
    {
     "name": "stdout",
     "output_type": "stream",
     "text": [
      "Finished:  531\n",
      "Filename:  #frac{107}{569}x^4-783 #sin-630_78717.jpg\n"
     ]
    },
    {
     "name": "stderr",
     "output_type": "stream",
     "text": [
      "Lossy conversion from float64 to uint8. Range [-0.8215145900243681, 1.0]. Convert image to uint8 prior to saving to suppress this warning.\n"
     ]
    },
    {
     "name": "stdout",
     "output_type": "stream",
     "text": [
      "Finished:  532\n",
      "Filename:  #frac{467}{450}x^3+407 #cos 843_91521.jpg\n"
     ]
    },
    {
     "name": "stderr",
     "output_type": "stream",
     "text": [
      "Lossy conversion from float64 to uint8. Range [-0.35772387902529484, 1.0]. Convert image to uint8 prior to saving to suppress this warning.\n"
     ]
    },
    {
     "name": "stdout",
     "output_type": "stream",
     "text": [
      "Finished:  533\n",
      "Filename:  #frac{745}{939}x^4+90 #tan 926_90408.jpg\n"
     ]
    },
    {
     "name": "stderr",
     "output_type": "stream",
     "text": [
      "Lossy conversion from float64 to uint8. Range [-0.944195946191196, 1.0]. Convert image to uint8 prior to saving to suppress this warning.\n"
     ]
    },
    {
     "name": "stdout",
     "output_type": "stream",
     "text": [
      "Finished:  534\n",
      "Filename:  #frac{424}{466}x^2+846 #sin1314_84813.jpg\n"
     ]
    },
    {
     "name": "stderr",
     "output_type": "stream",
     "text": [
      "Lossy conversion from float64 to uint8. Range [-0.9311472009464675, 1.0]. Convert image to uint8 prior to saving to suppress this warning.\n"
     ]
    },
    {
     "name": "stdout",
     "output_type": "stream",
     "text": [
      "Finished:  535\n",
      "Filename:  #frac{768}{157}x^2+190 #sin960_48399.jpg\n"
     ]
    },
    {
     "name": "stderr",
     "output_type": "stream",
     "text": [
      "Lossy conversion from float64 to uint8. Range [-0.9992367416765328, 1.0]. Convert image to uint8 prior to saving to suppress this warning.\n"
     ]
    },
    {
     "name": "stdout",
     "output_type": "stream",
     "text": [
      "Finished:  536\n",
      "Filename:  #frac{450}{806}x^4-176 #sin372_60459.jpg\n"
     ]
    },
    {
     "name": "stderr",
     "output_type": "stream",
     "text": [
      "Lossy conversion from float64 to uint8. Range [-0.7874629212390183, 1.0]. Convert image to uint8 prior to saving to suppress this warning.\n"
     ]
    },
    {
     "name": "stdout",
     "output_type": "stream",
     "text": [
      "Finished:  537\n",
      "Filename:  #frac{696}{801}x^2-300 #tan 496_28223.jpg\n"
     ]
    },
    {
     "name": "stderr",
     "output_type": "stream",
     "text": [
      "Lossy conversion from float64 to uint8. Range [-0.7514835870092932, 1.0]. Convert image to uint8 prior to saving to suppress this warning.\n"
     ]
    },
    {
     "name": "stdout",
     "output_type": "stream",
     "text": [
      "Finished:  538\n",
      "Filename:  #frac{653}{689}x^2-784 #cos -165_4355.jpg\n"
     ]
    },
    {
     "name": "stderr",
     "output_type": "stream",
     "text": [
      "Lossy conversion from float64 to uint8. Range [-0.966084558823525, 1.0]. Convert image to uint8 prior to saving to suppress this warning.\n"
     ]
    },
    {
     "name": "stdout",
     "output_type": "stream",
     "text": [
      "Finished:  539\n",
      "Filename:  #frac{644}{236}x^4-242 #cos 366_52918.jpg\n"
     ]
    },
    {
     "name": "stderr",
     "output_type": "stream",
     "text": [
      "Lossy conversion from float64 to uint8. Range [-0.38180907619007215, 1.0]. Convert image to uint8 prior to saving to suppress this warning.\n"
     ]
    },
    {
     "name": "stdout",
     "output_type": "stream",
     "text": [
      "Finished:  540\n",
      "Filename:  #frac{444}{372}x^2-299 #cos 79_32068.jpg\n"
     ]
    },
    {
     "name": "stderr",
     "output_type": "stream",
     "text": [
      "Lossy conversion from float64 to uint8. Range [-0.5615188120702753, 1.0]. Convert image to uint8 prior to saving to suppress this warning.\n"
     ]
    },
    {
     "name": "stdout",
     "output_type": "stream",
     "text": [
      "Finished:  541\n",
      "Filename:  #frac{338}{880}x^4+319 #cos 558_12738.jpg\n"
     ]
    },
    {
     "name": "stderr",
     "output_type": "stream",
     "text": [
      "Lossy conversion from float64 to uint8. Range [-0.943699568566396, 1.0]. Convert image to uint8 prior to saving to suppress this warning.\n"
     ]
    },
    {
     "name": "stdout",
     "output_type": "stream",
     "text": [
      "Finished:  542\n",
      "Filename:  #frac{881}{448}x^4+193 #cos 1061_95413.jpg\n"
     ]
    },
    {
     "name": "stderr",
     "output_type": "stream",
     "text": [
      "Lossy conversion from float64 to uint8. Range [-0.9534883720930124, 1.0]. Convert image to uint8 prior to saving to suppress this warning.\n"
     ]
    },
    {
     "name": "stdout",
     "output_type": "stream",
     "text": [
      "Finished:  543\n",
      "Filename:  #frac{209}{268}x^3+355 #sin606_44835.jpg\n"
     ]
    },
    {
     "name": "stderr",
     "output_type": "stream",
     "text": [
      "Lossy conversion from float64 to uint8. Range [-0.9067284807137581, 1.0]. Convert image to uint8 prior to saving to suppress this warning.\n"
     ]
    },
    {
     "name": "stdout",
     "output_type": "stream",
     "text": [
      "Finished:  544\n",
      "Filename:  #frac{189}{111}x^3+149 #sin343_77360.jpg\n"
     ]
    },
    {
     "name": "stderr",
     "output_type": "stream",
     "text": [
      "Lossy conversion from float64 to uint8. Range [-0.454019474358676, 1.0]. Convert image to uint8 prior to saving to suppress this warning.\n"
     ]
    },
    {
     "name": "stdout",
     "output_type": "stream",
     "text": [
      "Finished:  545\n",
      "Filename:  #frac{418}{532}x^3-381 #tan 68_27238.jpg\n"
     ]
    },
    {
     "name": "stderr",
     "output_type": "stream",
     "text": [
      "Lossy conversion from float64 to uint8. Range [-0.9591272378516507, 1.0]. Convert image to uint8 prior to saving to suppress this warning.\n"
     ]
    },
    {
     "name": "stdout",
     "output_type": "stream",
     "text": [
      "Finished:  546\n",
      "Filename:  #frac{506}{246}x^4+23 #cos 501_25244.jpg\n"
     ]
    },
    {
     "name": "stderr",
     "output_type": "stream",
     "text": [
      "Lossy conversion from float64 to uint8. Range [-0.6760254268533656, 1.0]. Convert image to uint8 prior to saving to suppress this warning.\n"
     ]
    }
   ],
   "source": [
    "# fractions\n",
    "list_digits = []\n",
    "for i in range(10):\n",
    "    list_digits.append(listdir(read_path+\"/\"+str(i)))\n",
    "list_plus = listdir(read_path+\"/+\")\n",
    "list_minus = listdir(read_path+\"/-\")\n",
    "#commented 22/05 -p\n",
    "#list_leq = listdir(read_path+\"/leq\")\n",
    "#list_geq = listdir(read_path+\"/geq\")\n",
    "#list_neq = listdir(read_path+\"/neq\")\n",
    "#list_equal = listdir(read_path+\"/=\")\n",
    "list_sin = listdir(read_path+\"/sin\")  #added 22/05 -p\n",
    "list_cos = listdir(read_path+\"/cos\")  #added 22/05 -p\n",
    "list_tan = listdir(read_path+\"/tan\")  #added 22/05 -p\n",
    "\n",
    "#list_alpha = listdir(read_path+\"/alpha\")\n",
    "#list_beta = listdir(read_path+\"/beta\")\n",
    "#list_lambda = listdir(read_path+\"/lambda\")\n",
    "list_x = listdir(read_path+\"/x\")\n",
    "#list_y = listdir(read_path+\"/y\")\n",
    "\n",
    "if train: \n",
    "    for i in range(10):\n",
    "        list_digits[i] = list_digits[i][len(list_digits[i])//4:]\n",
    "    list_int = list_int[len(list_int)//4:]      #added 21/05 -vikram\n",
    "    list_plus = list_plus[len(list_plus)//4:]\n",
    "    list_minus = list_minus[len(list_minus)//4:]\n",
    "    #commented 22/05 -p\n",
    "    #list_leq = list_leq[len(list_leq)//4:]\n",
    "    #list_geq = list_geq[len(list_geq)//4:]\n",
    "    #list_neq = list_neq[len(list_neq)//4:]\n",
    "    #list_equal = list_equal[len(list_equal)//4:]\n",
    "    list_sin = list_sin[len(list_sin)//4:]   #added 22/05 -p\n",
    "    list_cos = list_cos[len(list_cos)//4:]   #added 22/05 -p\n",
    "    list_tan = list_tan[len(list_tan)//4:]   #added 22/05 -p\n",
    "    #list_alpha = list_alpha[len(list_alpha)//4:]\n",
    "    #list_beta = list_beta[len(list_beta)//4:]\n",
    "    #list_lambda = list_lambda[len(list_lambda)//4:]\n",
    "    list_x = list_x[len(list_x)//4:]\n",
    "    #list_y = list_y[len(list_y)//4:]\n",
    "else:\n",
    "    for i in range(10):\n",
    "        list_digits[i] = list_digits[i][:len(list_digits[i])//4]\n",
    "    list_int = list_int[:len(list_int)//4]      #added 21/05 -vikram \n",
    "    list_plus = list_plus[:len(list_plus)//4]\n",
    "    list_minus = list_minus[:len(list_minus)//4]\n",
    "    #commented 22/05 -p\n",
    "    #list_leq = list_leq[:len(list_leq)//4]\n",
    "    #list_geq = list_geq[:len(list_geq)//4]\n",
    "    #list_neq = list_neq[:len(list_neq)//4]\n",
    "    #list_equal = list_equal[:len(list_equal)//4]\n",
    "    list_sin = list_sin[:len(list_sin)//4]   #added 22/05 -p\n",
    "    list_cos = list_cos[:len(list_cos)//4]   #added 22/05 -p\n",
    "    list_tan = list_tan[:len(list_tan)//4]   #added 22/05 -p\n",
    "    #list_alpha = list_alpha[:len(list_alpha)//4]\n",
    "    #list_beta = list_beta[:len(list_beta)//4]\n",
    "    #list_lambda = list_lambda[:len(list_lambda)//4]\n",
    "    list_x = list_x[:len(list_x)//4]\n",
    "    #list_y = list_y[:len(list_y)//4]\n",
    "\n",
    "list_mid = [list_minus,list_plus]\n",
    "#commented 22/05 -p\n",
    "#list_end = [list_leq,list_geq,list_neq,list_equal]\n",
    "list_end = [list_sin,list_cos,list_tan]  #added 22/05 -p\n",
    "#list_variables = [list_alpha,list_beta,list_lambda,list_x,list_y]\n",
    "list_variables = [list_x]  #added 22/05 -p\n",
    "var_names = [\"x\"]\n",
    "    \n",
    "# os.mkdir(write_path_add)\n",
    "bounding_boxes = []\n",
    "for i in range(20000):\n",
    "    random_name = str(np.random.randint(1,99999))\n",
    "    img = np.zeros((200,75*(4+4+4)))\n",
    "    rand_num_1 = np.random.randint(1,1000)\n",
    "    rand_num_1_1 = np.random.randint(1,1000)\n",
    "    rand_num_2 = np.random.randint(1,1000)\n",
    "    mid = np.random.randint(2)\n",
    "    if mid:\n",
    "        mid_str = \"+\"\n",
    "        result = rand_num_1+rand_num_2\n",
    "    else:\n",
    "        mid_str = \"-\"\n",
    "        result = rand_num_1-rand_num_2\n",
    "    result_type = np.random.randint(3)\n",
    "    if result_type == 0:\n",
    "        #end_str = \" #leq \"\n",
    "        end_str = \" #sin\"\n",
    "        result += np.random.randint(100)\n",
    "    elif result_type == 1:\n",
    "        #end_str = \" #geq \"\n",
    "        end_str = \" #cos \"\n",
    "        result -= np.random.randint(100)\n",
    "    elif result_type == 2:\n",
    "        #end_str = \" #neq \"\n",
    "        end_str = \" #tan \"\n",
    "        result += 1+np.random.randint(100)\n",
    "    else:\n",
    "        end_str = \" = \"\n",
    "    if end_str != \" = \":\n",
    "        var_type = np.random.randint(len(list_variables))\n",
    "        var = var_names[var_type]\n",
    "        exp = \"^\"+str(np.random.randint(2,5))\n",
    "    else:\n",
    "        var = \"\"\n",
    "        exp = \"\"\n",
    "    \n",
    "    rand_num_1_str = str(rand_num_1)\n",
    "    rand_num_1_1_str = str(rand_num_1_1)\n",
    "    rand_num_2_str = str(rand_num_2)\n",
    "    result_str = str(result)\n",
    "    num_strs = [rand_num_1_str,rand_num_1_1_str,rand_num_2_str,result_str]\n",
    "    filename = \"#frac{\"+rand_num_1_str+\"}{\"+rand_num_1_1_str+\"}\"+var+exp+mid_str+rand_num_2_str+end_str+result_str+\"_\"+random_name+\".jpg\"\n",
    "    print(\"Filename: \", filename)\n",
    "    bounding_box = [{'filename': filename}]\n",
    "    padding = 5\n",
    "    padding_den = 5\n",
    "    start_padding = 5\n",
    "    class_names = []\n",
    "    \n",
    "    ##adding the integral to image\n",
    "    digit = 'int'\n",
    "    img, padding, new_bounding_box = add_symbol_to_image(img,'int',list_int,\n",
    "                                                                     padding,90,95)\n",
    "    bounding_box.append(new_bounding_box)\n",
    "    class_names.append('int')\n",
    "    #added 21/05 - v\n",
    "    \n",
    "    for k in range(len(num_strs)):\n",
    "        for j in range(len(num_strs[k])):   \n",
    "            if j == 0 and num_strs[k][0] == '-':\n",
    "                img, padding, new_bounding_box = add_symbol_to_image(img,'-',list_minus,padding,39,45)\n",
    "                bounding_box.append(new_bounding_box)\n",
    "                class_names.append('-')\n",
    "            elif k == 0:\n",
    "                digit = int(num_strs[k][j])\n",
    "                img, padding, new_bounding_box = add_symbol_to_image(img,str(digit),list_digits[digit],\n",
    "                                                                     padding,40,45,bnom=True)\n",
    "                bounding_box.append(new_bounding_box)\n",
    "                class_names.append(str(digit))\n",
    "            elif k == 1:\n",
    "                digit = int(num_strs[k][j])\n",
    "                img, padding_den, new_bounding_box = add_symbol_to_image(img,str(digit),list_digits[digit],\n",
    "                                                                     padding_den,40,45,bden=True)\n",
    "                bounding_box.append(new_bounding_box)\n",
    "                class_names.append(str(digit))\n",
    "            else:               \n",
    "                digit = int(num_strs[k][j])\n",
    "                img, padding, new_bounding_box = add_symbol_to_image(img,str(digit),list_digits[digit],\n",
    "                                                                     padding,55,60)\n",
    "                bounding_box.append(new_bounding_box)\n",
    "                class_names.append(str(digit))\n",
    "        if k == 1:\n",
    "            mpad = padding if padding > padding_den else padding_den\n",
    "            img, padding, new_bounding_box = add_symbol_to_image(img,'-',list_minus,start_padding,39,45,\n",
    "                                                                 width=mpad-start_padding)\n",
    "            bounding_box.append(new_bounding_box)\n",
    "            class_names.append('-')\n",
    "        if k == 1:\n",
    "            if var != \"\":\n",
    "                var_str_crop = var.strip()\n",
    "                var_str_crop = var_str_crop.replace(\"#\",\"\")\n",
    "                img, padding, new_bounding_box = add_symbol_to_image(img,var_str_crop,list_variables[var_type],\n",
    "                                                                     padding,40,45,bsmall=True)\n",
    "                bounding_box.append(new_bounding_box)\n",
    "                class_names.append(var_str_crop)\n",
    "                \n",
    "                pdigit = int(exp[1:])\n",
    "                img, padding, new_bounding_box = add_symbol_to_image(img,str(pdigit),list_digits[pdigit],\n",
    "                                                                     padding,35,40,bpower=True)\n",
    "                bounding_box.append(new_bounding_box)\n",
    "                class_names.append(exp[1:])\n",
    "                \n",
    "            img, padding, new_bounding_box = add_symbol_to_image(img,mid_str,list_mid[mid],\n",
    "                                                                     padding,39,54)\n",
    "            bounding_box.append(new_bounding_box)\n",
    "            class_names.append(mid_str)\n",
    "        elif k == 2:\n",
    "            end_str_crop = end_str.strip()\n",
    "            end_str_crop = end_str_crop.replace(\"#\",\"\")\n",
    "            img, padding, new_bounding_box = add_symbol_to_image(img,end_str_crop,list_end[result_type],\n",
    "                                                                     padding,39,54)\n",
    "            bounding_box.append(new_bounding_box)\n",
    "            class_names.append(end_str_crop)\n",
    "            ##adding the dx to image\n",
    "    img, padding, new_bounding_box = add_symbol_to_image(img,'d',list_d,\n",
    "                                                                     padding,50,55)\n",
    "    bounding_box.append(new_bounding_box)\n",
    "    class_names.append('d')\n",
    "    img, padding, new_bounding_box = add_symbol_to_image(img,'x',list_x,\n",
    "                                                                     padding,50,55)\n",
    "    bounding_box.append(new_bounding_box)\n",
    "    class_names.append('x')\n",
    "    \n",
    "    #added 21/05 - v \n",
    "    bounding_boxes.append(bounding_box)\n",
    "    img = invert(img)+254\n",
    "#     plt.figure(figsize=(20,10))\n",
    "#     plt.imshow(img, cmap=\"gray\")\n",
    "#     plt.show()\n",
    "    \"\"\"\n",
    "    for bb,cname in zip(bounding_box[1:],class_names):\n",
    "        xmin, xmax = bb['xmin'], bb['xmax']\n",
    "        ymin, ymax = bb['ymin'], bb['ymax']\n",
    "    \n",
    "        normed = normalize_single(img[ymin:ymax+1,xmin:xmax+1])\n",
    "        r = np.random.randint(9999)\n",
    "        io.imsave(write_single_path+\"/\"+cname+\"/\"+cname+\"_\"+str(r)+\".jpg\", normed)\n",
    "    \"\"\"\n",
    "    io.imsave(formula_path+\"/\"+filename, img/255)\n",
    "    print(\"Finished: \", i)"
   ]
  },
  {
   "cell_type": "code",
   "execution_count": null,
   "metadata": {},
   "outputs": [],
   "source": []
  }
 ],
 "metadata": {
  "kernelspec": {
   "display_name": "Python 3",
   "language": "python",
   "name": "python3"
  },
  "language_info": {
   "codemirror_mode": {
    "name": "ipython",
    "version": 3
   },
   "file_extension": ".py",
   "mimetype": "text/x-python",
   "name": "python",
   "nbconvert_exporter": "python",
   "pygments_lexer": "ipython3",
   "version": "3.8.3"
  }
 },
 "nbformat": 4,
 "nbformat_minor": 2
}
